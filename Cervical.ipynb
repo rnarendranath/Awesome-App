{
  "nbformat": 4,
  "nbformat_minor": 0,
  "metadata": {
    "colab": {
      "provenance": [],
      "include_colab_link": true
    },
    "kernelspec": {
      "name": "python3",
      "display_name": "Python 3"
    }
  },
  "cells": [
    {
      "cell_type": "markdown",
      "metadata": {
        "id": "view-in-github",
        "colab_type": "text"
      },
      "source": [
        "<a href=\"https://colab.research.google.com/github/rnarendranath/Awesome-App/blob/master/Cervical.ipynb\" target=\"_parent\"><img src=\"https://colab.research.google.com/assets/colab-badge.svg\" alt=\"Open In Colab\"/></a>"
      ]
    },
    {
      "metadata": {
        "id": "mwxBZ0MqOH6A"
      },
      "cell_type": "markdown",
      "source": [
        "**Installing Libraries**"
      ]
    },
    {
      "metadata": {
        "id": "4xJr9AYoM5sS",
        "colab": {
          "base_uri": "https://localhost:8080/",
          "height": 74
        },
        "outputId": "e15387a0-3e81-462b-e2cb-c371f222bb8f"
      },
      "cell_type": "code",
      "source": [
        "import numpy as np\n",
        "import pandas as pd\n",
        "!pip install catboost\n",
        "import matplotlib.pyplot as plt\n",
        "import seaborn as sns\n",
        "from google.colab import files\n",
        "\n",
        "uploaded=files.upload()\n"
      ],
      "execution_count": 161,
      "outputs": [
        {
          "output_type": "display_data",
          "data": {
            "text/plain": [
              "<IPython.core.display.HTML object>"
            ],
            "text/html": [
              "\n",
              "     <input type=\"file\" id=\"files-73fd8684-f3e7-4eae-acc8-314231c6155d\" name=\"files[]\" multiple disabled\n",
              "        style=\"border:none\" />\n",
              "     <output id=\"result-73fd8684-f3e7-4eae-acc8-314231c6155d\">\n",
              "      Upload widget is only available when the cell has been executed in the\n",
              "      current browser session. Please rerun this cell to enable.\n",
              "      </output>\n",
              "      <script>// Copyright 2017 Google LLC\n",
              "//\n",
              "// Licensed under the Apache License, Version 2.0 (the \"License\");\n",
              "// you may not use this file except in compliance with the License.\n",
              "// You may obtain a copy of the License at\n",
              "//\n",
              "//      http://www.apache.org/licenses/LICENSE-2.0\n",
              "//\n",
              "// Unless required by applicable law or agreed to in writing, software\n",
              "// distributed under the License is distributed on an \"AS IS\" BASIS,\n",
              "// WITHOUT WARRANTIES OR CONDITIONS OF ANY KIND, either express or implied.\n",
              "// See the License for the specific language governing permissions and\n",
              "// limitations under the License.\n",
              "\n",
              "/**\n",
              " * @fileoverview Helpers for google.colab Python module.\n",
              " */\n",
              "(function(scope) {\n",
              "function span(text, styleAttributes = {}) {\n",
              "  const element = document.createElement('span');\n",
              "  element.textContent = text;\n",
              "  for (const key of Object.keys(styleAttributes)) {\n",
              "    element.style[key] = styleAttributes[key];\n",
              "  }\n",
              "  return element;\n",
              "}\n",
              "\n",
              "// Max number of bytes which will be uploaded at a time.\n",
              "const MAX_PAYLOAD_SIZE = 100 * 1024;\n",
              "\n",
              "function _uploadFiles(inputId, outputId) {\n",
              "  const steps = uploadFilesStep(inputId, outputId);\n",
              "  const outputElement = document.getElementById(outputId);\n",
              "  // Cache steps on the outputElement to make it available for the next call\n",
              "  // to uploadFilesContinue from Python.\n",
              "  outputElement.steps = steps;\n",
              "\n",
              "  return _uploadFilesContinue(outputId);\n",
              "}\n",
              "\n",
              "// This is roughly an async generator (not supported in the browser yet),\n",
              "// where there are multiple asynchronous steps and the Python side is going\n",
              "// to poll for completion of each step.\n",
              "// This uses a Promise to block the python side on completion of each step,\n",
              "// then passes the result of the previous step as the input to the next step.\n",
              "function _uploadFilesContinue(outputId) {\n",
              "  const outputElement = document.getElementById(outputId);\n",
              "  const steps = outputElement.steps;\n",
              "\n",
              "  const next = steps.next(outputElement.lastPromiseValue);\n",
              "  return Promise.resolve(next.value.promise).then((value) => {\n",
              "    // Cache the last promise value to make it available to the next\n",
              "    // step of the generator.\n",
              "    outputElement.lastPromiseValue = value;\n",
              "    return next.value.response;\n",
              "  });\n",
              "}\n",
              "\n",
              "/**\n",
              " * Generator function which is called between each async step of the upload\n",
              " * process.\n",
              " * @param {string} inputId Element ID of the input file picker element.\n",
              " * @param {string} outputId Element ID of the output display.\n",
              " * @return {!Iterable<!Object>} Iterable of next steps.\n",
              " */\n",
              "function* uploadFilesStep(inputId, outputId) {\n",
              "  const inputElement = document.getElementById(inputId);\n",
              "  inputElement.disabled = false;\n",
              "\n",
              "  const outputElement = document.getElementById(outputId);\n",
              "  outputElement.innerHTML = '';\n",
              "\n",
              "  const pickedPromise = new Promise((resolve) => {\n",
              "    inputElement.addEventListener('change', (e) => {\n",
              "      resolve(e.target.files);\n",
              "    });\n",
              "  });\n",
              "\n",
              "  const cancel = document.createElement('button');\n",
              "  inputElement.parentElement.appendChild(cancel);\n",
              "  cancel.textContent = 'Cancel upload';\n",
              "  const cancelPromise = new Promise((resolve) => {\n",
              "    cancel.onclick = () => {\n",
              "      resolve(null);\n",
              "    };\n",
              "  });\n",
              "\n",
              "  // Wait for the user to pick the files.\n",
              "  const files = yield {\n",
              "    promise: Promise.race([pickedPromise, cancelPromise]),\n",
              "    response: {\n",
              "      action: 'starting',\n",
              "    }\n",
              "  };\n",
              "\n",
              "  cancel.remove();\n",
              "\n",
              "  // Disable the input element since further picks are not allowed.\n",
              "  inputElement.disabled = true;\n",
              "\n",
              "  if (!files) {\n",
              "    return {\n",
              "      response: {\n",
              "        action: 'complete',\n",
              "      }\n",
              "    };\n",
              "  }\n",
              "\n",
              "  for (const file of files) {\n",
              "    const li = document.createElement('li');\n",
              "    li.append(span(file.name, {fontWeight: 'bold'}));\n",
              "    li.append(span(\n",
              "        `(${file.type || 'n/a'}) - ${file.size} bytes, ` +\n",
              "        `last modified: ${\n",
              "            file.lastModifiedDate ? file.lastModifiedDate.toLocaleDateString() :\n",
              "                                    'n/a'} - `));\n",
              "    const percent = span('0% done');\n",
              "    li.appendChild(percent);\n",
              "\n",
              "    outputElement.appendChild(li);\n",
              "\n",
              "    const fileDataPromise = new Promise((resolve) => {\n",
              "      const reader = new FileReader();\n",
              "      reader.onload = (e) => {\n",
              "        resolve(e.target.result);\n",
              "      };\n",
              "      reader.readAsArrayBuffer(file);\n",
              "    });\n",
              "    // Wait for the data to be ready.\n",
              "    let fileData = yield {\n",
              "      promise: fileDataPromise,\n",
              "      response: {\n",
              "        action: 'continue',\n",
              "      }\n",
              "    };\n",
              "\n",
              "    // Use a chunked sending to avoid message size limits. See b/62115660.\n",
              "    let position = 0;\n",
              "    do {\n",
              "      const length = Math.min(fileData.byteLength - position, MAX_PAYLOAD_SIZE);\n",
              "      const chunk = new Uint8Array(fileData, position, length);\n",
              "      position += length;\n",
              "\n",
              "      const base64 = btoa(String.fromCharCode.apply(null, chunk));\n",
              "      yield {\n",
              "        response: {\n",
              "          action: 'append',\n",
              "          file: file.name,\n",
              "          data: base64,\n",
              "        },\n",
              "      };\n",
              "\n",
              "      let percentDone = fileData.byteLength === 0 ?\n",
              "          100 :\n",
              "          Math.round((position / fileData.byteLength) * 100);\n",
              "      percent.textContent = `${percentDone}% done`;\n",
              "\n",
              "    } while (position < fileData.byteLength);\n",
              "  }\n",
              "\n",
              "  // All done.\n",
              "  yield {\n",
              "    response: {\n",
              "      action: 'complete',\n",
              "    }\n",
              "  };\n",
              "}\n",
              "\n",
              "scope.google = scope.google || {};\n",
              "scope.google.colab = scope.google.colab || {};\n",
              "scope.google.colab._files = {\n",
              "  _uploadFiles,\n",
              "  _uploadFilesContinue,\n",
              "};\n",
              "})(self);\n",
              "</script> "
            ]
          },
          "metadata": {}
        },
        {
          "output_type": "stream",
          "name": "stdout",
          "text": [
            "Saving kag_risk_factors_cervical_cancer.csv to kag_risk_factors_cervical_cancer (2).csv\n"
          ]
        }
      ]
    },
    {
      "metadata": {
        "id": "Ypt-ibyqOXWX"
      },
      "cell_type": "markdown",
      "source": [
        "**Importing the Dataset**"
      ]
    },
    {
      "metadata": {
        "id": "Mta7JhDxOWpQ",
        "colab": {
          "base_uri": "https://localhost:8080/",
          "height": 387
        },
        "outputId": "924edf21-6718-40bb-ee7e-47ab8a935ea9"
      },
      "cell_type": "code",
      "source": [
        "data = pd.read_csv(\"kag_risk_factors_cervical_cancer.csv\")\n",
        "\n",
        "print(data.shape)\n",
        "\n",
        "data.head()"
      ],
      "execution_count": 162,
      "outputs": [
        {
          "output_type": "stream",
          "name": "stdout",
          "text": [
            "(858, 36)\n"
          ]
        },
        {
          "output_type": "execute_result",
          "data": {
            "text/plain": [
              "   Age Number of sexual partners First sexual intercourse Num of pregnancies  \\\n",
              "0   18                       4.0                     15.0                1.0   \n",
              "1   15                       1.0                     14.0                1.0   \n",
              "2   34                       1.0                        ?                1.0   \n",
              "3   52                       5.0                     16.0                4.0   \n",
              "4   46                       3.0                     21.0                4.0   \n",
              "\n",
              "  Smokes Smokes (years) Smokes (packs/year) Hormonal Contraceptives  \\\n",
              "0    0.0            0.0                 0.0                     0.0   \n",
              "1    0.0            0.0                 0.0                     0.0   \n",
              "2    0.0            0.0                 0.0                     0.0   \n",
              "3    1.0           37.0                37.0                     1.0   \n",
              "4    0.0            0.0                 0.0                     1.0   \n",
              "\n",
              "  Hormonal Contraceptives (years)  IUD  ... STDs: Time since first diagnosis  \\\n",
              "0                             0.0  0.0  ...                                ?   \n",
              "1                             0.0  0.0  ...                                ?   \n",
              "2                             0.0  0.0  ...                                ?   \n",
              "3                             3.0  0.0  ...                                ?   \n",
              "4                            15.0  0.0  ...                                ?   \n",
              "\n",
              "  STDs: Time since last diagnosis Dx:Cancer Dx:CIN Dx:HPV Dx Hinselmann  \\\n",
              "0                               ?         0      0      0  0          0   \n",
              "1                               ?         0      0      0  0          0   \n",
              "2                               ?         0      0      0  0          0   \n",
              "3                               ?         1      0      1  0          0   \n",
              "4                               ?         0      0      0  0          0   \n",
              "\n",
              "  Schiller Citology Biopsy  \n",
              "0        0        0      0  \n",
              "1        0        0      0  \n",
              "2        0        0      0  \n",
              "3        0        0      0  \n",
              "4        0        0      0  \n",
              "\n",
              "[5 rows x 36 columns]"
            ],
            "text/html": [
              "\n",
              "  <div id=\"df-30053ddc-9c3e-4691-be5a-9854e901ef56\">\n",
              "    <div class=\"colab-df-container\">\n",
              "      <div>\n",
              "<style scoped>\n",
              "    .dataframe tbody tr th:only-of-type {\n",
              "        vertical-align: middle;\n",
              "    }\n",
              "\n",
              "    .dataframe tbody tr th {\n",
              "        vertical-align: top;\n",
              "    }\n",
              "\n",
              "    .dataframe thead th {\n",
              "        text-align: right;\n",
              "    }\n",
              "</style>\n",
              "<table border=\"1\" class=\"dataframe\">\n",
              "  <thead>\n",
              "    <tr style=\"text-align: right;\">\n",
              "      <th></th>\n",
              "      <th>Age</th>\n",
              "      <th>Number of sexual partners</th>\n",
              "      <th>First sexual intercourse</th>\n",
              "      <th>Num of pregnancies</th>\n",
              "      <th>Smokes</th>\n",
              "      <th>Smokes (years)</th>\n",
              "      <th>Smokes (packs/year)</th>\n",
              "      <th>Hormonal Contraceptives</th>\n",
              "      <th>Hormonal Contraceptives (years)</th>\n",
              "      <th>IUD</th>\n",
              "      <th>...</th>\n",
              "      <th>STDs: Time since first diagnosis</th>\n",
              "      <th>STDs: Time since last diagnosis</th>\n",
              "      <th>Dx:Cancer</th>\n",
              "      <th>Dx:CIN</th>\n",
              "      <th>Dx:HPV</th>\n",
              "      <th>Dx</th>\n",
              "      <th>Hinselmann</th>\n",
              "      <th>Schiller</th>\n",
              "      <th>Citology</th>\n",
              "      <th>Biopsy</th>\n",
              "    </tr>\n",
              "  </thead>\n",
              "  <tbody>\n",
              "    <tr>\n",
              "      <th>0</th>\n",
              "      <td>18</td>\n",
              "      <td>4.0</td>\n",
              "      <td>15.0</td>\n",
              "      <td>1.0</td>\n",
              "      <td>0.0</td>\n",
              "      <td>0.0</td>\n",
              "      <td>0.0</td>\n",
              "      <td>0.0</td>\n",
              "      <td>0.0</td>\n",
              "      <td>0.0</td>\n",
              "      <td>...</td>\n",
              "      <td>?</td>\n",
              "      <td>?</td>\n",
              "      <td>0</td>\n",
              "      <td>0</td>\n",
              "      <td>0</td>\n",
              "      <td>0</td>\n",
              "      <td>0</td>\n",
              "      <td>0</td>\n",
              "      <td>0</td>\n",
              "      <td>0</td>\n",
              "    </tr>\n",
              "    <tr>\n",
              "      <th>1</th>\n",
              "      <td>15</td>\n",
              "      <td>1.0</td>\n",
              "      <td>14.0</td>\n",
              "      <td>1.0</td>\n",
              "      <td>0.0</td>\n",
              "      <td>0.0</td>\n",
              "      <td>0.0</td>\n",
              "      <td>0.0</td>\n",
              "      <td>0.0</td>\n",
              "      <td>0.0</td>\n",
              "      <td>...</td>\n",
              "      <td>?</td>\n",
              "      <td>?</td>\n",
              "      <td>0</td>\n",
              "      <td>0</td>\n",
              "      <td>0</td>\n",
              "      <td>0</td>\n",
              "      <td>0</td>\n",
              "      <td>0</td>\n",
              "      <td>0</td>\n",
              "      <td>0</td>\n",
              "    </tr>\n",
              "    <tr>\n",
              "      <th>2</th>\n",
              "      <td>34</td>\n",
              "      <td>1.0</td>\n",
              "      <td>?</td>\n",
              "      <td>1.0</td>\n",
              "      <td>0.0</td>\n",
              "      <td>0.0</td>\n",
              "      <td>0.0</td>\n",
              "      <td>0.0</td>\n",
              "      <td>0.0</td>\n",
              "      <td>0.0</td>\n",
              "      <td>...</td>\n",
              "      <td>?</td>\n",
              "      <td>?</td>\n",
              "      <td>0</td>\n",
              "      <td>0</td>\n",
              "      <td>0</td>\n",
              "      <td>0</td>\n",
              "      <td>0</td>\n",
              "      <td>0</td>\n",
              "      <td>0</td>\n",
              "      <td>0</td>\n",
              "    </tr>\n",
              "    <tr>\n",
              "      <th>3</th>\n",
              "      <td>52</td>\n",
              "      <td>5.0</td>\n",
              "      <td>16.0</td>\n",
              "      <td>4.0</td>\n",
              "      <td>1.0</td>\n",
              "      <td>37.0</td>\n",
              "      <td>37.0</td>\n",
              "      <td>1.0</td>\n",
              "      <td>3.0</td>\n",
              "      <td>0.0</td>\n",
              "      <td>...</td>\n",
              "      <td>?</td>\n",
              "      <td>?</td>\n",
              "      <td>1</td>\n",
              "      <td>0</td>\n",
              "      <td>1</td>\n",
              "      <td>0</td>\n",
              "      <td>0</td>\n",
              "      <td>0</td>\n",
              "      <td>0</td>\n",
              "      <td>0</td>\n",
              "    </tr>\n",
              "    <tr>\n",
              "      <th>4</th>\n",
              "      <td>46</td>\n",
              "      <td>3.0</td>\n",
              "      <td>21.0</td>\n",
              "      <td>4.0</td>\n",
              "      <td>0.0</td>\n",
              "      <td>0.0</td>\n",
              "      <td>0.0</td>\n",
              "      <td>1.0</td>\n",
              "      <td>15.0</td>\n",
              "      <td>0.0</td>\n",
              "      <td>...</td>\n",
              "      <td>?</td>\n",
              "      <td>?</td>\n",
              "      <td>0</td>\n",
              "      <td>0</td>\n",
              "      <td>0</td>\n",
              "      <td>0</td>\n",
              "      <td>0</td>\n",
              "      <td>0</td>\n",
              "      <td>0</td>\n",
              "      <td>0</td>\n",
              "    </tr>\n",
              "  </tbody>\n",
              "</table>\n",
              "<p>5 rows × 36 columns</p>\n",
              "</div>\n",
              "      <button class=\"colab-df-convert\" onclick=\"convertToInteractive('df-30053ddc-9c3e-4691-be5a-9854e901ef56')\"\n",
              "              title=\"Convert this dataframe to an interactive table.\"\n",
              "              style=\"display:none;\">\n",
              "        \n",
              "  <svg xmlns=\"http://www.w3.org/2000/svg\" height=\"24px\"viewBox=\"0 0 24 24\"\n",
              "       width=\"24px\">\n",
              "    <path d=\"M0 0h24v24H0V0z\" fill=\"none\"/>\n",
              "    <path d=\"M18.56 5.44l.94 2.06.94-2.06 2.06-.94-2.06-.94-.94-2.06-.94 2.06-2.06.94zm-11 1L8.5 8.5l.94-2.06 2.06-.94-2.06-.94L8.5 2.5l-.94 2.06-2.06.94zm10 10l.94 2.06.94-2.06 2.06-.94-2.06-.94-.94-2.06-.94 2.06-2.06.94z\"/><path d=\"M17.41 7.96l-1.37-1.37c-.4-.4-.92-.59-1.43-.59-.52 0-1.04.2-1.43.59L10.3 9.45l-7.72 7.72c-.78.78-.78 2.05 0 2.83L4 21.41c.39.39.9.59 1.41.59.51 0 1.02-.2 1.41-.59l7.78-7.78 2.81-2.81c.8-.78.8-2.07 0-2.86zM5.41 20L4 18.59l7.72-7.72 1.47 1.35L5.41 20z\"/>\n",
              "  </svg>\n",
              "      </button>\n",
              "      \n",
              "  <style>\n",
              "    .colab-df-container {\n",
              "      display:flex;\n",
              "      flex-wrap:wrap;\n",
              "      gap: 12px;\n",
              "    }\n",
              "\n",
              "    .colab-df-convert {\n",
              "      background-color: #E8F0FE;\n",
              "      border: none;\n",
              "      border-radius: 50%;\n",
              "      cursor: pointer;\n",
              "      display: none;\n",
              "      fill: #1967D2;\n",
              "      height: 32px;\n",
              "      padding: 0 0 0 0;\n",
              "      width: 32px;\n",
              "    }\n",
              "\n",
              "    .colab-df-convert:hover {\n",
              "      background-color: #E2EBFA;\n",
              "      box-shadow: 0px 1px 2px rgba(60, 64, 67, 0.3), 0px 1px 3px 1px rgba(60, 64, 67, 0.15);\n",
              "      fill: #174EA6;\n",
              "    }\n",
              "\n",
              "    [theme=dark] .colab-df-convert {\n",
              "      background-color: #3B4455;\n",
              "      fill: #D2E3FC;\n",
              "    }\n",
              "\n",
              "    [theme=dark] .colab-df-convert:hover {\n",
              "      background-color: #434B5C;\n",
              "      box-shadow: 0px 1px 3px 1px rgba(0, 0, 0, 0.15);\n",
              "      filter: drop-shadow(0px 1px 2px rgba(0, 0, 0, 0.3));\n",
              "      fill: #FFFFFF;\n",
              "    }\n",
              "  </style>\n",
              "\n",
              "      <script>\n",
              "        const buttonEl =\n",
              "          document.querySelector('#df-30053ddc-9c3e-4691-be5a-9854e901ef56 button.colab-df-convert');\n",
              "        buttonEl.style.display =\n",
              "          google.colab.kernel.accessAllowed ? 'block' : 'none';\n",
              "\n",
              "        async function convertToInteractive(key) {\n",
              "          const element = document.querySelector('#df-30053ddc-9c3e-4691-be5a-9854e901ef56');\n",
              "          const dataTable =\n",
              "            await google.colab.kernel.invokeFunction('convertToInteractive',\n",
              "                                                     [key], {});\n",
              "          if (!dataTable) return;\n",
              "\n",
              "          const docLinkHtml = 'Like what you see? Visit the ' +\n",
              "            '<a target=\"_blank\" href=https://colab.research.google.com/notebooks/data_table.ipynb>data table notebook</a>'\n",
              "            + ' to learn more about interactive tables.';\n",
              "          element.innerHTML = '';\n",
              "          dataTable['output_type'] = 'display_data';\n",
              "          await google.colab.output.renderOutput(dataTable, element);\n",
              "          const docLink = document.createElement('div');\n",
              "          docLink.innerHTML = docLinkHtml;\n",
              "          element.appendChild(docLink);\n",
              "        }\n",
              "      </script>\n",
              "    </div>\n",
              "  </div>\n",
              "  "
            ]
          },
          "metadata": {},
          "execution_count": 162
        }
      ]
    },
    {
      "metadata": {
        "id": "M2IVvTPwOvAH",
        "colab": {
          "base_uri": "https://localhost:8080/"
        },
        "outputId": "ddcd2180-2a8d-44cf-f501-70e8ec29053f"
      },
      "cell_type": "code",
      "source": [
        "data.info()"
      ],
      "execution_count": 163,
      "outputs": [
        {
          "output_type": "stream",
          "name": "stdout",
          "text": [
            "<class 'pandas.core.frame.DataFrame'>\n",
            "RangeIndex: 858 entries, 0 to 857\n",
            "Data columns (total 36 columns):\n",
            " #   Column                              Non-Null Count  Dtype \n",
            "---  ------                              --------------  ----- \n",
            " 0   Age                                 858 non-null    int64 \n",
            " 1   Number of sexual partners           858 non-null    object\n",
            " 2   First sexual intercourse            858 non-null    object\n",
            " 3   Num of pregnancies                  858 non-null    object\n",
            " 4   Smokes                              858 non-null    object\n",
            " 5   Smokes (years)                      858 non-null    object\n",
            " 6   Smokes (packs/year)                 858 non-null    object\n",
            " 7   Hormonal Contraceptives             858 non-null    object\n",
            " 8   Hormonal Contraceptives (years)     858 non-null    object\n",
            " 9   IUD                                 858 non-null    object\n",
            " 10  IUD (years)                         858 non-null    object\n",
            " 11  STDs                                858 non-null    object\n",
            " 12  STDs (number)                       858 non-null    object\n",
            " 13  STDs:condylomatosis                 858 non-null    object\n",
            " 14  STDs:cervical condylomatosis        858 non-null    object\n",
            " 15  STDs:vaginal condylomatosis         858 non-null    object\n",
            " 16  STDs:vulvo-perineal condylomatosis  858 non-null    object\n",
            " 17  STDs:syphilis                       858 non-null    object\n",
            " 18  STDs:pelvic inflammatory disease    858 non-null    object\n",
            " 19  STDs:genital herpes                 858 non-null    object\n",
            " 20  STDs:molluscum contagiosum          858 non-null    object\n",
            " 21  STDs:AIDS                           858 non-null    object\n",
            " 22  STDs:HIV                            858 non-null    object\n",
            " 23  STDs:Hepatitis B                    858 non-null    object\n",
            " 24  STDs:HPV                            858 non-null    object\n",
            " 25  STDs: Number of diagnosis           858 non-null    int64 \n",
            " 26  STDs: Time since first diagnosis    858 non-null    object\n",
            " 27  STDs: Time since last diagnosis     858 non-null    object\n",
            " 28  Dx:Cancer                           858 non-null    int64 \n",
            " 29  Dx:CIN                              858 non-null    int64 \n",
            " 30  Dx:HPV                              858 non-null    int64 \n",
            " 31  Dx                                  858 non-null    int64 \n",
            " 32  Hinselmann                          858 non-null    int64 \n",
            " 33  Schiller                            858 non-null    int64 \n",
            " 34  Citology                            858 non-null    int64 \n",
            " 35  Biopsy                              858 non-null    int64 \n",
            "dtypes: int64(10), object(26)\n",
            "memory usage: 241.4+ KB\n"
          ]
        }
      ]
    },
    {
      "metadata": {
        "id": "ie_8r5BmPF4P",
        "colab": {
          "base_uri": "https://localhost:8080/",
          "height": 300
        },
        "outputId": "93eb25a7-3e66-42af-a954-d7ec32c0e4d8"
      },
      "cell_type": "code",
      "source": [
        "data.describe()"
      ],
      "execution_count": 164,
      "outputs": [
        {
          "output_type": "execute_result",
          "data": {
            "text/plain": [
              "              Age  STDs: Number of diagnosis   Dx:Cancer      Dx:CIN  \\\n",
              "count  858.000000                 858.000000  858.000000  858.000000   \n",
              "mean    26.820513                   0.087413    0.020979    0.010490   \n",
              "std      8.497948                   0.302545    0.143398    0.101939   \n",
              "min     13.000000                   0.000000    0.000000    0.000000   \n",
              "25%     20.000000                   0.000000    0.000000    0.000000   \n",
              "50%     25.000000                   0.000000    0.000000    0.000000   \n",
              "75%     32.000000                   0.000000    0.000000    0.000000   \n",
              "max     84.000000                   3.000000    1.000000    1.000000   \n",
              "\n",
              "           Dx:HPV          Dx  Hinselmann    Schiller    Citology      Biopsy  \n",
              "count  858.000000  858.000000  858.000000  858.000000  858.000000  858.000000  \n",
              "mean     0.020979    0.027972    0.040793    0.086247    0.051282    0.064103  \n",
              "std      0.143398    0.164989    0.197925    0.280892    0.220701    0.245078  \n",
              "min      0.000000    0.000000    0.000000    0.000000    0.000000    0.000000  \n",
              "25%      0.000000    0.000000    0.000000    0.000000    0.000000    0.000000  \n",
              "50%      0.000000    0.000000    0.000000    0.000000    0.000000    0.000000  \n",
              "75%      0.000000    0.000000    0.000000    0.000000    0.000000    0.000000  \n",
              "max      1.000000    1.000000    1.000000    1.000000    1.000000    1.000000  "
            ],
            "text/html": [
              "\n",
              "  <div id=\"df-f2b2aabc-7788-4c2a-8bc1-24de52516404\">\n",
              "    <div class=\"colab-df-container\">\n",
              "      <div>\n",
              "<style scoped>\n",
              "    .dataframe tbody tr th:only-of-type {\n",
              "        vertical-align: middle;\n",
              "    }\n",
              "\n",
              "    .dataframe tbody tr th {\n",
              "        vertical-align: top;\n",
              "    }\n",
              "\n",
              "    .dataframe thead th {\n",
              "        text-align: right;\n",
              "    }\n",
              "</style>\n",
              "<table border=\"1\" class=\"dataframe\">\n",
              "  <thead>\n",
              "    <tr style=\"text-align: right;\">\n",
              "      <th></th>\n",
              "      <th>Age</th>\n",
              "      <th>STDs: Number of diagnosis</th>\n",
              "      <th>Dx:Cancer</th>\n",
              "      <th>Dx:CIN</th>\n",
              "      <th>Dx:HPV</th>\n",
              "      <th>Dx</th>\n",
              "      <th>Hinselmann</th>\n",
              "      <th>Schiller</th>\n",
              "      <th>Citology</th>\n",
              "      <th>Biopsy</th>\n",
              "    </tr>\n",
              "  </thead>\n",
              "  <tbody>\n",
              "    <tr>\n",
              "      <th>count</th>\n",
              "      <td>858.000000</td>\n",
              "      <td>858.000000</td>\n",
              "      <td>858.000000</td>\n",
              "      <td>858.000000</td>\n",
              "      <td>858.000000</td>\n",
              "      <td>858.000000</td>\n",
              "      <td>858.000000</td>\n",
              "      <td>858.000000</td>\n",
              "      <td>858.000000</td>\n",
              "      <td>858.000000</td>\n",
              "    </tr>\n",
              "    <tr>\n",
              "      <th>mean</th>\n",
              "      <td>26.820513</td>\n",
              "      <td>0.087413</td>\n",
              "      <td>0.020979</td>\n",
              "      <td>0.010490</td>\n",
              "      <td>0.020979</td>\n",
              "      <td>0.027972</td>\n",
              "      <td>0.040793</td>\n",
              "      <td>0.086247</td>\n",
              "      <td>0.051282</td>\n",
              "      <td>0.064103</td>\n",
              "    </tr>\n",
              "    <tr>\n",
              "      <th>std</th>\n",
              "      <td>8.497948</td>\n",
              "      <td>0.302545</td>\n",
              "      <td>0.143398</td>\n",
              "      <td>0.101939</td>\n",
              "      <td>0.143398</td>\n",
              "      <td>0.164989</td>\n",
              "      <td>0.197925</td>\n",
              "      <td>0.280892</td>\n",
              "      <td>0.220701</td>\n",
              "      <td>0.245078</td>\n",
              "    </tr>\n",
              "    <tr>\n",
              "      <th>min</th>\n",
              "      <td>13.000000</td>\n",
              "      <td>0.000000</td>\n",
              "      <td>0.000000</td>\n",
              "      <td>0.000000</td>\n",
              "      <td>0.000000</td>\n",
              "      <td>0.000000</td>\n",
              "      <td>0.000000</td>\n",
              "      <td>0.000000</td>\n",
              "      <td>0.000000</td>\n",
              "      <td>0.000000</td>\n",
              "    </tr>\n",
              "    <tr>\n",
              "      <th>25%</th>\n",
              "      <td>20.000000</td>\n",
              "      <td>0.000000</td>\n",
              "      <td>0.000000</td>\n",
              "      <td>0.000000</td>\n",
              "      <td>0.000000</td>\n",
              "      <td>0.000000</td>\n",
              "      <td>0.000000</td>\n",
              "      <td>0.000000</td>\n",
              "      <td>0.000000</td>\n",
              "      <td>0.000000</td>\n",
              "    </tr>\n",
              "    <tr>\n",
              "      <th>50%</th>\n",
              "      <td>25.000000</td>\n",
              "      <td>0.000000</td>\n",
              "      <td>0.000000</td>\n",
              "      <td>0.000000</td>\n",
              "      <td>0.000000</td>\n",
              "      <td>0.000000</td>\n",
              "      <td>0.000000</td>\n",
              "      <td>0.000000</td>\n",
              "      <td>0.000000</td>\n",
              "      <td>0.000000</td>\n",
              "    </tr>\n",
              "    <tr>\n",
              "      <th>75%</th>\n",
              "      <td>32.000000</td>\n",
              "      <td>0.000000</td>\n",
              "      <td>0.000000</td>\n",
              "      <td>0.000000</td>\n",
              "      <td>0.000000</td>\n",
              "      <td>0.000000</td>\n",
              "      <td>0.000000</td>\n",
              "      <td>0.000000</td>\n",
              "      <td>0.000000</td>\n",
              "      <td>0.000000</td>\n",
              "    </tr>\n",
              "    <tr>\n",
              "      <th>max</th>\n",
              "      <td>84.000000</td>\n",
              "      <td>3.000000</td>\n",
              "      <td>1.000000</td>\n",
              "      <td>1.000000</td>\n",
              "      <td>1.000000</td>\n",
              "      <td>1.000000</td>\n",
              "      <td>1.000000</td>\n",
              "      <td>1.000000</td>\n",
              "      <td>1.000000</td>\n",
              "      <td>1.000000</td>\n",
              "    </tr>\n",
              "  </tbody>\n",
              "</table>\n",
              "</div>\n",
              "      <button class=\"colab-df-convert\" onclick=\"convertToInteractive('df-f2b2aabc-7788-4c2a-8bc1-24de52516404')\"\n",
              "              title=\"Convert this dataframe to an interactive table.\"\n",
              "              style=\"display:none;\">\n",
              "        \n",
              "  <svg xmlns=\"http://www.w3.org/2000/svg\" height=\"24px\"viewBox=\"0 0 24 24\"\n",
              "       width=\"24px\">\n",
              "    <path d=\"M0 0h24v24H0V0z\" fill=\"none\"/>\n",
              "    <path d=\"M18.56 5.44l.94 2.06.94-2.06 2.06-.94-2.06-.94-.94-2.06-.94 2.06-2.06.94zm-11 1L8.5 8.5l.94-2.06 2.06-.94-2.06-.94L8.5 2.5l-.94 2.06-2.06.94zm10 10l.94 2.06.94-2.06 2.06-.94-2.06-.94-.94-2.06-.94 2.06-2.06.94z\"/><path d=\"M17.41 7.96l-1.37-1.37c-.4-.4-.92-.59-1.43-.59-.52 0-1.04.2-1.43.59L10.3 9.45l-7.72 7.72c-.78.78-.78 2.05 0 2.83L4 21.41c.39.39.9.59 1.41.59.51 0 1.02-.2 1.41-.59l7.78-7.78 2.81-2.81c.8-.78.8-2.07 0-2.86zM5.41 20L4 18.59l7.72-7.72 1.47 1.35L5.41 20z\"/>\n",
              "  </svg>\n",
              "      </button>\n",
              "      \n",
              "  <style>\n",
              "    .colab-df-container {\n",
              "      display:flex;\n",
              "      flex-wrap:wrap;\n",
              "      gap: 12px;\n",
              "    }\n",
              "\n",
              "    .colab-df-convert {\n",
              "      background-color: #E8F0FE;\n",
              "      border: none;\n",
              "      border-radius: 50%;\n",
              "      cursor: pointer;\n",
              "      display: none;\n",
              "      fill: #1967D2;\n",
              "      height: 32px;\n",
              "      padding: 0 0 0 0;\n",
              "      width: 32px;\n",
              "    }\n",
              "\n",
              "    .colab-df-convert:hover {\n",
              "      background-color: #E2EBFA;\n",
              "      box-shadow: 0px 1px 2px rgba(60, 64, 67, 0.3), 0px 1px 3px 1px rgba(60, 64, 67, 0.15);\n",
              "      fill: #174EA6;\n",
              "    }\n",
              "\n",
              "    [theme=dark] .colab-df-convert {\n",
              "      background-color: #3B4455;\n",
              "      fill: #D2E3FC;\n",
              "    }\n",
              "\n",
              "    [theme=dark] .colab-df-convert:hover {\n",
              "      background-color: #434B5C;\n",
              "      box-shadow: 0px 1px 3px 1px rgba(0, 0, 0, 0.15);\n",
              "      filter: drop-shadow(0px 1px 2px rgba(0, 0, 0, 0.3));\n",
              "      fill: #FFFFFF;\n",
              "    }\n",
              "  </style>\n",
              "\n",
              "      <script>\n",
              "        const buttonEl =\n",
              "          document.querySelector('#df-f2b2aabc-7788-4c2a-8bc1-24de52516404 button.colab-df-convert');\n",
              "        buttonEl.style.display =\n",
              "          google.colab.kernel.accessAllowed ? 'block' : 'none';\n",
              "\n",
              "        async function convertToInteractive(key) {\n",
              "          const element = document.querySelector('#df-f2b2aabc-7788-4c2a-8bc1-24de52516404');\n",
              "          const dataTable =\n",
              "            await google.colab.kernel.invokeFunction('convertToInteractive',\n",
              "                                                     [key], {});\n",
              "          if (!dataTable) return;\n",
              "\n",
              "          const docLinkHtml = 'Like what you see? Visit the ' +\n",
              "            '<a target=\"_blank\" href=https://colab.research.google.com/notebooks/data_table.ipynb>data table notebook</a>'\n",
              "            + ' to learn more about interactive tables.';\n",
              "          element.innerHTML = '';\n",
              "          dataTable['output_type'] = 'display_data';\n",
              "          await google.colab.output.renderOutput(dataTable, element);\n",
              "          const docLink = document.createElement('div');\n",
              "          docLink.innerHTML = docLinkHtml;\n",
              "          element.appendChild(docLink);\n",
              "        }\n",
              "      </script>\n",
              "    </div>\n",
              "  </div>\n",
              "  "
            ]
          },
          "metadata": {},
          "execution_count": 164
        }
      ]
    },
    {
      "metadata": {
        "id": "EZQNdnbSPH5l",
        "colab": {
          "base_uri": "https://localhost:8080/"
        },
        "outputId": "028bc8e0-3dd9-4dbc-ffc4-c63e897252d3"
      },
      "cell_type": "code",
      "source": [
        "# determining the null values in each column\n",
        "\n",
        "data = data.replace(\"?\", np.nan)\n",
        "data = data._convert(numeric = True)\n",
        "\n",
        "data.isnull().sum()"
      ],
      "execution_count": 165,
      "outputs": [
        {
          "output_type": "execute_result",
          "data": {
            "text/plain": [
              "Age                                     0\n",
              "Number of sexual partners              26\n",
              "First sexual intercourse                7\n",
              "Num of pregnancies                     56\n",
              "Smokes                                 13\n",
              "Smokes (years)                         13\n",
              "Smokes (packs/year)                    13\n",
              "Hormonal Contraceptives               108\n",
              "Hormonal Contraceptives (years)       108\n",
              "IUD                                   117\n",
              "IUD (years)                           117\n",
              "STDs                                  105\n",
              "STDs (number)                         105\n",
              "STDs:condylomatosis                   105\n",
              "STDs:cervical condylomatosis          105\n",
              "STDs:vaginal condylomatosis           105\n",
              "STDs:vulvo-perineal condylomatosis    105\n",
              "STDs:syphilis                         105\n",
              "STDs:pelvic inflammatory disease      105\n",
              "STDs:genital herpes                   105\n",
              "STDs:molluscum contagiosum            105\n",
              "STDs:AIDS                             105\n",
              "STDs:HIV                              105\n",
              "STDs:Hepatitis B                      105\n",
              "STDs:HPV                              105\n",
              "STDs: Number of diagnosis               0\n",
              "STDs: Time since first diagnosis      787\n",
              "STDs: Time since last diagnosis       787\n",
              "Dx:Cancer                               0\n",
              "Dx:CIN                                  0\n",
              "Dx:HPV                                  0\n",
              "Dx                                      0\n",
              "Hinselmann                              0\n",
              "Schiller                                0\n",
              "Citology                                0\n",
              "Biopsy                                  0\n",
              "dtype: int64"
            ]
          },
          "metadata": {},
          "execution_count": 165
        }
      ]
    },
    {
      "metadata": {
        "id": "ODrCC5KCPJ5F",
        "colab": {
          "base_uri": "https://localhost:8080/"
        },
        "outputId": "84b6246d-ebd9-404d-9d93-9044d8d01c3d"
      },
      "cell_type": "code",
      "source": [
        "data.columns"
      ],
      "execution_count": 166,
      "outputs": [
        {
          "output_type": "execute_result",
          "data": {
            "text/plain": [
              "Index(['Age', 'Number of sexual partners', 'First sexual intercourse',\n",
              "       'Num of pregnancies', 'Smokes', 'Smokes (years)', 'Smokes (packs/year)',\n",
              "       'Hormonal Contraceptives', 'Hormonal Contraceptives (years)', 'IUD',\n",
              "       'IUD (years)', 'STDs', 'STDs (number)', 'STDs:condylomatosis',\n",
              "       'STDs:cervical condylomatosis', 'STDs:vaginal condylomatosis',\n",
              "       'STDs:vulvo-perineal condylomatosis', 'STDs:syphilis',\n",
              "       'STDs:pelvic inflammatory disease', 'STDs:genital herpes',\n",
              "       'STDs:molluscum contagiosum', 'STDs:AIDS', 'STDs:HIV',\n",
              "       'STDs:Hepatitis B', 'STDs:HPV', 'STDs: Number of diagnosis',\n",
              "       'STDs: Time since first diagnosis', 'STDs: Time since last diagnosis',\n",
              "       'Dx:Cancer', 'Dx:CIN', 'Dx:HPV', 'Dx', 'Hinselmann', 'Schiller',\n",
              "       'Citology', 'Biopsy'],\n",
              "      dtype='object')"
            ]
          },
          "metadata": {},
          "execution_count": 166
        }
      ]
    },
    {
      "metadata": {
        "id": "vQQXD52G5Rln",
        "colab": {
          "base_uri": "https://localhost:8080/"
        },
        "outputId": "4f21cdf0-937e-4fc6-f629-5da5fb2509f7"
      },
      "cell_type": "code",
      "source": [
        "# 0 means not cancer affected and 1 means cancer affected cell\n",
        "\n",
        "data['Biopsy'].value_counts()"
      ],
      "execution_count": 167,
      "outputs": [
        {
          "output_type": "execute_result",
          "data": {
            "text/plain": [
              "0    803\n",
              "1     55\n",
              "Name: Biopsy, dtype: int64"
            ]
          },
          "metadata": {},
          "execution_count": 167
        }
      ]
    },
    {
      "metadata": {
        "id": "3kA6Qhm5FLgW",
        "colab": {
          "base_uri": "https://localhost:8080/"
        },
        "outputId": "0e94ec77-4411-4120-ac37-0c344e8d4aba"
      },
      "cell_type": "code",
      "source": [
        "# various number of sexual partners in the given dataset\n",
        "\n",
        "data['Number of sexual partners'].value_counts()"
      ],
      "execution_count": 168,
      "outputs": [
        {
          "output_type": "execute_result",
          "data": {
            "text/plain": [
              "2.0     272\n",
              "3.0     208\n",
              "1.0     206\n",
              "4.0      78\n",
              "5.0      44\n",
              "6.0       9\n",
              "7.0       7\n",
              "8.0       4\n",
              "15.0      1\n",
              "10.0      1\n",
              "28.0      1\n",
              "9.0       1\n",
              "Name: Number of sexual partners, dtype: int64"
            ]
          },
          "metadata": {},
          "execution_count": 168
        }
      ]
    },
    {
      "metadata": {
        "id": "IW6pRz0A8p0t"
      },
      "cell_type": "markdown",
      "source": [
        "** Correlation Plot**"
      ]
    },
    {
      "metadata": {
        "id": "dOHHlCYD82ei",
        "colab": {
          "base_uri": "https://localhost:8080/",
          "height": 749
        },
        "outputId": "f705f6cc-9999-4f61-b34a-bea1f8bca323"
      },
      "cell_type": "code",
      "source": [
        "# correlation plot\n",
        "\n",
        "f, ax = plt.subplots(figsize = (10, 8))\n",
        "\n",
        "corr = data.corr()\n",
        "sns.heatmap(corr, mask = np.zeros_like(corr, dtype = bool), \n",
        "            cmap = sns.diverging_palette(10, 10, as_cmap = True), square = True, ax = ax)"
      ],
      "execution_count": 169,
      "outputs": [
        {
          "output_type": "execute_result",
          "data": {
            "text/plain": [
              "<Axes: >"
            ]
          },
          "metadata": {},
          "execution_count": 169
        },
        {
          "output_type": "display_data",
          "data": {
            "text/plain": [
              "<Figure size 720x576 with 2 Axes>"
            ],
            "image/png": "[encoded data removed]"
          },
          "metadata": {}
        }
      ]
    },
    {
      "metadata": {
        "id": "W9euy3CzLTp7",
        "colab": {
          "base_uri": "https://localhost:8080/",
          "height": 942
        },
        "outputId": "128d4093-5a41-4f53-e429-c9bc50a17c94"
      },
      "cell_type": "code",
      "source": [
        "# Biopsy vs no. of sexual partners\n",
        "\n",
        "#categorical to categorical\n",
        "fig, (ax1,ax2) = plt.subplots(2, 1, figsize = (15, 8))\n",
        "sns.countplot(x = 'Number of sexual partners', data = data, ax=ax1)\n",
        "sns.barplot(x = 'Number of sexual partners', y = 'Biopsy', data = data, ax=ax2) \n",
        "\n",
        "#continuous to categorical\n",
        "facet = sns.FacetGrid(data, hue='Biopsy',aspect=4)\n",
        "facet.map(sns.kdeplot,'Number of sexual partners',shade= True)\n",
        "facet.set(xlim=(0, data['Number of sexual partners'].max()))\n",
        "facet.add_legend()"
      ],
      "execution_count": 170,
      "outputs": [
        {
          "output_type": "stream",
          "name": "stderr",
          "text": [
            "/usr/local/lib/python3.9/dist-packages/seaborn/axisgrid.py:848: FutureWarning: \n",
            "\n",
            "`shade` is now deprecated in favor of `fill`; setting `fill=True`.\n",
            "This will become an error in seaborn v0.14.0; please update your code.\n",
            "\n",
            "  func(*plot_args, **plot_kwargs)\n",
            "/usr/local/lib/python3.9/dist-packages/seaborn/axisgrid.py:848: FutureWarning: \n",
            "\n",
            "`shade` is now deprecated in favor of `fill`; setting `fill=True`.\n",
            "This will become an error in seaborn v0.14.0; please update your code.\n",
            "\n",
            "  func(*plot_args, **plot_kwargs)\n"
          ]
        },
        {
          "output_type": "execute_result",
          "data": {
            "text/plain": [
              "<seaborn.axisgrid.FacetGrid at 0x7f69c1108d90>"
            ]
          },
          "metadata": {},
          "execution_count": 170
        },
        {
          "output_type": "display_data",
          "data": {
            "text/plain": [
              "<Figure size 1080x576 with 2 Axes>"
            ],
            "image/png": "[encoded data removed]"
          },
          "metadata": {}
        },
        {
          "output_type": "display_data",
          "data": {
            "text/plain": [
              "<Figure size 925.25x216 with 1 Axes>"
            ],
            "image/png": "[encoded data removed]"
          },
          "metadata": {}
        }
      ]
    },
    {
      "metadata": {
        "id": "YZjIiFs3MIoh",
        "colab": {
          "base_uri": "https://localhost:8080/",
          "height": 451
        },
        "outputId": "a7e40306-f610-4ff6-8bd5-f5b74e97a7f8"
      },
      "cell_type": "code",
      "source": [
        "#continuous to categorical\n",
        "facet = sns.FacetGrid(data, hue='Biopsy', aspect=4)\n",
        "facet.map(sns.kdeplot,'Num of pregnancies', shade= True)\n",
        "facet.set(xlim=(0, data['Num of pregnancies'].max()))\n",
        "facet.add_legend()"
      ],
      "execution_count": 171,
      "outputs": [
        {
          "output_type": "stream",
          "name": "stderr",
          "text": [
            "/usr/local/lib/python3.9/dist-packages/seaborn/axisgrid.py:848: FutureWarning: \n",
            "\n",
            "`shade` is now deprecated in favor of `fill`; setting `fill=True`.\n",
            "This will become an error in seaborn v0.14.0; please update your code.\n",
            "\n",
            "  func(*plot_args, **plot_kwargs)\n",
            "/usr/local/lib/python3.9/dist-packages/seaborn/axisgrid.py:848: FutureWarning: \n",
            "\n",
            "`shade` is now deprecated in favor of `fill`; setting `fill=True`.\n",
            "This will become an error in seaborn v0.14.0; please update your code.\n",
            "\n",
            "  func(*plot_args, **plot_kwargs)\n"
          ]
        },
        {
          "output_type": "execute_result",
          "data": {
            "text/plain": [
              "<seaborn.axisgrid.FacetGrid at 0x7f69c1608490>"
            ]
          },
          "metadata": {},
          "execution_count": 171
        },
        {
          "output_type": "display_data",
          "data": {
            "text/plain": [
              "<Figure size 925.25x216 with 1 Axes>"
            ],
            "image/png": "[encoded data removed]"
          },
          "metadata": {}
        }
      ]
    },
    {
      "metadata": {
        "id": "pJU9yAUjMl9D",
        "colab": {
          "base_uri": "https://localhost:8080/",
          "height": 363
        },
        "outputId": "493afbe3-1e86-4635-ad59-75be5feb9976"
      },
      "cell_type": "code",
      "source": [
        "fig, (axis1,axis2,axis3) = plt.subplots(1, 3, figsize = (15, 5))\n",
        "sns.countplot(x = 'Citology', data=data, ax = axis1)\n",
        "sns.countplot(x = 'Biopsy', data = data, ax = axis2)\n",
        "sns.barplot(x = 'Citology', y = 'Biopsy', data = data, ax = axis3)"
      ],
      "execution_count": 172,
      "outputs": [
        {
          "output_type": "execute_result",
          "data": {
            "text/plain": [
              "<Axes: xlabel='Citology', ylabel='Biopsy'>"
            ]
          },
          "metadata": {},
          "execution_count": 172
        },
        {
          "output_type": "display_data",
          "data": {
            "text/plain": [
              "<Figure size 1080x360 with 3 Axes>"
            ],
            "image/png": "[encoded data removed]"
          },
          "metadata": {}
        }
      ]
    },
    {
      "metadata": {
        "id": "VkjJf7MEN8Yu",
        "colab": {
          "base_uri": "https://localhost:8080/",
          "height": 363
        },
        "outputId": "913236f3-0ee7-4e43-9ac6-f706861ce910"
      },
      "cell_type": "code",
      "source": [
        "# Biopsy vs schiller\n",
        "\n",
        "fig, (axis1,axis2,axis3) = plt.subplots(1,3,figsize=(15,5))\n",
        "sns.countplot(x='Schiller', data=data, ax=axis1)\n",
        "sns.countplot(x='Biopsy', data=data, ax=axis2)\n",
        "sns.barplot(x='Schiller', y='Biopsy', data=data, ax=axis3)"
      ],
      "execution_count": 173,
      "outputs": [
        {
          "output_type": "execute_result",
          "data": {
            "text/plain": [
              "<Axes: xlabel='Schiller', ylabel='Biopsy'>"
            ]
          },
          "metadata": {},
          "execution_count": 173
        },
        {
          "output_type": "display_data",
          "data": {
            "text/plain": [
              "<Figure size 1080x360 with 3 Axes>"
            ],
            "image/png": "[encoded data removed]"
          },
          "metadata": {}
        }
      ]
    },
    {
      "metadata": {
        "id": "-Kt6vShDNH-y",
        "colab": {
          "base_uri": "https://localhost:8080/",
          "height": 724
        },
        "outputId": "e77d2ecc-5108-48f0-e9ef-c3db4b98b8ab"
      },
      "cell_type": "code",
      "source": [
        "# list the heatmap of top correlation\n",
        "\n",
        "corr = data.corr()\n",
        "\n",
        "# number of variables for heatmap\n",
        "k = 10\n",
        "\n",
        "cols = corr.nlargest(k, 'Biopsy')['Biopsy'].index\n",
        "cm = np.corrcoef(data[cols].values.T)\n",
        "\n",
        "plt.figure(figsize=(12, 10))\n",
        "\n",
        "sns.set(font_scale=1.25)\n",
        "sns.heatmap(cm, cbar = True, annot = True, square = True, annot_kws = {'size': 10},\n",
        "                 yticklabels = cols.values, xticklabels = cols.values)\n",
        "plt.show()"
      ],
      "execution_count": 174,
      "outputs": [
        {
          "output_type": "display_data",
          "data": {
            "text/plain": [
              "<Figure size 864x720 with 2 Axes>"
            ],
            "image/png": "[encoded data removed]"
          },
          "metadata": {}
        }
      ]
    },
    {
      "metadata": {
        "id": "piFsrW2b9yc2"
      },
      "cell_type": "markdown",
      "source": [
        "**Data Preprocessing**"
      ]
    },
    {
      "metadata": {
        "id": "Lx6bKJbf92cM",
        "colab": {
          "base_uri": "https://localhost:8080/"
        },
        "outputId": "520f9914-1ee2-4ff6-960f-24f05f488b42"
      },
      "cell_type": "code",
      "source": [
        "# Imputing the missing values from the given dataset\n",
        "# we will impute the categorical variables with 0 or 1 and continuous variables with median value\n",
        "\n",
        "data['Number of sexual partners'] = data['Number of sexual partners'].fillna(data['Number of sexual partners'].median())\n",
        "data['Number of sexual partners'].isnull().any()\n",
        "\n",
        "# data['Number of sexual partners'].value_counts()"
      ],
      "execution_count": 175,
      "outputs": [
        {
          "output_type": "execute_result",
          "data": {
            "text/plain": [
              "False"
            ]
          },
          "metadata": {},
          "execution_count": 175
        }
      ]
    },
    {
      "metadata": {
        "id": "W1W95Qq8Gy3_",
        "colab": {
          "base_uri": "https://localhost:8080/"
        },
        "outputId": "f61528f0-5458-4ae3-de31-b8c64c44f002"
      },
      "cell_type": "code",
      "source": [
        "# Imputing the missing values from First sexual intercourse\n",
        "\n",
        "data['First sexual intercourse'] = data['First sexual intercourse'].fillna(data['First sexual intercourse'].median())\n",
        "data['First sexual intercourse'].isnull().any()\n",
        "\n",
        "# data['First sexual intercourse'].value_counts()"
      ],
      "execution_count": 176,
      "outputs": [
        {
          "output_type": "execute_result",
          "data": {
            "text/plain": [
              "False"
            ]
          },
          "metadata": {},
          "execution_count": 176
        }
      ]
    },
    {
      "metadata": {
        "id": "ps9j9lvrIt8X",
        "colab": {
          "base_uri": "https://localhost:8080/"
        },
        "outputId": "2feba254-6ac7-44e7-a212-a31290a46e57"
      },
      "cell_type": "code",
      "source": [
        "# Imputing the missing values from Num of pregnancies\n",
        "\n",
        "data['Num of pregnancies'] = data['Num of pregnancies'].fillna(data['Num of pregnancies'].median())\n",
        "data['Num of pregnancies'].isnull().any()\n",
        "\n",
        "# data['Num of pregnancies'].value_counts()"
      ],
      "execution_count": 177,
      "outputs": [
        {
          "output_type": "execute_result",
          "data": {
            "text/plain": [
              "False"
            ]
          },
          "metadata": {},
          "execution_count": 177
        }
      ]
    },
    {
      "metadata": {
        "id": "coSfHzp-JAeY",
        "colab": {
          "base_uri": "https://localhost:8080/"
        },
        "outputId": "5c63a590-e79c-42a4-dd1c-ab701c700c2d"
      },
      "cell_type": "code",
      "source": [
        "# Imputing the missing values from Smokes\n",
        "\n",
        "data['Smokes'] = data['Smokes'].fillna(data['Smokes'].median())\n",
        "data['Smokes'].isnull().any()\n",
        "\n",
        "# data['Smokes'].value_counts()"
      ],
      "execution_count": 178,
      "outputs": [
        {
          "output_type": "execute_result",
          "data": {
            "text/plain": [
              "False"
            ]
          },
          "metadata": {},
          "execution_count": 178
        }
      ]
    },
    {
      "metadata": {
        "id": "uS5muTzuJV09",
        "colab": {
          "base_uri": "https://localhost:8080/"
        },
        "outputId": "1b359bea-5242-4701-d72d-0690bd5e94d7"
      },
      "cell_type": "code",
      "source": [
        "# Imputing the missing values from Smokes (years)\n",
        "\n",
        "data['Smokes (years)'] = data['Smokes (years)'].fillna(1)\n",
        "data['Smokes (years)'].isnull().any()\n",
        "\n",
        "# data['Smokes (years)'].value_counts()"
      ],
      "execution_count": 179,
      "outputs": [
        {
          "output_type": "execute_result",
          "data": {
            "text/plain": [
              "False"
            ]
          },
          "metadata": {},
          "execution_count": 179
        }
      ]
    },
    {
      "metadata": {
        "id": "i_5I_XXAJrRu",
        "colab": {
          "base_uri": "https://localhost:8080/"
        },
        "outputId": "dd72ca16-54f2-46ff-8ea3-b74ce4d91967"
      },
      "cell_type": "code",
      "source": [
        "# Imputing the missing values from Smokes (packs/year)\n",
        "\n",
        "data['Smokes (packs/year)'] = data['Smokes (packs/year)'].fillna(data['Smokes (packs/year)'].median())\n",
        "data['Smokes (packs/year)'].isnull().any()\n",
        "\n",
        "# data['Smokes (packs/year)'].value_counts()"
      ],
      "execution_count": 180,
      "outputs": [
        {
          "output_type": "execute_result",
          "data": {
            "text/plain": [
              "False"
            ]
          },
          "metadata": {},
          "execution_count": 180
        }
      ]
    },
    {
      "metadata": {
        "id": "uGSV8fHeKAg7",
        "colab": {
          "base_uri": "https://localhost:8080/"
        },
        "outputId": "b3392079-0c80-4fc2-9f64-842862d9b31e"
      },
      "cell_type": "code",
      "source": [
        "# Imputing the missing values from Hormonal Contraceptives\n",
        "\n",
        "data['Hormonal Contraceptives'] = data['Hormonal Contraceptives'].fillna(data['Hormonal Contraceptives'].median())\n",
        "data['Hormonal Contraceptives'].isnull().any()\n",
        "\n",
        "# data['Hormonal Contraceptives'].value_counts()"
      ],
      "execution_count": 181,
      "outputs": [
        {
          "output_type": "execute_result",
          "data": {
            "text/plain": [
              "False"
            ]
          },
          "metadata": {},
          "execution_count": 181
        }
      ]
    },
    {
      "metadata": {
        "id": "cH_ayTrCKl1U",
        "colab": {
          "base_uri": "https://localhost:8080/"
        },
        "outputId": "886f200a-cb3f-4e79-af2f-eacca75ea52e"
      },
      "cell_type": "code",
      "source": [
        "# Imputing the missing values from Hormonal Contraceptives (years)\n",
        "\n",
        "data['Hormonal Contraceptives (years)'] = data['Hormonal Contraceptives (years)'].fillna(data['Hormonal Contraceptives (years)'].median())\n",
        "data['Hormonal Contraceptives (years)'].isnull().any()\n",
        "\n",
        "# data['Hormonal Contraceptives (years)'].value_counts()"
      ],
      "execution_count": 182,
      "outputs": [
        {
          "output_type": "execute_result",
          "data": {
            "text/plain": [
              "False"
            ]
          },
          "metadata": {},
          "execution_count": 182
        }
      ]
    },
    {
      "metadata": {
        "id": "PU-i5dpiLsC6",
        "colab": {
          "base_uri": "https://localhost:8080/"
        },
        "outputId": "a7733e1c-ef2f-416d-a9d0-850d31a91d25"
      },
      "cell_type": "code",
      "source": [
        "# Imputing the missing values from IUD\n",
        "\n",
        "data['IUD'] = data['IUD'].fillna(0)\n",
        "data['IUD'].isnull().any()\n",
        "\n",
        "# data['IUD'].value_counts()"
      ],
      "execution_count": 183,
      "outputs": [
        {
          "output_type": "execute_result",
          "data": {
            "text/plain": [
              "False"
            ]
          },
          "metadata": {},
          "execution_count": 183
        }
      ]
    },
    {
      "metadata": {
        "id": "avn6NVpRMM80",
        "colab": {
          "base_uri": "https://localhost:8080/"
        },
        "outputId": "b105868d-66d8-4cc9-a97b-f4e66c48bf5e"
      },
      "cell_type": "code",
      "source": [
        "# Imputing the missing values from IUD (years)\n",
        "\n",
        "data['IUD (years)'] = data['IUD (years)'].fillna(0)\n",
        "data['IUD (years)'].isnull().any()\n",
        "\n",
        "# data['IUD (years)'].value_counts()"
      ],
      "execution_count": 184,
      "outputs": [
        {
          "output_type": "execute_result",
          "data": {
            "text/plain": [
              "False"
            ]
          },
          "metadata": {},
          "execution_count": 184
        }
      ]
    },
    {
      "metadata": {
        "id": "CrCUMMDuM_Fw",
        "colab": {
          "base_uri": "https://localhost:8080/"
        },
        "outputId": "8ec7a5a9-f3e0-4573-c8d7-13a5f62a38f4"
      },
      "cell_type": "code",
      "source": [
        "# Imputing the missing values from STDs\n",
        "\n",
        "data['STDs'] = data['STDs'].fillna(1)\n",
        "data['STDs'].isnull().any()\n",
        "\n",
        "# data['STDs'].value_counts()"
      ],
      "execution_count": 185,
      "outputs": [
        {
          "output_type": "execute_result",
          "data": {
            "text/plain": [
              "False"
            ]
          },
          "metadata": {},
          "execution_count": 185
        }
      ]
    },
    {
      "metadata": {
        "id": "UCWtZJVRNShk",
        "colab": {
          "base_uri": "https://localhost:8080/"
        },
        "outputId": "4187a50c-60b2-4c33-fe08-21b498e91ebb"
      },
      "cell_type": "code",
      "source": [
        "# Imputing the missing values from STDs (number)\n",
        "\n",
        "data['STDs (number)'] = data['STDs (number)'].fillna(data['STDs (number)'].median())\n",
        "data['STDs (number)'].isnull().any()\n",
        "\n",
        "# data['STDs (number)'].value_counts()"
      ],
      "execution_count": 186,
      "outputs": [
        {
          "output_type": "execute_result",
          "data": {
            "text/plain": [
              "False"
            ]
          },
          "metadata": {},
          "execution_count": 186
        }
      ]
    },
    {
      "metadata": {
        "id": "dPBhs9gENzF8",
        "colab": {
          "base_uri": "https://localhost:8080/"
        },
        "outputId": "c07077a3-4bde-46d5-8f7f-011e5c9205c6"
      },
      "cell_type": "code",
      "source": [
        "# Imputing the missing values from STDs:condylomatosis\n",
        "\n",
        "data['STDs:condylomatosis'] = data['STDs:condylomatosis'].fillna(data['STDs:condylomatosis'].median())\n",
        "data['STDs:condylomatosis'].isnull().any()\n",
        "\n",
        "# data['STDs:condylomatosis'].value_counts()"
      ],
      "execution_count": 187,
      "outputs": [
        {
          "output_type": "execute_result",
          "data": {
            "text/plain": [
              "False"
            ]
          },
          "metadata": {},
          "execution_count": 187
        }
      ]
    },
    {
      "metadata": {
        "id": "MI5vXM88OLG_",
        "colab": {
          "base_uri": "https://localhost:8080/"
        },
        "outputId": "503dc1b9-bae7-44b5-a4f6-c6f7a378d72e"
      },
      "cell_type": "code",
      "source": [
        "# Imputing the missing values from STDs:cervical condylomatosis\n",
        "\n",
        "data['STDs:cervical condylomatosis'] = data['STDs:cervical condylomatosis'].fillna(data['STDs:cervical condylomatosis'].median())\n",
        "data['STDs:cervical condylomatosis'].isnull().any()\n",
        "\n",
        "# data['STDs:cervical condylomatosis'].value_counts()"
      ],
      "execution_count": 188,
      "outputs": [
        {
          "output_type": "execute_result",
          "data": {
            "text/plain": [
              "False"
            ]
          },
          "metadata": {},
          "execution_count": 188
        }
      ]
    },
    {
      "metadata": {
        "id": "UHrPEly5OrEm",
        "colab": {
          "base_uri": "https://localhost:8080/"
        },
        "outputId": "e3487a62-f681-41cb-d631-07fa1baf5794"
      },
      "cell_type": "code",
      "source": [
        "# Imputing the missing values from STDs:vaginal condylomatosis\n",
        "\n",
        "data['STDs:vaginal condylomatosis'] = data['STDs:vaginal condylomatosis'].fillna(data['STDs:vaginal condylomatosis'].median())\n",
        "data['STDs:vaginal condylomatosis'].isnull().any()\n",
        "\n",
        "# data['STDs:vaginal condylomatosis'].value_counts()"
      ],
      "execution_count": 189,
      "outputs": [
        {
          "output_type": "execute_result",
          "data": {
            "text/plain": [
              "False"
            ]
          },
          "metadata": {},
          "execution_count": 189
        }
      ]
    },
    {
      "metadata": {
        "id": "D6YgmMYFPJDs",
        "colab": {
          "base_uri": "https://localhost:8080/"
        },
        "outputId": "4b43c776-1981-4532-e8e3-ec8a027de84f"
      },
      "cell_type": "code",
      "source": [
        "# Imputing the missing values from STDs:vulvo-perineal condylomatosis\n",
        "\n",
        "data['STDs:vulvo-perineal condylomatosis'] = data['STDs:vulvo-perineal condylomatosis'].fillna(data['STDs:vulvo-perineal condylomatosis'].median())\n",
        "data['STDs:vulvo-perineal condylomatosis'].isnull().any()\n",
        "\n",
        "# data['STDs:vulvo-perineal condylomatosis'].value_counts()"
      ],
      "execution_count": 190,
      "outputs": [
        {
          "output_type": "execute_result",
          "data": {
            "text/plain": [
              "False"
            ]
          },
          "metadata": {},
          "execution_count": 190
        }
      ]
    },
    {
      "metadata": {
        "id": "lT4D4QfDPl0y",
        "colab": {
          "base_uri": "https://localhost:8080/"
        },
        "outputId": "c75c3ff7-4235-4d7f-83be-b2f0eb7768fb"
      },
      "cell_type": "code",
      "source": [
        "# Imputing the missing values from STDs:syphilis\n",
        "\n",
        "data['STDs:syphilis'] = data['STDs:syphilis'].fillna(data['STDs:syphilis'].median())\n",
        "data['STDs:syphilis'].isnull().any()\n",
        "\n",
        "# data['STDs:syphilis'].value_counts()"
      ],
      "execution_count": 191,
      "outputs": [
        {
          "output_type": "execute_result",
          "data": {
            "text/plain": [
              "False"
            ]
          },
          "metadata": {},
          "execution_count": 191
        }
      ]
    },
    {
      "metadata": {
        "id": "YjcYUtopTags",
        "colab": {
          "base_uri": "https://localhost:8080/"
        },
        "outputId": "c56acf58-d892-4ae9-ad52-27efb1b3638e"
      },
      "cell_type": "code",
      "source": [
        "# Imputing the missing values from STDs:pelvic inflammatory diseases\n",
        "\n",
        "data['STDs:pelvic inflammatory disease'] = data['STDs:pelvic inflammatory disease'].fillna(data['STDs:pelvic inflammatory disease'].median())\n",
        "data['STDs:pelvic inflammatory disease'].isnull().any()\n",
        "\n",
        "# data['STDs:pelvic inflammatory disease'].value_counts()"
      ],
      "execution_count": 192,
      "outputs": [
        {
          "output_type": "execute_result",
          "data": {
            "text/plain": [
              "False"
            ]
          },
          "metadata": {},
          "execution_count": 192
        }
      ]
    },
    {
      "metadata": {
        "id": "IuK9Mki5UQhX",
        "colab": {
          "base_uri": "https://localhost:8080/"
        },
        "outputId": "dd2bde04-0316-4b3a-8037-8d55dbdac7bb"
      },
      "cell_type": "code",
      "source": [
        "# Imputing the missing values from STDs:genital herpes\n",
        "\n",
        "data['STDs:genital herpes'] = data['STDs:genital herpes'].fillna(data['STDs:genital herpes'].median())\n",
        "data['STDs:genital herpes'].isnull().any()\n",
        "\n",
        "# data['STDs:genital herpes'].value_counts()"
      ],
      "execution_count": 193,
      "outputs": [
        {
          "output_type": "execute_result",
          "data": {
            "text/plain": [
              "False"
            ]
          },
          "metadata": {},
          "execution_count": 193
        }
      ]
    },
    {
      "metadata": {
        "id": "K-A6KKPVUwL0",
        "colab": {
          "base_uri": "https://localhost:8080/"
        },
        "outputId": "3755e395-4c46-49cf-8a1f-08f99fad4889"
      },
      "cell_type": "code",
      "source": [
        "# Imputing the missing values from STDs:molluscum contagiosum\n",
        "\n",
        "data['STDs:molluscum contagiosum'] = data['STDs:molluscum contagiosum'].fillna(data['STDs:molluscum contagiosum'].median())\n",
        "data['STDs:molluscum contagiosum'].isnull().any()\n",
        "\n",
        "# data['STDs:molluscum contagiosum'].value_counts()"
      ],
      "execution_count": 194,
      "outputs": [
        {
          "output_type": "execute_result",
          "data": {
            "text/plain": [
              "False"
            ]
          },
          "metadata": {},
          "execution_count": 194
        }
      ]
    },
    {
      "metadata": {
        "id": "mclCNR8bVgAP",
        "colab": {
          "base_uri": "https://localhost:8080/"
        },
        "outputId": "0ec94a54-9d6f-41d0-d9d3-ab61cec5410d"
      },
      "cell_type": "code",
      "source": [
        "# Imputing the missing values from STDs:AIDS\n",
        "\n",
        "data['STDs:AIDS'] = data['STDs:AIDS'].fillna(data['STDs:AIDS'].median())\n",
        "data['STDs:AIDS'].isnull().any()\n",
        "\n",
        "# data['STDs:AIDS'].value_counts()"
      ],
      "execution_count": 195,
      "outputs": [
        {
          "output_type": "execute_result",
          "data": {
            "text/plain": [
              "False"
            ]
          },
          "metadata": {},
          "execution_count": 195
        }
      ]
    },
    {
      "metadata": {
        "id": "EuDCWr5fWYZL",
        "colab": {
          "base_uri": "https://localhost:8080/"
        },
        "outputId": "cac06f95-ef2c-4e59-8020-91767a1e4de8"
      },
      "cell_type": "code",
      "source": [
        "# Imputing the missing values from STDs:HIV\n",
        "\n",
        "data['STDs:HIV'] = data['STDs:HIV'].fillna(data['STDs:HIV'].median())\n",
        "data['STDs:HIV'].isnull().any()\n",
        "\n",
        "# data['STDs:HIV'].value_counts()"
      ],
      "execution_count": 196,
      "outputs": [
        {
          "output_type": "execute_result",
          "data": {
            "text/plain": [
              "False"
            ]
          },
          "metadata": {},
          "execution_count": 196
        }
      ]
    },
    {
      "metadata": {
        "id": "xQ_mzWeOW17D",
        "colab": {
          "base_uri": "https://localhost:8080/"
        },
        "outputId": "cec759b7-6fb3-4940-908f-e367cac53b40"
      },
      "cell_type": "code",
      "source": [
        "# Imputing the missing values from STDs:Hepatitis B\n",
        "\n",
        "data['STDs:Hepatitis B'] = data['STDs:Hepatitis B'].fillna(data['STDs:Hepatitis B'].median())\n",
        "data['STDs:Hepatitis B'].isnull().any()\n",
        "\n",
        "# data['STDs:Hepatitis B'].value_counts()"
      ],
      "execution_count": 197,
      "outputs": [
        {
          "output_type": "execute_result",
          "data": {
            "text/plain": [
              "False"
            ]
          },
          "metadata": {},
          "execution_count": 197
        }
      ]
    },
    {
      "metadata": {
        "id": "zONJZ9-pXhmj",
        "colab": {
          "base_uri": "https://localhost:8080/"
        },
        "outputId": "52d35f23-5cac-4ed6-8896-37a2544f530e"
      },
      "cell_type": "code",
      "source": [
        "# Imputing the missing values from STDs:HPV\n",
        "\n",
        "data['STDs:HPV'] = data['STDs:HPV'].fillna(data['STDs:HPV'].median())\n",
        "data['STDs:HPV'].isnull().any()\n",
        "\n",
        "# data['STDs:HPV'].value_counts()"
      ],
      "execution_count": 198,
      "outputs": [
        {
          "output_type": "execute_result",
          "data": {
            "text/plain": [
              "False"
            ]
          },
          "metadata": {},
          "execution_count": 198
        }
      ]
    },
    {
      "metadata": {
        "id": "uApuugCuYLTX",
        "colab": {
          "base_uri": "https://localhost:8080/"
        },
        "outputId": "ba5dbaa2-0863-45da-d844-ec1ab8e9871f"
      },
      "cell_type": "code",
      "source": [
        "# Imputing the missing values from STDs: Time since first diagnosis\n",
        "\n",
        "data['STDs: Time since first diagnosis'] = data['STDs: Time since first diagnosis'].fillna(data['STDs: Time since first diagnosis'].median())\n",
        "data['STDs: Time since first diagnosis'].isnull().any()\n",
        "\n",
        "# data['STDs: Time since first diagnosis'].value_counts()"
      ],
      "execution_count": 199,
      "outputs": [
        {
          "output_type": "execute_result",
          "data": {
            "text/plain": [
              "False"
            ]
          },
          "metadata": {},
          "execution_count": 199
        }
      ]
    },
    {
      "metadata": {
        "id": "0aufaFATYlU7",
        "colab": {
          "base_uri": "https://localhost:8080/"
        },
        "outputId": "40d4e91c-68e2-4e03-d4db-1cc4aecf38a1"
      },
      "cell_type": "code",
      "source": [
        "# Imputing the missing values from STDs: Time since last diagnosis\n",
        "\n",
        "data['STDs: Time since last diagnosis'] = data['STDs: Time since last diagnosis'].fillna(data['STDs: Time since last diagnosis'].median())\n",
        "data['STDs: Time since last diagnosis'].isnull().any()\n",
        " \n",
        "# data['STDs: Time since last diagnosis'].value_counts()"
      ],
      "execution_count": 200,
      "outputs": [
        {
          "output_type": "execute_result",
          "data": {
            "text/plain": [
              "False"
            ]
          },
          "metadata": {},
          "execution_count": 200
        }
      ]
    },
    {
      "metadata": {
        "id": "mKCXwhl6ZD6A",
        "colab": {
          "base_uri": "https://localhost:8080/"
        },
        "outputId": "234961c5-88c7-451f-f092-2d461e931b1a"
      },
      "cell_type": "code",
      "source": [
        "# Imputing values for categorical variables\n",
        "\n",
        "#data = pd.get_dummies(data = data, columns = ['Smokes','Hormonal Contraceptives','IUD','STDs','Dx:Cancer','Dx:CIN','Dx:HPV','Dx','Hinselmann','Citology','Schiller'])\n",
        "\n",
        "data.isnull().sum()"
      ],
      "execution_count": 201,
      "outputs": [
        {
          "output_type": "execute_result",
          "data": {
            "text/plain": [
              "Age                                   0\n",
              "Number of sexual partners             0\n",
              "First sexual intercourse              0\n",
              "Num of pregnancies                    0\n",
              "Smokes                                0\n",
              "Smokes (years)                        0\n",
              "Smokes (packs/year)                   0\n",
              "Hormonal Contraceptives               0\n",
              "Hormonal Contraceptives (years)       0\n",
              "IUD                                   0\n",
              "IUD (years)                           0\n",
              "STDs                                  0\n",
              "STDs (number)                         0\n",
              "STDs:condylomatosis                   0\n",
              "STDs:cervical condylomatosis          0\n",
              "STDs:vaginal condylomatosis           0\n",
              "STDs:vulvo-perineal condylomatosis    0\n",
              "STDs:syphilis                         0\n",
              "STDs:pelvic inflammatory disease      0\n",
              "STDs:genital herpes                   0\n",
              "STDs:molluscum contagiosum            0\n",
              "STDs:AIDS                             0\n",
              "STDs:HIV                              0\n",
              "STDs:Hepatitis B                      0\n",
              "STDs:HPV                              0\n",
              "STDs: Number of diagnosis             0\n",
              "STDs: Time since first diagnosis      0\n",
              "STDs: Time since last diagnosis       0\n",
              "Dx:Cancer                             0\n",
              "Dx:CIN                                0\n",
              "Dx:HPV                                0\n",
              "Dx                                    0\n",
              "Hinselmann                            0\n",
              "Schiller                              0\n",
              "Citology                              0\n",
              "Biopsy                                0\n",
              "dtype: int64"
            ]
          },
          "metadata": {},
          "execution_count": 201
        }
      ]
    },
    {
      "metadata": {
        "id": "LRfypY0Z1MY0",
        "colab": {
          "base_uri": "https://localhost:8080/",
          "height": 463
        },
        "outputId": "8292ead2-c04a-4259-ab71-31d584c1852e"
      },
      "cell_type": "code",
      "source": [
        "data.describe()"
      ],
      "execution_count": 202,
      "outputs": [
        {
          "output_type": "execute_result",
          "data": {
            "text/plain": [
              "              Age  Number of sexual partners  First sexual intercourse  \\\n",
              "count  858.000000                 858.000000                858.000000   \n",
              "mean    26.820513                   2.511655                 16.995338   \n",
              "std      8.497948                   1.644759                  2.791883   \n",
              "min     13.000000                   1.000000                 10.000000   \n",
              "25%     20.000000                   2.000000                 15.000000   \n",
              "50%     25.000000                   2.000000                 17.000000   \n",
              "75%     32.000000                   3.000000                 18.000000   \n",
              "max     84.000000                  28.000000                 32.000000   \n",
              "\n",
              "       Num of pregnancies      Smokes  Smokes (years)  Smokes (packs/year)  \\\n",
              "count          858.000000  858.000000      858.000000           858.000000   \n",
              "mean             2.257576    0.143357        1.216392             0.446278   \n",
              "std              1.400981    0.350641        4.057974             2.210351   \n",
              "min              0.000000    0.000000        0.000000             0.000000   \n",
              "25%              1.000000    0.000000        0.000000             0.000000   \n",
              "50%              2.000000    0.000000        0.000000             0.000000   \n",
              "75%              3.000000    0.000000        0.000000             0.000000   \n",
              "max             11.000000    1.000000       37.000000            37.000000   \n",
              "\n",
              "       Hormonal Contraceptives  Hormonal Contraceptives (years)         IUD  \\\n",
              "count               858.000000                       858.000000  858.000000   \n",
              "mean                  0.686480                         2.035331    0.096737   \n",
              "std                   0.464194                         3.567040    0.295771   \n",
              "min                   0.000000                         0.000000    0.000000   \n",
              "25%                   0.000000                         0.000000    0.000000   \n",
              "50%                   1.000000                         0.500000    0.000000   \n",
              "75%                   1.000000                         2.000000    0.000000   \n",
              "max                   1.000000                        30.000000    1.000000   \n",
              "\n",
              "       ...  STDs: Time since first diagnosis  STDs: Time since last diagnosis  \\\n",
              "count  ...                        858.000000                       858.000000   \n",
              "mean   ...                          4.177156                         3.233100   \n",
              "std    ...                          1.785156                         1.818927   \n",
              "min    ...                          1.000000                         1.000000   \n",
              "25%    ...                          4.000000                         3.000000   \n",
              "50%    ...                          4.000000                         3.000000   \n",
              "75%    ...                          4.000000                         3.000000   \n",
              "max    ...                         22.000000                        22.000000   \n",
              "\n",
              "        Dx:Cancer      Dx:CIN      Dx:HPV          Dx  Hinselmann    Schiller  \\\n",
              "count  858.000000  858.000000  858.000000  858.000000  858.000000  858.000000   \n",
              "mean     0.020979    0.010490    0.020979    0.027972    0.040793    0.086247   \n",
              "std      0.143398    0.101939    0.143398    0.164989    0.197925    0.280892   \n",
              "min      0.000000    0.000000    0.000000    0.000000    0.000000    0.000000   \n",
              "25%      0.000000    0.000000    0.000000    0.000000    0.000000    0.000000   \n",
              "50%      0.000000    0.000000    0.000000    0.000000    0.000000    0.000000   \n",
              "75%      0.000000    0.000000    0.000000    0.000000    0.000000    0.000000   \n",
              "max      1.000000    1.000000    1.000000    1.000000    1.000000    1.000000   \n",
              "\n",
              "         Citology      Biopsy  \n",
              "count  858.000000  858.000000  \n",
              "mean     0.051282    0.064103  \n",
              "std      0.220701    0.245078  \n",
              "min      0.000000    0.000000  \n",
              "25%      0.000000    0.000000  \n",
              "50%      0.000000    0.000000  \n",
              "75%      0.000000    0.000000  \n",
              "max      1.000000    1.000000  \n",
              "\n",
              "[8 rows x 36 columns]"
            ],
            "text/html": [
              "\n",
              "  <div id=\"df-c4451137-fc55-40e2-bd35-be540d98bcfa\">\n",
              "    <div class=\"colab-df-container\">\n",
              "      <div>\n",
              "<style scoped>\n",
              "    .dataframe tbody tr th:only-of-type {\n",
              "        vertical-align: middle;\n",
              "    }\n",
              "\n",
              "    .dataframe tbody tr th {\n",
              "        vertical-align: top;\n",
              "    }\n",
              "\n",
              "    .dataframe thead th {\n",
              "        text-align: right;\n",
              "    }\n",
              "</style>\n",
              "<table border=\"1\" class=\"dataframe\">\n",
              "  <thead>\n",
              "    <tr style=\"text-align: right;\">\n",
              "      <th></th>\n",
              "      <th>Age</th>\n",
              "      <th>Number of sexual partners</th>\n",
              "      <th>First sexual intercourse</th>\n",
              "      <th>Num of pregnancies</th>\n",
              "      <th>Smokes</th>\n",
              "      <th>Smokes (years)</th>\n",
              "      <th>Smokes (packs/year)</th>\n",
              "      <th>Hormonal Contraceptives</th>\n",
              "      <th>Hormonal Contraceptives (years)</th>\n",
              "      <th>IUD</th>\n",
              "      <th>...</th>\n",
              "      <th>STDs: Time since first diagnosis</th>\n",
              "      <th>STDs: Time since last diagnosis</th>\n",
              "      <th>Dx:Cancer</th>\n",
              "      <th>Dx:CIN</th>\n",
              "      <th>Dx:HPV</th>\n",
              "      <th>Dx</th>\n",
              "      <th>Hinselmann</th>\n",
              "      <th>Schiller</th>\n",
              "      <th>Citology</th>\n",
              "      <th>Biopsy</th>\n",
              "    </tr>\n",
              "  </thead>\n",
              "  <tbody>\n",
              "    <tr>\n",
              "      <th>count</th>\n",
              "      <td>858.000000</td>\n",
              "      <td>858.000000</td>\n",
              "      <td>858.000000</td>\n",
              "      <td>858.000000</td>\n",
              "      <td>858.000000</td>\n",
              "      <td>858.000000</td>\n",
              "      <td>858.000000</td>\n",
              "      <td>858.000000</td>\n",
              "      <td>858.000000</td>\n",
              "      <td>858.000000</td>\n",
              "      <td>...</td>\n",
              "      <td>858.000000</td>\n",
              "      <td>858.000000</td>\n",
              "      <td>858.000000</td>\n",
              "      <td>858.000000</td>\n",
              "      <td>858.000000</td>\n",
              "      <td>858.000000</td>\n",
              "      <td>858.000000</td>\n",
              "      <td>858.000000</td>\n",
              "      <td>858.000000</td>\n",
              "      <td>858.000000</td>\n",
              "    </tr>\n",
              "    <tr>\n",
              "      <th>mean</th>\n",
              "      <td>26.820513</td>\n",
              "      <td>2.511655</td>\n",
              "      <td>16.995338</td>\n",
              "      <td>2.257576</td>\n",
              "      <td>0.143357</td>\n",
              "      <td>1.216392</td>\n",
              "      <td>0.446278</td>\n",
              "      <td>0.686480</td>\n",
              "      <td>2.035331</td>\n",
              "      <td>0.096737</td>\n",
              "      <td>...</td>\n",
              "      <td>4.177156</td>\n",
              "      <td>3.233100</td>\n",
              "      <td>0.020979</td>\n",
              "      <td>0.010490</td>\n",
              "      <td>0.020979</td>\n",
              "      <td>0.027972</td>\n",
              "      <td>0.040793</td>\n",
              "      <td>0.086247</td>\n",
              "      <td>0.051282</td>\n",
              "      <td>0.064103</td>\n",
              "    </tr>\n",
              "    <tr>\n",
              "      <th>std</th>\n",
              "      <td>8.497948</td>\n",
              "      <td>1.644759</td>\n",
              "      <td>2.791883</td>\n",
              "      <td>1.400981</td>\n",
              "      <td>0.350641</td>\n",
              "      <td>4.057974</td>\n",
              "      <td>2.210351</td>\n",
              "      <td>0.464194</td>\n",
              "      <td>3.567040</td>\n",
              "      <td>0.295771</td>\n",
              "      <td>...</td>\n",
              "      <td>1.785156</td>\n",
              "      <td>1.818927</td>\n",
              "      <td>0.143398</td>\n",
              "      <td>0.101939</td>\n",
              "      <td>0.143398</td>\n",
              "      <td>0.164989</td>\n",
              "      <td>0.197925</td>\n",
              "      <td>0.280892</td>\n",
              "      <td>0.220701</td>\n",
              "      <td>0.245078</td>\n",
              "    </tr>\n",
              "    <tr>\n",
              "      <th>min</th>\n",
              "      <td>13.000000</td>\n",
              "      <td>1.000000</td>\n",
              "      <td>10.000000</td>\n",
              "      <td>0.000000</td>\n",
              "      <td>0.000000</td>\n",
              "      <td>0.000000</td>\n",
              "      <td>0.000000</td>\n",
              "      <td>0.000000</td>\n",
              "      <td>0.000000</td>\n",
              "      <td>0.000000</td>\n",
              "      <td>...</td>\n",
              "      <td>1.000000</td>\n",
              "      <td>1.000000</td>\n",
              "      <td>0.000000</td>\n",
              "      <td>0.000000</td>\n",
              "      <td>0.000000</td>\n",
              "      <td>0.000000</td>\n",
              "      <td>0.000000</td>\n",
              "      <td>0.000000</td>\n",
              "      <td>0.000000</td>\n",
              "      <td>0.000000</td>\n",
              "    </tr>\n",
              "    <tr>\n",
              "      <th>25%</th>\n",
              "      <td>20.000000</td>\n",
              "      <td>2.000000</td>\n",
              "      <td>15.000000</td>\n",
              "      <td>1.000000</td>\n",
              "      <td>0.000000</td>\n",
              "      <td>0.000000</td>\n",
              "      <td>0.000000</td>\n",
              "      <td>0.000000</td>\n",
              "      <td>0.000000</td>\n",
              "      <td>0.000000</td>\n",
              "      <td>...</td>\n",
              "      <td>4.000000</td>\n",
              "      <td>3.000000</td>\n",
              "      <td>0.000000</td>\n",
              "      <td>0.000000</td>\n",
              "      <td>0.000000</td>\n",
              "      <td>0.000000</td>\n",
              "      <td>0.000000</td>\n",
              "      <td>0.000000</td>\n",
              "      <td>0.000000</td>\n",
              "      <td>0.000000</td>\n",
              "    </tr>\n",
              "    <tr>\n",
              "      <th>50%</th>\n",
              "      <td>25.000000</td>\n",
              "      <td>2.000000</td>\n",
              "      <td>17.000000</td>\n",
              "      <td>2.000000</td>\n",
              "      <td>0.000000</td>\n",
              "      <td>0.000000</td>\n",
              "      <td>0.000000</td>\n",
              "      <td>1.000000</td>\n",
              "      <td>0.500000</td>\n",
              "      <td>0.000000</td>\n",
              "      <td>...</td>\n",
              "      <td>4.000000</td>\n",
              "      <td>3.000000</td>\n",
              "      <td>0.000000</td>\n",
              "      <td>0.000000</td>\n",
              "      <td>0.000000</td>\n",
              "      <td>0.000000</td>\n",
              "      <td>0.000000</td>\n",
              "      <td>0.000000</td>\n",
              "      <td>0.000000</td>\n",
              "      <td>0.000000</td>\n",
              "    </tr>\n",
              "    <tr>\n",
              "      <th>75%</th>\n",
              "      <td>32.000000</td>\n",
              "      <td>3.000000</td>\n",
              "      <td>18.000000</td>\n",
              "      <td>3.000000</td>\n",
              "      <td>0.000000</td>\n",
              "      <td>0.000000</td>\n",
              "      <td>0.000000</td>\n",
              "      <td>1.000000</td>\n",
              "      <td>2.000000</td>\n",
              "      <td>0.000000</td>\n",
              "      <td>...</td>\n",
              "      <td>4.000000</td>\n",
              "      <td>3.000000</td>\n",
              "      <td>0.000000</td>\n",
              "      <td>0.000000</td>\n",
              "      <td>0.000000</td>\n",
              "      <td>0.000000</td>\n",
              "      <td>0.000000</td>\n",
              "      <td>0.000000</td>\n",
              "      <td>0.000000</td>\n",
              "      <td>0.000000</td>\n",
              "    </tr>\n",
              "    <tr>\n",
              "      <th>max</th>\n",
              "      <td>84.000000</td>\n",
              "      <td>28.000000</td>\n",
              "      <td>32.000000</td>\n",
              "      <td>11.000000</td>\n",
              "      <td>1.000000</td>\n",
              "      <td>37.000000</td>\n",
              "      <td>37.000000</td>\n",
              "      <td>1.000000</td>\n",
              "      <td>30.000000</td>\n",
              "      <td>1.000000</td>\n",
              "      <td>...</td>\n",
              "      <td>22.000000</td>\n",
              "      <td>22.000000</td>\n",
              "      <td>1.000000</td>\n",
              "      <td>1.000000</td>\n",
              "      <td>1.000000</td>\n",
              "      <td>1.000000</td>\n",
              "      <td>1.000000</td>\n",
              "      <td>1.000000</td>\n",
              "      <td>1.000000</td>\n",
              "      <td>1.000000</td>\n",
              "    </tr>\n",
              "  </tbody>\n",
              "</table>\n",
              "<p>8 rows × 36 columns</p>\n",
              "</div>\n",
              "      <button class=\"colab-df-convert\" onclick=\"convertToInteractive('df-c4451137-fc55-40e2-bd35-be540d98bcfa')\"\n",
              "              title=\"Convert this dataframe to an interactive table.\"\n",
              "              style=\"display:none;\">\n",
              "        \n",
              "  <svg xmlns=\"http://www.w3.org/2000/svg\" height=\"24px\"viewBox=\"0 0 24 24\"\n",
              "       width=\"24px\">\n",
              "    <path d=\"M0 0h24v24H0V0z\" fill=\"none\"/>\n",
              "    <path d=\"M18.56 5.44l.94 2.06.94-2.06 2.06-.94-2.06-.94-.94-2.06-.94 2.06-2.06.94zm-11 1L8.5 8.5l.94-2.06 2.06-.94-2.06-.94L8.5 2.5l-.94 2.06-2.06.94zm10 10l.94 2.06.94-2.06 2.06-.94-2.06-.94-.94-2.06-.94 2.06-2.06.94z\"/><path d=\"M17.41 7.96l-1.37-1.37c-.4-.4-.92-.59-1.43-.59-.52 0-1.04.2-1.43.59L10.3 9.45l-7.72 7.72c-.78.78-.78 2.05 0 2.83L4 21.41c.39.39.9.59 1.41.59.51 0 1.02-.2 1.41-.59l7.78-7.78 2.81-2.81c.8-.78.8-2.07 0-2.86zM5.41 20L4 18.59l7.72-7.72 1.47 1.35L5.41 20z\"/>\n",
              "  </svg>\n",
              "      </button>\n",
              "      \n",
              "  <style>\n",
              "    .colab-df-container {\n",
              "      display:flex;\n",
              "      flex-wrap:wrap;\n",
              "      gap: 12px;\n",
              "    }\n",
              "\n",
              "    .colab-df-convert {\n",
              "      background-color: #E8F0FE;\n",
              "      border: none;\n",
              "      border-radius: 50%;\n",
              "      cursor: pointer;\n",
              "      display: none;\n",
              "      fill: #1967D2;\n",
              "      height: 32px;\n",
              "      padding: 0 0 0 0;\n",
              "      width: 32px;\n",
              "    }\n",
              "\n",
              "    .colab-df-convert:hover {\n",
              "      background-color: #E2EBFA;\n",
              "      box-shadow: 0px 1px 2px rgba(60, 64, 67, 0.3), 0px 1px 3px 1px rgba(60, 64, 67, 0.15);\n",
              "      fill: #174EA6;\n",
              "    }\n",
              "\n",
              "    [theme=dark] .colab-df-convert {\n",
              "      background-color: #3B4455;\n",
              "      fill: #D2E3FC;\n",
              "    }\n",
              "\n",
              "    [theme=dark] .colab-df-convert:hover {\n",
              "      background-color: #434B5C;\n",
              "      box-shadow: 0px 1px 3px 1px rgba(0, 0, 0, 0.15);\n",
              "      filter: drop-shadow(0px 1px 2px rgba(0, 0, 0, 0.3));\n",
              "      fill: #FFFFFF;\n",
              "    }\n",
              "  </style>\n",
              "\n",
              "      <script>\n",
              "        const buttonEl =\n",
              "          document.querySelector('#df-c4451137-fc55-40e2-bd35-be540d98bcfa button.colab-df-convert');\n",
              "        buttonEl.style.display =\n",
              "          google.colab.kernel.accessAllowed ? 'block' : 'none';\n",
              "\n",
              "        async function convertToInteractive(key) {\n",
              "          const element = document.querySelector('#df-c4451137-fc55-40e2-bd35-be540d98bcfa');\n",
              "          const dataTable =\n",
              "            await google.colab.kernel.invokeFunction('convertToInteractive',\n",
              "                                                     [key], {});\n",
              "          if (!dataTable) return;\n",
              "\n",
              "          const docLinkHtml = 'Like what you see? Visit the ' +\n",
              "            '<a target=\"_blank\" href=https://colab.research.google.com/notebooks/data_table.ipynb>data table notebook</a>'\n",
              "            + ' to learn more about interactive tables.';\n",
              "          element.innerHTML = '';\n",
              "          dataTable['output_type'] = 'display_data';\n",
              "          await google.colab.output.renderOutput(dataTable, element);\n",
              "          const docLink = document.createElement('div');\n",
              "          docLink.innerHTML = docLinkHtml;\n",
              "          element.appendChild(docLink);\n",
              "        }\n",
              "      </script>\n",
              "    </div>\n",
              "  </div>\n",
              "  "
            ]
          },
          "metadata": {},
          "execution_count": 202
        }
      ]
    },
    {
      "metadata": {
        "id": "tet9wPZa2sZ4"
      },
      "cell_type": "markdown",
      "source": [
        "**Data Visualization**"
      ]
    },
    {
      "metadata": {
        "id": "vdm8CnMX16XQ",
        "colab": {
          "base_uri": "https://localhost:8080/",
          "height": 1000
        },
        "outputId": "245f4eb8-d4a8-4eb7-8fcd-731b779b99a6"
      },
      "cell_type": "code",
      "source": [
        "fig, (ax1,ax2,ax3,ax4,ax5,ax6,ax7) = plt.subplots(7, 1, figsize = (20,40))\n",
        "sns.countplot(x='Age', data=data, ax=ax1)\n",
        "sns.countplot(x='Number of sexual partners', data=data, ax=ax2)\n",
        "sns.countplot(x='Num of pregnancies', data=data, ax=ax3)\n",
        "sns.countplot(x='Smokes (years)', data=data, ax=ax4)\n",
        "sns.countplot(x='Hormonal Contraceptives (years)', data=data, ax=ax5)\n",
        "sns.countplot(x='IUD (years)', data=data, ax=ax6)\n",
        "sns.countplot(x='STDs (number)', data=data, ax=ax7)"
      ],
      "execution_count": 203,
      "outputs": [
        {
          "output_type": "execute_result",
          "data": {
            "text/plain": [
              "<Axes: xlabel='STDs (number)', ylabel='count'>"
            ]
          },
          "metadata": {},
          "execution_count": 203
        },
        {
          "output_type": "display_data",
          "data": {
            "text/plain": [
              "<Figure size 1440x2880 with 7 Axes>"
            ],
            "image/png": "[encoded data removed]"
          },
          "metadata": {}
        }
      ]
    },
    {
      "metadata": {
        "id": "gTkAjph43ZSg",
        "colab": {
          "base_uri": "https://localhost:8080/"
        },
        "outputId": "26389e5b-40c8-47ba-bcbb-048b51e1a48c"
      },
      "cell_type": "code",
      "source": [
        "# splitting the dataset into dependent and independent variables\n",
        "x = data.iloc[:, :-1]\n",
        "y = data.iloc[:, -1]\n",
        "\n",
        "\n",
        "\n",
        "print(x.shape)\n",
        "print(y.shape)\n"
      ],
      "execution_count": 204,
      "outputs": [
        {
          "output_type": "stream",
          "name": "stdout",
          "text": [
            "(858, 35)\n",
            "(858,)\n"
          ]
        }
      ]
    },
    {
      "cell_type": "code",
      "source": [
        "y"
      ],
      "metadata": {
        "colab": {
          "base_uri": "https://localhost:8080/"
        },
        "id": "DLvdioL_dEZ1",
        "outputId": "37ac8e3e-69b2-4e5f-e8c7-a37d69e562e0"
      },
      "execution_count": 205,
      "outputs": [
        {
          "output_type": "execute_result",
          "data": {
            "text/plain": [
              "0      0\n",
              "1      0\n",
              "2      0\n",
              "3      0\n",
              "4      0\n",
              "      ..\n",
              "853    0\n",
              "854    0\n",
              "855    0\n",
              "856    0\n",
              "857    0\n",
              "Name: Biopsy, Length: 858, dtype: int64"
            ]
          },
          "metadata": {},
          "execution_count": 205
        }
      ]
    },
    {
      "cell_type": "code",
      "source": [
        "x_features_categorical=[\n",
        " 'Smokes','Hormonal_Contraceptives','IUD','STDs','STDs_condylomatosis','STDs_cervical_condylomatosis','STDs_vaginal_condylomatosis','STDs_vulvo_perineal_condylomatosis','STDs_syphilis','STDs_pelvic_inflammatory_disease','STDs_genital_herpes','STDs_molluscum_contagiosum','STDs_AIDS','STDs_HIV','STDs_Hepatitis_B','STDs_HPV','Dx_Cancer','Dx_CIN','Dx_HPV','Dx']\n",
        "x_features_categorical"
      ],
      "metadata": {
        "colab": {
          "base_uri": "https://localhost:8080/"
        },
        "id": "R3jXtPOZbDHb",
        "outputId": "043afc5b-664e-4c3b-df0e-87b52074a609"
      },
      "execution_count": 206,
      "outputs": [
        {
          "output_type": "execute_result",
          "data": {
            "text/plain": [
              "['Smokes',\n",
              " 'Hormonal_Contraceptives',\n",
              " 'IUD',\n",
              " 'STDs',\n",
              " 'STDs_condylomatosis',\n",
              " 'STDs_cervical_condylomatosis',\n",
              " 'STDs_vaginal_condylomatosis',\n",
              " 'STDs_vulvo_perineal_condylomatosis',\n",
              " 'STDs_syphilis',\n",
              " 'STDs_pelvic_inflammatory_disease',\n",
              " 'STDs_genital_herpes',\n",
              " 'STDs_molluscum_contagiosum',\n",
              " 'STDs_AIDS',\n",
              " 'STDs_HIV',\n",
              " 'STDs_Hepatitis_B',\n",
              " 'STDs_HPV',\n",
              " 'Dx_Cancer',\n",
              " 'Dx_CIN',\n",
              " 'Dx_HPV',\n",
              " 'Dx']"
            ]
          },
          "metadata": {},
          "execution_count": 206
        }
      ]
    },
    {
      "cell_type": "code",
      "source": [
        "x_features_numerical=[i for i in x if i not in x_features_categorical]\n",
        "x_features_numerical"
      ],
      "metadata": {
        "colab": {
          "base_uri": "https://localhost:8080/"
        },
        "id": "j9fctroubPad",
        "outputId": "5c3f326f-ce0b-4e61-891f-d1316090cd79"
      },
      "execution_count": 207,
      "outputs": [
        {
          "output_type": "execute_result",
          "data": {
            "text/plain": [
              "['Age',\n",
              " 'Number of sexual partners',\n",
              " 'First sexual intercourse',\n",
              " 'Num of pregnancies',\n",
              " 'Smokes (years)',\n",
              " 'Smokes (packs/year)',\n",
              " 'Hormonal Contraceptives',\n",
              " 'Hormonal Contraceptives (years)',\n",
              " 'IUD (years)',\n",
              " 'STDs (number)',\n",
              " 'STDs:condylomatosis',\n",
              " 'STDs:cervical condylomatosis',\n",
              " 'STDs:vaginal condylomatosis',\n",
              " 'STDs:vulvo-perineal condylomatosis',\n",
              " 'STDs:syphilis',\n",
              " 'STDs:pelvic inflammatory disease',\n",
              " 'STDs:genital herpes',\n",
              " 'STDs:molluscum contagiosum',\n",
              " 'STDs:AIDS',\n",
              " 'STDs:HIV',\n",
              " 'STDs:Hepatitis B',\n",
              " 'STDs:HPV',\n",
              " 'STDs: Number of diagnosis',\n",
              " 'STDs: Time since first diagnosis',\n",
              " 'STDs: Time since last diagnosis',\n",
              " 'Dx:Cancer',\n",
              " 'Dx:CIN',\n",
              " 'Dx:HPV',\n",
              " 'Hinselmann',\n",
              " 'Schiller',\n",
              " 'Citology']"
            ]
          },
          "metadata": {},
          "execution_count": 207
        }
      ]
    },
    {
      "cell_type": "code",
      "source": [
        "\n",
        "from sklearn.feature_selection import SelectKBest\n",
        "from sklearn.feature_selection import f_classif\n",
        "X_new = SelectKBest(f_classif, k=10).fit_transform(x, y)\n",
        "print(type(x))\n",
        "print(type(X_new))\n",
        "print(X_new.size)\n",
        "\n"
      ],
      "metadata": {
        "colab": {
          "base_uri": "https://localhost:8080/"
        },
        "id": "L_Vn52KNfvWO",
        "outputId": "22b55f78-d1db-42ac-b3d7-d0171873db61"
      },
      "execution_count": 208,
      "outputs": [
        {
          "output_type": "stream",
          "name": "stdout",
          "text": [
            "<class 'pandas.core.frame.DataFrame'>\n",
            "<class 'numpy.ndarray'>\n",
            "8580\n"
          ]
        },
        {
          "output_type": "stream",
          "name": "stderr",
          "text": [
            "/usr/local/lib/python3.9/dist-packages/sklearn/feature_selection/_univariate_selection.py:112: UserWarning: Features [14 21] are constant.\n",
            "  warnings.warn(\"Features %s are constant.\" % constant_features_idx, UserWarning)\n",
            "/usr/local/lib/python3.9/dist-packages/sklearn/feature_selection/_univariate_selection.py:113: RuntimeWarning: invalid value encountered in true_divide\n",
            "  f = msb / msw\n"
          ]
        }
      ]
    },
    {
      "metadata": {
        "id": "aXvv0Fl_4Dkh",
        "colab": {
          "base_uri": "https://localhost:8080/"
        },
        "outputId": "90906eeb-fc3e-4042-9f60-45f81fdffcd9"
      },
      "cell_type": "code",
      "source": [
        "# splitting the dataset into  training and test set\n",
        "\n",
        "from sklearn.model_selection import train_test_split\n",
        "\n",
        "x_train, x_test, y_train, y_test = train_test_split(x, y, test_size = 0.25, random_state = 4)\n",
        "\n",
        "print(x_train.shape)\n",
        "print(y_train.shape)\n",
        "print(x_test.shape)\n",
        "print(y_test.shape)"
      ],
      "execution_count": 209,
      "outputs": [
        {
          "output_type": "stream",
          "name": "stdout",
          "text": [
            "(643, 35)\n",
            "(643,)\n",
            "(215, 35)\n",
            "(215,)\n"
          ]
        }
      ]
    },
    {
      "metadata": {
        "id": "m1yPO23A4n9l"
      },
      "cell_type": "code",
      "source": [
        "# MinMaxScaling\n",
        "\n",
        "from sklearn.preprocessing import MinMaxScaler\n",
        "\n",
        "# creating a minmax scaler\n",
        "mm = MinMaxScaler()\n",
        "\n",
        "# feeding the independent data into the scaler\n",
        "x_train = mm.fit_transform(x_train)\n",
        "x_test = mm.fit_transform(x_test)"
      ],
      "execution_count": 210,
      "outputs": []
    },
    {
      "metadata": {
        "id": "Lnf0gXkw57Hh"
      },
      "cell_type": "markdown",
      "source": [
        "**Ensemble models**"
      ]
    },
    {
      "metadata": {
        "id": "PL5Ez4AF7-o4"
      },
      "cell_type": "markdown",
      "source": [
        "**Random Forest**"
      ]
    },
    {
      "metadata": {
        "id": "pG6sbJBu78v4",
        "colab": {
          "base_uri": "https://localhost:8080/"
        },
        "outputId": "501d9c86-6b16-4eda-f9c5-2ca08569930d"
      },
      "cell_type": "code",
      "source": [
        "from sklearn.ensemble import RandomForestClassifier\n",
        "from sklearn import metrics\n",
        "from sklearn.metrics import classification_report,accuracy_score,confusion_matrix\n",
        "# creating the model\n",
        "RF = RandomForestClassifier(n_estimators=100,random_state=100, max_depth=7)\n",
        "\n",
        "# feeding the training data into the model\n",
        "RF.fit(x_train, y_train)\n",
        "\n",
        "# predicting the test set results\n",
        "y_pred = RF.predict(x_test)\n",
        "\n",
        "# Calculating the accuracies\n",
        "print(\"Training accuracy :\", RF.score(x_train, y_train))\n",
        "print(\"Testing accuracy :\", RF.score(x_test, y_test))\n",
        "\n",
        "# classification report\n",
        "print(classification_report(y_test, y_pred))\n",
        "\n",
        "# confusion matrix \n",
        "print(confusion_matrix(y_test, y_pred))"
      ],
      "execution_count": 211,
      "outputs": [
        {
          "output_type": "stream",
          "name": "stdout",
          "text": [
            "Training accuracy : 0.9968895800933126\n",
            "Testing accuracy : 0.9441860465116279\n",
            "              precision    recall  f1-score   support\n",
            "\n",
            "           0       0.98      0.97      0.97       204\n",
            "           1       0.46      0.55      0.50        11\n",
            "\n",
            "    accuracy                           0.94       215\n",
            "   macro avg       0.72      0.76      0.74       215\n",
            "weighted avg       0.95      0.94      0.95       215\n",
            "\n",
            "[[197   7]\n",
            " [  5   6]]\n"
          ]
        }
      ]
    },
    {
      "cell_type": "code",
      "source": [
        "from sklearn.metrics import confusion_matrix\n",
        "\n",
        "print('Confusion matrix\\n\\n', cm)\n",
        "\n",
        "cm = confusion_matrix(y_test, y_pred)\n",
        "\n",
        "print('\\nTrue Positives(TP) = ', cm[0,0])\n",
        "print('\\nTrue Negatives(TN) = ', cm[1,1])\n",
        "print('\\nFalse Positives(FP) = ', cm[0,1])\n",
        "print('\\nFalse Negatives(FN) = ', cm[1,0])\n",
        "cm_matrix = pd.DataFrame(data=cm, columns=['Actual Positive:1', 'Actual Negative:0'], \n",
        "                                 index=['Predict Positive:1', 'Predict Negative:0'])\n",
        "\n",
        "sns.heatmap(cm_matrix, annot=True, fmt='d', cmap='YlGnBu')"
      ],
      "metadata": {
        "colab": {
          "base_uri": "https://localhost:8080/",
          "height": 835
        },
        "id": "zCVyCnlitJAT",
        "outputId": "809ab196-5867-4bb7-b4ea-e673c703da21"
      },
      "execution_count": 212,
      "outputs": [
        {
          "output_type": "stream",
          "name": "stdout",
          "text": [
            "Confusion matrix\n",
            "\n",
            " [[ 1.          0.73320388  0.54741663  0.32746639  0.16090497  0.16090497\n",
            "   0.15760664         nan         nan  0.11317233]\n",
            " [ 0.73320388  1.          0.65024919  0.36148649  0.1578116   0.1578116\n",
            "   0.0989521          nan         nan  0.00911911]\n",
            " [ 0.54741663  0.65024919  1.          0.19246711  0.1342636   0.1342636\n",
            "   0.07221485         nan         nan -0.02123252]\n",
            " [ 0.32746639  0.36148649  0.19246711  1.          0.11344608  0.11344608\n",
            "   0.08873996         nan         nan -0.02393765]\n",
            " [ 0.16090497  0.1578116   0.1342636   0.11344608  1.          0.88650794\n",
            "   0.66564706         nan         nan -0.01507176]\n",
            " [ 0.16090497  0.1578116   0.1342636   0.11344608  0.88650794  1.\n",
            "   0.6163271          nan         nan -0.01507176]\n",
            " [ 0.15760664  0.0989521   0.07221485  0.08873996  0.66564706  0.6163271\n",
            "   1.                 nan         nan  0.60693868]\n",
            " [        nan         nan         nan         nan         nan         nan\n",
            "          nan         nan         nan         nan]\n",
            " [        nan         nan         nan         nan         nan         nan\n",
            "          nan         nan         nan         nan]\n",
            " [ 0.11317233  0.00911911 -0.02123252 -0.02393765 -0.01507176 -0.01507176\n",
            "   0.60693868         nan         nan  1.        ]]\n",
            "\n",
            "True Positives(TP) =  197\n",
            "\n",
            "True Negatives(TN) =  6\n",
            "\n",
            "False Positives(FP) =  7\n",
            "\n",
            "False Negatives(FN) =  5\n"
          ]
        },
        {
          "output_type": "execute_result",
          "data": {
            "text/plain": [
              "<Axes: >"
            ]
          },
          "metadata": {},
          "execution_count": 212
        },
        {
          "output_type": "display_data",
          "data": {
            "text/plain": [
              "<Figure size 432x288 with 2 Axes>"
            ],
            "image/png": "[encoded data removed]"
          },
          "metadata": {}
        }
      ]
    },
    {
      "metadata": {
        "id": "7amd6wWn9iOa"
      },
      "cell_type": "markdown",
      "source": [
        "**AdaBoost Classifier**"
      ]
    },
    {
      "metadata": {
        "id": "sr7CO7eL9X_I",
        "colab": {
          "base_uri": "https://localhost:8080/"
        },
        "outputId": "cb7f3ea5-2f7c-43c7-a985-e26673431beb"
      },
      "cell_type": "code",
      "source": [
        "from sklearn.ensemble import AdaBoostClassifier\n",
        "\n",
        "# creating the model\n",
        "model = AdaBoostClassifier()\n",
        "\n",
        "# feeding the training data into the model\n",
        "model.fit(x_train, y_train)\n",
        "\n",
        "# predicting the test set results\n",
        "y_pred = model.predict(x_test)\n",
        "\n",
        "# Calculating the accuracies\n",
        "print(\"Training accuracy :\", model.score(x_train, y_train))\n",
        "print(\"Testing accuracy :\", model.score(x_test, y_test))\n",
        "\n",
        "# classification report\n",
        "print(classification_report(y_test, y_pred))\n",
        "\n",
        "# confusion matrix \n",
        "print(confusion_matrix(y_test, y_pred))"
      ],
      "execution_count": 213,
      "outputs": [
        {
          "output_type": "stream",
          "name": "stdout",
          "text": [
            "Training accuracy : 0.9906687402799378\n",
            "Testing accuracy : 0.9348837209302325\n",
            "              precision    recall  f1-score   support\n",
            "\n",
            "           0       0.98      0.95      0.97       204\n",
            "           1       0.41      0.64      0.50        11\n",
            "\n",
            "    accuracy                           0.93       215\n",
            "   macro avg       0.70      0.79      0.73       215\n",
            "weighted avg       0.95      0.93      0.94       215\n",
            "\n",
            "[[194  10]\n",
            " [  4   7]]\n"
          ]
        }
      ]
    },
    {
      "cell_type": "code",
      "source": [
        "from sklearn.metrics import confusion_matrix\n",
        "\n",
        "print('Confusion matrix\\n\\n', cm)\n",
        "\n",
        "cm = confusion_matrix(y_test, y_pred)\n",
        "\n",
        "print('\\nTrue Positives(TP) = ', cm[0,0])\n",
        "print('\\nTrue Negatives(TN) = ', cm[1,1])\n",
        "print('\\nFalse Positives(FP) = ', cm[0,1])\n",
        "print('\\nFalse Negatives(FN) = ', cm[1,0])\n",
        "cm_matrix = pd.DataFrame(data=cm, columns=['Actual Positive:1', 'Actual Negative:0'], \n",
        "                                 index=['Predict Positive:1', 'Predict Negative:0'])\n",
        "\n",
        "sns.heatmap(cm_matrix, annot=True, fmt='d', cmap='YlGnBu')"
      ],
      "metadata": {
        "colab": {
          "base_uri": "https://localhost:8080/",
          "height": 508
        },
        "id": "hFjlPH65tLGN",
        "outputId": "cbe693f8-a376-4d47-9706-af9b829db10f"
      },
      "execution_count": 214,
      "outputs": [
        {
          "output_type": "stream",
          "name": "stdout",
          "text": [
            "Confusion matrix\n",
            "\n",
            " [[197   7]\n",
            " [  5   6]]\n",
            "\n",
            "True Positives(TP) =  194\n",
            "\n",
            "True Negatives(TN) =  7\n",
            "\n",
            "False Positives(FP) =  10\n",
            "\n",
            "False Negatives(FN) =  4\n"
          ]
        },
        {
          "output_type": "execute_result",
          "data": {
            "text/plain": [
              "<Axes: >"
            ]
          },
          "metadata": {},
          "execution_count": 214
        },
        {
          "output_type": "display_data",
          "data": {
            "text/plain": [
              "<Figure size 432x288 with 2 Axes>"
            ],
            "image/png": "[encoded data removed]"
          },
          "metadata": {}
        }
      ]
    },
    {
      "cell_type": "markdown",
      "source": [
        "***Light GBM***"
      ],
      "metadata": {
        "id": "yXCivBZToWnr"
      }
    },
    {
      "cell_type": "code",
      "source": [
        "from sklearn.metrics import accuracy_score\n",
        "from sklearn.model_selection import train_test_split\n",
        "import lightgbm as lgb\n",
        "\n",
        "model = lgb.LGBMClassifier()\n",
        "\n",
        "model.fit(x_train, y_train)\n",
        "\n",
        "# predicting the test set results\n",
        "y_pred = model.predict(x_test)\n",
        "\n",
        "# Calculating the accuracies\n",
        "print(\"Training accuracy :\", model.score(x_train, y_train))\n",
        "print(\"Testing accuracy :\", model.score(x_test, y_test))\n",
        "\n",
        "# classification report\n",
        "print(classification_report(y_test, y_pred))\n",
        "\n",
        "# confusion matrix \n",
        "print(confusion_matrix(y_test, y_pred))"
      ],
      "metadata": {
        "id": "R4wMOT8Lv51e",
        "colab": {
          "base_uri": "https://localhost:8080/"
        },
        "outputId": "a7822dbe-51a9-42fa-8d73-8a797c9562aa"
      },
      "execution_count": 215,
      "outputs": [
        {
          "output_type": "stream",
          "name": "stdout",
          "text": [
            "Training accuracy : 1.0\n",
            "Testing accuracy : 0.9302325581395349\n",
            "              precision    recall  f1-score   support\n",
            "\n",
            "           0       0.97      0.96      0.96       204\n",
            "           1       0.36      0.45      0.40        11\n",
            "\n",
            "    accuracy                           0.93       215\n",
            "   macro avg       0.66      0.71      0.68       215\n",
            "weighted avg       0.94      0.93      0.93       215\n",
            "\n",
            "[[195   9]\n",
            " [  6   5]]\n"
          ]
        }
      ]
    },
    {
      "cell_type": "code",
      "source": [
        "from sklearn.metrics import confusion_matrix\n",
        "\n",
        "print('Confusion matrix\\n\\n', cm)\n",
        "\n",
        "cm = confusion_matrix(y_test, y_pred)\n",
        "\n",
        "print('\\nTrue Positives(TP) = ', cm[0,0])\n",
        "print('\\nTrue Negatives(TN) = ', cm[1,1])\n",
        "print('\\nFalse Positives(FP) = ', cm[0,1])\n",
        "print('\\nFalse Negatives(FN) = ', cm[1,0])\n",
        "cm_matrix = pd.DataFrame(data=cm, columns=['Actual Positive:1', 'Actual Negative:0'], \n",
        "                                 index=['Predict Positive:1', 'Predict Negative:0'])\n",
        "\n",
        "sns.heatmap(cm_matrix, annot=True, fmt='d', cmap='YlGnBu')\n"
      ],
      "metadata": {
        "colab": {
          "base_uri": "https://localhost:8080/",
          "height": 508
        },
        "id": "ybjV6_Lb3SEX",
        "outputId": "f7890694-679c-4937-c583-c56546801585"
      },
      "execution_count": 216,
      "outputs": [
        {
          "output_type": "stream",
          "name": "stdout",
          "text": [
            "Confusion matrix\n",
            "\n",
            " [[194  10]\n",
            " [  4   7]]\n",
            "\n",
            "True Positives(TP) =  195\n",
            "\n",
            "True Negatives(TN) =  5\n",
            "\n",
            "False Positives(FP) =  9\n",
            "\n",
            "False Negatives(FN) =  6\n"
          ]
        },
        {
          "output_type": "execute_result",
          "data": {
            "text/plain": [
              "<Axes: >"
            ]
          },
          "metadata": {},
          "execution_count": 216
        },
        {
          "output_type": "display_data",
          "data": {
            "text/plain": [
              "<Figure size 432x288 with 2 Axes>"
            ],
            "image/png": "[encoded data removed]"
          },
          "metadata": {}
        }
      ]
    },
    {
      "cell_type": "markdown",
      "source": [
        "***Gradient Boosting***"
      ],
      "metadata": {
        "id": "coSbGQijtfqz"
      }
    },
    {
      "cell_type": "code",
      "source": [
        "from sklearn.ensemble import GradientBoostingClassifier\n",
        "\n",
        "model = GradientBoostingClassifier()\n",
        "\n",
        "model.fit(x_train, y_train)\n",
        "\n",
        "# predicting the test set results\n",
        "y_pred = model.predict(x_test)\n",
        "\n",
        "# Calculating the accuracies\n",
        "print(\"Training accuracy :\", model.score(x_train, y_train))\n",
        "print(\"Testing accuracy :\", model.score(x_test, y_test))\n",
        "\n",
        "# classification report\n",
        "print(classification_report(y_test, y_pred))\n",
        "\n",
        "# confusion matrix \n",
        "print(confusion_matrix(y_test, y_pred))"
      ],
      "metadata": {
        "colab": {
          "base_uri": "https://localhost:8080/"
        },
        "id": "wCosPLQ3tRyP",
        "outputId": "8c8acac9-6a49-43ea-e6e1-f9b3de08f4d2"
      },
      "execution_count": 218,
      "outputs": [
        {
          "output_type": "stream",
          "name": "stdout",
          "text": [
            "Training accuracy : 0.9984447900466563\n",
            "Testing accuracy : 0.9395348837209302\n",
            "              precision    recall  f1-score   support\n",
            "\n",
            "           0       0.98      0.96      0.97       204\n",
            "           1       0.44      0.64      0.52        11\n",
            "\n",
            "    accuracy                           0.94       215\n",
            "   macro avg       0.71      0.80      0.74       215\n",
            "weighted avg       0.95      0.94      0.94       215\n",
            "\n",
            "[[195   9]\n",
            " [  4   7]]\n"
          ]
        }
      ]
    },
    {
      "cell_type": "code",
      "source": [
        "from sklearn.metrics import confusion_matrix\n",
        "\n",
        "print('Confusion matrix\\n\\n', cm)\n",
        "\n",
        "cm = confusion_matrix(y_test, y_pred)\n",
        "\n",
        "print('\\nTrue Positives(TP) = ', cm[0,0])\n",
        "print('\\nTrue Negatives(TN) = ', cm[1,1])\n",
        "print('\\nFalse Positives(FP) = ', cm[0,1])\n",
        "print('\\nFalse Negatives(FN) = ', cm[1,0])\n",
        "cm_matrix = pd.DataFrame(data=cm, columns=['Actual Positive:1', 'Actual Negative:0'], \n",
        "                                 index=['Predict Positive:1', 'Predict Negative:0'])\n",
        "\n",
        "sns.heatmap(cm_matrix, annot=True, fmt='d', cmap='YlGnBu')"
      ],
      "metadata": {
        "colab": {
          "base_uri": "https://localhost:8080/",
          "height": 508
        },
        "id": "DtvND1Uu5l49",
        "outputId": "62e3e690-3087-45c3-c9a6-c15077cb5ec4"
      },
      "execution_count": 219,
      "outputs": [
        {
          "output_type": "stream",
          "name": "stdout",
          "text": [
            "Confusion matrix\n",
            "\n",
            " [[195   9]\n",
            " [  6   5]]\n",
            "\n",
            "True Positives(TP) =  195\n",
            "\n",
            "True Negatives(TN) =  7\n",
            "\n",
            "False Positives(FP) =  9\n",
            "\n",
            "False Negatives(FN) =  4\n"
          ]
        },
        {
          "output_type": "execute_result",
          "data": {
            "text/plain": [
              "<Axes: >"
            ]
          },
          "metadata": {},
          "execution_count": 219
        },
        {
          "output_type": "display_data",
          "data": {
            "text/plain": [
              "<Figure size 432x288 with 2 Axes>"
            ],
            "image/png": "[encoded data removed]"
          },
          "metadata": {}
        }
      ]
    },
    {
      "cell_type": "markdown",
      "source": [
        "***Extreme Gradient Boosting CLassifier***"
      ],
      "metadata": {
        "id": "o0txxovc5pDN"
      }
    },
    {
      "cell_type": "code",
      "source": [
        "import xgboost as xgb\n",
        "model = xgb.XGBClassifier()\n",
        "\n",
        "model.fit(x_train, y_train)\n",
        "\n",
        "# predicting the test set results\n",
        "y_pred = model.predict(x_test)\n",
        "\n",
        "# Calculating the accuracies\n",
        "print(\"Training accuracy :\", model.score(x_train, y_train))\n",
        "print(\"Testing accuracy :\", model.score(x_test, y_test))\n",
        "\n",
        "# classification report\n",
        "print(classification_report(y_test, y_pred))\n",
        "\n",
        "# confusion matrix \n",
        "print(confusion_matrix(y_test, y_pred))"
      ],
      "metadata": {
        "colab": {
          "base_uri": "https://localhost:8080/"
        },
        "id": "-9h8Wdzp5n2_",
        "outputId": "33c3b4af-7916-49fa-fbcb-8db1d9f87674"
      },
      "execution_count": 220,
      "outputs": [
        {
          "output_type": "stream",
          "name": "stdout",
          "text": [
            "Training accuracy : 0.9984447900466563\n",
            "Testing accuracy : 0.9255813953488372\n",
            "              precision    recall  f1-score   support\n",
            "\n",
            "           0       0.97      0.96      0.96       204\n",
            "           1       0.31      0.36      0.33        11\n",
            "\n",
            "    accuracy                           0.93       215\n",
            "   macro avg       0.64      0.66      0.65       215\n",
            "weighted avg       0.93      0.93      0.93       215\n",
            "\n",
            "[[195   9]\n",
            " [  7   4]]\n"
          ]
        }
      ]
    },
    {
      "cell_type": "code",
      "source": [
        "from sklearn.metrics import confusion_matrix\n",
        "\n",
        "print('Confusion matrix\\n\\n', cm)\n",
        "\n",
        "cm = confusion_matrix(y_test, y_pred)\n",
        "\n",
        "print('\\nTrue Positives(TP) = ', cm[0,0])\n",
        "print('\\nTrue Negatives(TN) = ', cm[1,1])\n",
        "print('\\nFalse Positives(FP) = ', cm[0,1])\n",
        "print('\\nFalse Negatives(FN) = ', cm[1,0])\n",
        "cm_matrix = pd.DataFrame(data=cm, columns=['Actual Positive:1', 'Actual Negative:0'], \n",
        "                                 index=['Predict Positive:1', 'Predict Negative:0'])\n",
        "\n",
        "sns.heatmap(cm_matrix, annot=True, fmt='d', cmap='YlGnBu')"
      ],
      "metadata": {
        "colab": {
          "base_uri": "https://localhost:8080/",
          "height": 508
        },
        "id": "sbA7KOlk6f5L",
        "outputId": "79e96ecd-daab-42cc-eb60-7b747a8e39cf"
      },
      "execution_count": 221,
      "outputs": [
        {
          "output_type": "stream",
          "name": "stdout",
          "text": [
            "Confusion matrix\n",
            "\n",
            " [[195   9]\n",
            " [  4   7]]\n",
            "\n",
            "True Positives(TP) =  195\n",
            "\n",
            "True Negatives(TN) =  4\n",
            "\n",
            "False Positives(FP) =  9\n",
            "\n",
            "False Negatives(FN) =  7\n"
          ]
        },
        {
          "output_type": "execute_result",
          "data": {
            "text/plain": [
              "<Axes: >"
            ]
          },
          "metadata": {},
          "execution_count": 221
        },
        {
          "output_type": "display_data",
          "data": {
            "text/plain": [
              "<Figure size 432x288 with 2 Axes>"
            ],
            "image/png": "[encoded data removed]"
          },
          "metadata": {}
        }
      ]
    },
    {
      "cell_type": "markdown",
      "source": [
        "***CatBoost***"
      ],
      "metadata": {
        "id": "ehyYsm3H6nPI"
      }
    },
    {
      "cell_type": "code",
      "source": [
        "\n",
        "from catboost import CatBoostClassifier\n",
        "model = CatBoostClassifier()\n",
        "model.fit(x_train, y_train)\n",
        "\n",
        "# predicting the test set results\n",
        "y_pred = model.predict(x_test)\n",
        "\n",
        "# Calculating the accuracies\n",
        "print(\"Training accuracy :\", model.score(x_train, y_train))\n",
        "print(\"Testing accuracy :\", model.score(x_test, y_test))\n",
        "\n",
        "# classification report\n",
        "print(classification_report(y_test, y_pred))\n",
        "\n",
        "# confusion matrix \n",
        "print(confusion_matrix(y_test, y_pred))\n"
      ],
      "metadata": {
        "colab": {
          "base_uri": "https://localhost:8080/"
        },
        "id": "quCa1p_p6m43",
        "outputId": "6df86995-2ecf-4095-acd7-7b1aaaf6abe5"
      },
      "execution_count": 230,
      "outputs": [
        {
          "output_type": "stream",
          "name": "stdout",
          "text": [
            "Learning rate set to 0.008532\n",
            "0:\tlearn: 0.6742342\ttotal: 50.5ms\tremaining: 50.4s\n",
            "1:\tlearn: 0.6569116\ttotal: 53.4ms\tremaining: 26.6s\n",
            "2:\tlearn: 0.6397569\ttotal: 55.2ms\tremaining: 18.3s\n",
            "3:\tlearn: 0.6226958\ttotal: 57ms\tremaining: 14.2s\n",
            "4:\tlearn: 0.6065340\ttotal: 59.5ms\tremaining: 11.8s\n",
            "5:\tlearn: 0.5877546\ttotal: 61.4ms\tremaining: 10.2s\n",
            "6:\tlearn: 0.5777080\ttotal: 63.4ms\tremaining: 8.99s\n",
            "7:\tlearn: 0.5621714\ttotal: 65.2ms\tremaining: 8.08s\n",
            "8:\tlearn: 0.5475577\ttotal: 66.9ms\tremaining: 7.37s\n",
            "9:\tlearn: 0.5335711\ttotal: 69.4ms\tremaining: 6.87s\n",
            "10:\tlearn: 0.5195124\ttotal: 70.3ms\tremaining: 6.32s\n",
            "11:\tlearn: 0.5057108\ttotal: 71ms\tremaining: 5.84s\n",
            "12:\tlearn: 0.4932602\ttotal: 72.7ms\tremaining: 5.51s\n",
            "13:\tlearn: 0.4809652\ttotal: 74.3ms\tremaining: 5.23s\n",
            "14:\tlearn: 0.4690228\ttotal: 76ms\tremaining: 4.99s\n",
            "15:\tlearn: 0.4574673\ttotal: 78.5ms\tremaining: 4.83s\n",
            "16:\tlearn: 0.4459954\ttotal: 80.5ms\tremaining: 4.65s\n",
            "17:\tlearn: 0.4352546\ttotal: 82.2ms\tremaining: 4.49s\n",
            "18:\tlearn: 0.4244881\ttotal: 83.5ms\tremaining: 4.31s\n",
            "19:\tlearn: 0.4139209\ttotal: 84.6ms\tremaining: 4.14s\n",
            "20:\tlearn: 0.4041691\ttotal: 86.2ms\tremaining: 4.02s\n",
            "21:\tlearn: 0.3938114\ttotal: 88.6ms\tremaining: 3.94s\n",
            "22:\tlearn: 0.3845003\ttotal: 90.6ms\tremaining: 3.85s\n",
            "23:\tlearn: 0.3744033\ttotal: 92.3ms\tremaining: 3.75s\n",
            "24:\tlearn: 0.3653941\ttotal: 93ms\tremaining: 3.63s\n",
            "25:\tlearn: 0.3567300\ttotal: 94.6ms\tremaining: 3.54s\n",
            "26:\tlearn: 0.3480106\ttotal: 96.2ms\tremaining: 3.47s\n",
            "27:\tlearn: 0.3399518\ttotal: 97.4ms\tremaining: 3.38s\n",
            "28:\tlearn: 0.3317713\ttotal: 99.8ms\tremaining: 3.34s\n",
            "29:\tlearn: 0.3242308\ttotal: 101ms\tremaining: 3.26s\n",
            "30:\tlearn: 0.3171036\ttotal: 103ms\tremaining: 3.21s\n",
            "31:\tlearn: 0.3102570\ttotal: 104ms\tremaining: 3.15s\n",
            "32:\tlearn: 0.3036841\ttotal: 106ms\tremaining: 3.1s\n",
            "33:\tlearn: 0.2997406\ttotal: 108ms\tremaining: 3.08s\n",
            "34:\tlearn: 0.2931889\ttotal: 110ms\tremaining: 3.04s\n",
            "35:\tlearn: 0.2872504\ttotal: 112ms\tremaining: 3s\n",
            "36:\tlearn: 0.2814237\ttotal: 114ms\tremaining: 2.96s\n",
            "37:\tlearn: 0.2760252\ttotal: 116ms\tremaining: 2.92s\n",
            "38:\tlearn: 0.2704383\ttotal: 118ms\tremaining: 2.91s\n",
            "39:\tlearn: 0.2647620\ttotal: 119ms\tremaining: 2.85s\n",
            "40:\tlearn: 0.2594999\ttotal: 121ms\tremaining: 2.82s\n",
            "41:\tlearn: 0.2540544\ttotal: 122ms\tremaining: 2.79s\n",
            "42:\tlearn: 0.2496242\ttotal: 124ms\tremaining: 2.76s\n",
            "43:\tlearn: 0.2448412\ttotal: 126ms\tremaining: 2.73s\n",
            "44:\tlearn: 0.2402839\ttotal: 128ms\tremaining: 2.72s\n",
            "45:\tlearn: 0.2357562\ttotal: 130ms\tremaining: 2.7s\n",
            "46:\tlearn: 0.2315053\ttotal: 132ms\tremaining: 2.68s\n",
            "47:\tlearn: 0.2272753\ttotal: 134ms\tremaining: 2.65s\n",
            "48:\tlearn: 0.2231976\ttotal: 135ms\tremaining: 2.63s\n",
            "49:\tlearn: 0.2184296\ttotal: 138ms\tremaining: 2.62s\n",
            "50:\tlearn: 0.2142238\ttotal: 140ms\tremaining: 2.6s\n",
            "51:\tlearn: 0.2105363\ttotal: 142ms\tremaining: 2.58s\n",
            "52:\tlearn: 0.2069302\ttotal: 143ms\tremaining: 2.56s\n",
            "53:\tlearn: 0.2033901\ttotal: 144ms\tremaining: 2.52s\n",
            "54:\tlearn: 0.1999722\ttotal: 146ms\tremaining: 2.5s\n",
            "55:\tlearn: 0.1965607\ttotal: 147ms\tremaining: 2.47s\n",
            "56:\tlearn: 0.1933792\ttotal: 149ms\tremaining: 2.47s\n",
            "57:\tlearn: 0.1896659\ttotal: 151ms\tremaining: 2.46s\n",
            "58:\tlearn: 0.1867250\ttotal: 153ms\tremaining: 2.44s\n",
            "59:\tlearn: 0.1831089\ttotal: 154ms\tremaining: 2.42s\n",
            "60:\tlearn: 0.1803999\ttotal: 156ms\tremaining: 2.41s\n",
            "61:\tlearn: 0.1776968\ttotal: 161ms\tremaining: 2.43s\n",
            "62:\tlearn: 0.1749635\ttotal: 163ms\tremaining: 2.42s\n",
            "63:\tlearn: 0.1719494\ttotal: 164ms\tremaining: 2.4s\n",
            "64:\tlearn: 0.1693989\ttotal: 167ms\tremaining: 2.4s\n",
            "65:\tlearn: 0.1671166\ttotal: 169ms\tremaining: 2.39s\n",
            "66:\tlearn: 0.1642856\ttotal: 172ms\tremaining: 2.39s\n",
            "67:\tlearn: 0.1619257\ttotal: 174ms\tremaining: 2.38s\n",
            "68:\tlearn: 0.1597761\ttotal: 174ms\tremaining: 2.35s\n",
            "69:\tlearn: 0.1578091\ttotal: 176ms\tremaining: 2.34s\n",
            "70:\tlearn: 0.1555411\ttotal: 178ms\tremaining: 2.33s\n",
            "71:\tlearn: 0.1536468\ttotal: 181ms\tremaining: 2.33s\n",
            "72:\tlearn: 0.1516945\ttotal: 182ms\tremaining: 2.32s\n",
            "73:\tlearn: 0.1499007\ttotal: 184ms\tremaining: 2.3s\n",
            "74:\tlearn: 0.1487520\ttotal: 186ms\tremaining: 2.29s\n",
            "75:\tlearn: 0.1469602\ttotal: 189ms\tremaining: 2.29s\n",
            "76:\tlearn: 0.1449893\ttotal: 191ms\tremaining: 2.28s\n",
            "77:\tlearn: 0.1430032\ttotal: 192ms\tremaining: 2.27s\n",
            "78:\tlearn: 0.1413376\ttotal: 194ms\tremaining: 2.26s\n",
            "79:\tlearn: 0.1397455\ttotal: 196ms\tremaining: 2.26s\n",
            "80:\tlearn: 0.1381860\ttotal: 203ms\tremaining: 2.31s\n",
            "81:\tlearn: 0.1366469\ttotal: 215ms\tremaining: 2.41s\n",
            "82:\tlearn: 0.1348478\ttotal: 217ms\tremaining: 2.4s\n",
            "83:\tlearn: 0.1332238\ttotal: 219ms\tremaining: 2.39s\n",
            "84:\tlearn: 0.1311668\ttotal: 220ms\tremaining: 2.37s\n",
            "85:\tlearn: 0.1297882\ttotal: 222ms\tremaining: 2.36s\n",
            "86:\tlearn: 0.1284104\ttotal: 224ms\tremaining: 2.35s\n",
            "87:\tlearn: 0.1268286\ttotal: 226ms\tremaining: 2.34s\n",
            "88:\tlearn: 0.1251101\ttotal: 228ms\tremaining: 2.33s\n",
            "89:\tlearn: 0.1236174\ttotal: 230ms\tremaining: 2.33s\n",
            "90:\tlearn: 0.1224106\ttotal: 232ms\tremaining: 2.32s\n",
            "91:\tlearn: 0.1212406\ttotal: 234ms\tremaining: 2.31s\n",
            "92:\tlearn: 0.1201817\ttotal: 235ms\tremaining: 2.29s\n",
            "93:\tlearn: 0.1186504\ttotal: 237ms\tremaining: 2.29s\n",
            "94:\tlearn: 0.1170948\ttotal: 240ms\tremaining: 2.28s\n",
            "95:\tlearn: 0.1159533\ttotal: 241ms\tremaining: 2.27s\n",
            "96:\tlearn: 0.1149188\ttotal: 243ms\tremaining: 2.26s\n",
            "97:\tlearn: 0.1138090\ttotal: 245ms\tremaining: 2.25s\n",
            "98:\tlearn: 0.1123669\ttotal: 247ms\tremaining: 2.25s\n",
            "99:\tlearn: 0.1107218\ttotal: 250ms\tremaining: 2.25s\n",
            "100:\tlearn: 0.1095599\ttotal: 251ms\tremaining: 2.24s\n",
            "101:\tlearn: 0.1089189\ttotal: 253ms\tremaining: 2.23s\n",
            "102:\tlearn: 0.1076043\ttotal: 254ms\tremaining: 2.21s\n",
            "103:\tlearn: 0.1064521\ttotal: 256ms\tremaining: 2.21s\n",
            "104:\tlearn: 0.1052076\ttotal: 259ms\tremaining: 2.21s\n",
            "105:\tlearn: 0.1042558\ttotal: 261ms\tremaining: 2.2s\n",
            "106:\tlearn: 0.1031695\ttotal: 263ms\tremaining: 2.19s\n",
            "107:\tlearn: 0.1021536\ttotal: 265ms\tremaining: 2.19s\n",
            "108:\tlearn: 0.1012861\ttotal: 267ms\tremaining: 2.18s\n",
            "109:\tlearn: 0.1001268\ttotal: 269ms\tremaining: 2.18s\n",
            "110:\tlearn: 0.0989976\ttotal: 275ms\tremaining: 2.2s\n",
            "111:\tlearn: 0.0983934\ttotal: 276ms\tremaining: 2.19s\n",
            "112:\tlearn: 0.0979700\ttotal: 278ms\tremaining: 2.18s\n",
            "113:\tlearn: 0.0970822\ttotal: 281ms\tremaining: 2.18s\n",
            "114:\tlearn: 0.0964240\ttotal: 283ms\tremaining: 2.17s\n",
            "115:\tlearn: 0.0957273\ttotal: 284ms\tremaining: 2.17s\n",
            "116:\tlearn: 0.0949194\ttotal: 286ms\tremaining: 2.16s\n",
            "117:\tlearn: 0.0940164\ttotal: 288ms\tremaining: 2.15s\n",
            "118:\tlearn: 0.0933716\ttotal: 290ms\tremaining: 2.15s\n",
            "119:\tlearn: 0.0924296\ttotal: 292ms\tremaining: 2.14s\n",
            "120:\tlearn: 0.0916535\ttotal: 294ms\tremaining: 2.13s\n",
            "121:\tlearn: 0.0908385\ttotal: 295ms\tremaining: 2.13s\n",
            "122:\tlearn: 0.0904632\ttotal: 297ms\tremaining: 2.12s\n",
            "123:\tlearn: 0.0900010\ttotal: 298ms\tremaining: 2.1s\n",
            "124:\tlearn: 0.0891535\ttotal: 303ms\tremaining: 2.12s\n",
            "125:\tlearn: 0.0884549\ttotal: 304ms\tremaining: 2.11s\n",
            "126:\tlearn: 0.0882079\ttotal: 306ms\tremaining: 2.1s\n",
            "127:\tlearn: 0.0879444\ttotal: 308ms\tremaining: 2.1s\n",
            "128:\tlearn: 0.0872090\ttotal: 310ms\tremaining: 2.09s\n",
            "129:\tlearn: 0.0864486\ttotal: 313ms\tremaining: 2.09s\n",
            "130:\tlearn: 0.0857719\ttotal: 314ms\tremaining: 2.08s\n",
            "131:\tlearn: 0.0852993\ttotal: 316ms\tremaining: 2.08s\n",
            "132:\tlearn: 0.0844844\ttotal: 318ms\tremaining: 2.07s\n",
            "133:\tlearn: 0.0836949\ttotal: 320ms\tremaining: 2.07s\n",
            "134:\tlearn: 0.0832549\ttotal: 323ms\tremaining: 2.07s\n",
            "135:\tlearn: 0.0826949\ttotal: 325ms\tremaining: 2.06s\n",
            "136:\tlearn: 0.0819361\ttotal: 327ms\tremaining: 2.06s\n",
            "137:\tlearn: 0.0814914\ttotal: 329ms\tremaining: 2.05s\n",
            "138:\tlearn: 0.0809464\ttotal: 331ms\tremaining: 2.05s\n",
            "139:\tlearn: 0.0803960\ttotal: 333ms\tremaining: 2.05s\n",
            "140:\tlearn: 0.0799101\ttotal: 335ms\tremaining: 2.04s\n",
            "141:\tlearn: 0.0795463\ttotal: 337ms\tremaining: 2.04s\n",
            "142:\tlearn: 0.0793354\ttotal: 339ms\tremaining: 2.03s\n",
            "143:\tlearn: 0.0788342\ttotal: 341ms\tremaining: 2.03s\n",
            "144:\tlearn: 0.0786480\ttotal: 343ms\tremaining: 2.02s\n",
            "145:\tlearn: 0.0784770\ttotal: 345ms\tremaining: 2.02s\n",
            "146:\tlearn: 0.0779712\ttotal: 346ms\tremaining: 2.01s\n",
            "147:\tlearn: 0.0774712\ttotal: 348ms\tremaining: 2s\n",
            "148:\tlearn: 0.0772979\ttotal: 351ms\tremaining: 2s\n",
            "149:\tlearn: 0.0769878\ttotal: 353ms\tremaining: 2s\n",
            "150:\tlearn: 0.0767065\ttotal: 354ms\tremaining: 1.99s\n",
            "151:\tlearn: 0.0763797\ttotal: 356ms\tremaining: 1.99s\n",
            "152:\tlearn: 0.0761377\ttotal: 357ms\tremaining: 1.98s\n",
            "153:\tlearn: 0.0756287\ttotal: 375ms\tremaining: 2.06s\n",
            "154:\tlearn: 0.0750281\ttotal: 380ms\tremaining: 2.07s\n",
            "155:\tlearn: 0.0745675\ttotal: 382ms\tremaining: 2.06s\n",
            "156:\tlearn: 0.0741644\ttotal: 383ms\tremaining: 2.06s\n",
            "157:\tlearn: 0.0737057\ttotal: 385ms\tremaining: 2.05s\n",
            "158:\tlearn: 0.0734488\ttotal: 387ms\tremaining: 2.04s\n",
            "159:\tlearn: 0.0731800\ttotal: 389ms\tremaining: 2.04s\n",
            "160:\tlearn: 0.0727370\ttotal: 391ms\tremaining: 2.04s\n",
            "161:\tlearn: 0.0722783\ttotal: 393ms\tremaining: 2.03s\n",
            "162:\tlearn: 0.0718549\ttotal: 395ms\tremaining: 2.03s\n",
            "163:\tlearn: 0.0713824\ttotal: 397ms\tremaining: 2.02s\n",
            "164:\tlearn: 0.0712861\ttotal: 398ms\tremaining: 2.01s\n",
            "165:\tlearn: 0.0710333\ttotal: 399ms\tremaining: 2.01s\n",
            "166:\tlearn: 0.0705698\ttotal: 402ms\tremaining: 2s\n",
            "167:\tlearn: 0.0703328\ttotal: 404ms\tremaining: 2s\n",
            "168:\tlearn: 0.0697864\ttotal: 407ms\tremaining: 2s\n",
            "169:\tlearn: 0.0692826\ttotal: 409ms\tremaining: 2s\n",
            "170:\tlearn: 0.0689560\ttotal: 411ms\tremaining: 1.99s\n",
            "171:\tlearn: 0.0687613\ttotal: 413ms\tremaining: 1.99s\n",
            "172:\tlearn: 0.0683406\ttotal: 414ms\tremaining: 1.98s\n",
            "173:\tlearn: 0.0681657\ttotal: 415ms\tremaining: 1.97s\n",
            "174:\tlearn: 0.0678630\ttotal: 418ms\tremaining: 1.97s\n",
            "175:\tlearn: 0.0675087\ttotal: 420ms\tremaining: 1.97s\n",
            "176:\tlearn: 0.0672983\ttotal: 421ms\tremaining: 1.96s\n",
            "177:\tlearn: 0.0670753\ttotal: 423ms\tremaining: 1.95s\n",
            "178:\tlearn: 0.0666208\ttotal: 425ms\tremaining: 1.95s\n",
            "179:\tlearn: 0.0663264\ttotal: 427ms\tremaining: 1.95s\n",
            "180:\tlearn: 0.0660128\ttotal: 429ms\tremaining: 1.94s\n",
            "181:\tlearn: 0.0659271\ttotal: 431ms\tremaining: 1.94s\n",
            "182:\tlearn: 0.0656743\ttotal: 433ms\tremaining: 1.93s\n",
            "183:\tlearn: 0.0653506\ttotal: 434ms\tremaining: 1.93s\n",
            "184:\tlearn: 0.0649115\ttotal: 437ms\tremaining: 1.92s\n",
            "185:\tlearn: 0.0644704\ttotal: 439ms\tremaining: 1.92s\n",
            "186:\tlearn: 0.0643353\ttotal: 441ms\tremaining: 1.92s\n",
            "187:\tlearn: 0.0640535\ttotal: 442ms\tremaining: 1.91s\n",
            "188:\tlearn: 0.0636185\ttotal: 444ms\tremaining: 1.91s\n",
            "189:\tlearn: 0.0633473\ttotal: 446ms\tremaining: 1.9s\n",
            "190:\tlearn: 0.0632199\ttotal: 449ms\tremaining: 1.9s\n",
            "191:\tlearn: 0.0629145\ttotal: 451ms\tremaining: 1.9s\n",
            "192:\tlearn: 0.0626889\ttotal: 452ms\tremaining: 1.89s\n",
            "193:\tlearn: 0.0623075\ttotal: 454ms\tremaining: 1.89s\n",
            "194:\tlearn: 0.0619777\ttotal: 456ms\tremaining: 1.88s\n",
            "195:\tlearn: 0.0617340\ttotal: 458ms\tremaining: 1.88s\n",
            "196:\tlearn: 0.0614209\ttotal: 460ms\tremaining: 1.88s\n",
            "197:\tlearn: 0.0612647\ttotal: 463ms\tremaining: 1.87s\n",
            "198:\tlearn: 0.0612135\ttotal: 466ms\tremaining: 1.88s\n",
            "199:\tlearn: 0.0610237\ttotal: 469ms\tremaining: 1.87s\n",
            "200:\tlearn: 0.0608616\ttotal: 471ms\tremaining: 1.87s\n",
            "201:\tlearn: 0.0607726\ttotal: 473ms\tremaining: 1.87s\n",
            "202:\tlearn: 0.0606727\ttotal: 475ms\tremaining: 1.86s\n",
            "203:\tlearn: 0.0603503\ttotal: 477ms\tremaining: 1.86s\n",
            "204:\tlearn: 0.0602754\ttotal: 478ms\tremaining: 1.85s\n",
            "205:\tlearn: 0.0601559\ttotal: 480ms\tremaining: 1.85s\n",
            "206:\tlearn: 0.0600967\ttotal: 483ms\tremaining: 1.85s\n",
            "207:\tlearn: 0.0598252\ttotal: 484ms\tremaining: 1.84s\n",
            "208:\tlearn: 0.0597411\ttotal: 486ms\tremaining: 1.84s\n",
            "209:\tlearn: 0.0596639\ttotal: 488ms\tremaining: 1.84s\n",
            "210:\tlearn: 0.0594576\ttotal: 490ms\tremaining: 1.83s\n",
            "211:\tlearn: 0.0590950\ttotal: 492ms\tremaining: 1.83s\n",
            "212:\tlearn: 0.0587559\ttotal: 494ms\tremaining: 1.82s\n",
            "213:\tlearn: 0.0584241\ttotal: 496ms\tremaining: 1.82s\n",
            "214:\tlearn: 0.0582975\ttotal: 498ms\tremaining: 1.82s\n",
            "215:\tlearn: 0.0582289\ttotal: 499ms\tremaining: 1.81s\n",
            "216:\tlearn: 0.0581331\ttotal: 501ms\tremaining: 1.81s\n",
            "217:\tlearn: 0.0577746\ttotal: 504ms\tremaining: 1.81s\n",
            "218:\tlearn: 0.0574192\ttotal: 506ms\tremaining: 1.8s\n",
            "219:\tlearn: 0.0572314\ttotal: 507ms\tremaining: 1.8s\n",
            "220:\tlearn: 0.0570984\ttotal: 509ms\tremaining: 1.79s\n",
            "221:\tlearn: 0.0570370\ttotal: 511ms\tremaining: 1.79s\n",
            "222:\tlearn: 0.0568185\ttotal: 515ms\tremaining: 1.79s\n",
            "223:\tlearn: 0.0567234\ttotal: 517ms\tremaining: 1.79s\n",
            "224:\tlearn: 0.0566684\ttotal: 518ms\tremaining: 1.78s\n",
            "225:\tlearn: 0.0565179\ttotal: 520ms\tremaining: 1.78s\n",
            "226:\tlearn: 0.0563934\ttotal: 522ms\tremaining: 1.78s\n",
            "227:\tlearn: 0.0561338\ttotal: 524ms\tremaining: 1.77s\n",
            "228:\tlearn: 0.0559093\ttotal: 526ms\tremaining: 1.77s\n",
            "229:\tlearn: 0.0558168\ttotal: 528ms\tremaining: 1.77s\n",
            "230:\tlearn: 0.0557045\ttotal: 530ms\tremaining: 1.76s\n",
            "231:\tlearn: 0.0554215\ttotal: 532ms\tremaining: 1.76s\n",
            "232:\tlearn: 0.0551977\ttotal: 541ms\tremaining: 1.78s\n",
            "233:\tlearn: 0.0551384\ttotal: 548ms\tremaining: 1.79s\n",
            "234:\tlearn: 0.0548423\ttotal: 560ms\tremaining: 1.82s\n",
            "235:\tlearn: 0.0546810\ttotal: 567ms\tremaining: 1.83s\n",
            "236:\tlearn: 0.0546029\ttotal: 569ms\tremaining: 1.83s\n",
            "237:\tlearn: 0.0545455\ttotal: 574ms\tremaining: 1.84s\n",
            "238:\tlearn: 0.0542764\ttotal: 580ms\tremaining: 1.85s\n",
            "239:\tlearn: 0.0541280\ttotal: 583ms\tremaining: 1.84s\n",
            "240:\tlearn: 0.0540028\ttotal: 588ms\tremaining: 1.85s\n",
            "241:\tlearn: 0.0538409\ttotal: 589ms\tremaining: 1.85s\n",
            "242:\tlearn: 0.0536385\ttotal: 591ms\tremaining: 1.84s\n",
            "243:\tlearn: 0.0535107\ttotal: 596ms\tremaining: 1.84s\n",
            "244:\tlearn: 0.0534361\ttotal: 598ms\tremaining: 1.84s\n",
            "245:\tlearn: 0.0532931\ttotal: 603ms\tremaining: 1.85s\n",
            "246:\tlearn: 0.0531056\ttotal: 608ms\tremaining: 1.85s\n",
            "247:\tlearn: 0.0529781\ttotal: 616ms\tremaining: 1.87s\n",
            "248:\tlearn: 0.0528884\ttotal: 619ms\tremaining: 1.87s\n",
            "249:\tlearn: 0.0526981\ttotal: 624ms\tremaining: 1.87s\n",
            "250:\tlearn: 0.0525856\ttotal: 629ms\tremaining: 1.88s\n",
            "251:\tlearn: 0.0524543\ttotal: 635ms\tremaining: 1.88s\n",
            "252:\tlearn: 0.0523699\ttotal: 640ms\tremaining: 1.89s\n",
            "253:\tlearn: 0.0521851\ttotal: 645ms\tremaining: 1.89s\n",
            "254:\tlearn: 0.0521005\ttotal: 650ms\tremaining: 1.9s\n",
            "255:\tlearn: 0.0519569\ttotal: 660ms\tremaining: 1.92s\n",
            "256:\tlearn: 0.0518969\ttotal: 663ms\tremaining: 1.92s\n",
            "257:\tlearn: 0.0517508\ttotal: 669ms\tremaining: 1.92s\n",
            "258:\tlearn: 0.0517462\ttotal: 669ms\tremaining: 1.91s\n",
            "259:\tlearn: 0.0516459\ttotal: 672ms\tremaining: 1.91s\n",
            "260:\tlearn: 0.0514673\ttotal: 674ms\tremaining: 1.91s\n",
            "261:\tlearn: 0.0514001\ttotal: 675ms\tremaining: 1.9s\n",
            "262:\tlearn: 0.0512861\ttotal: 677ms\tremaining: 1.9s\n",
            "263:\tlearn: 0.0512059\ttotal: 679ms\tremaining: 1.89s\n",
            "264:\tlearn: 0.0511069\ttotal: 681ms\tremaining: 1.89s\n",
            "265:\tlearn: 0.0509390\ttotal: 683ms\tremaining: 1.89s\n",
            "266:\tlearn: 0.0508073\ttotal: 685ms\tremaining: 1.88s\n",
            "267:\tlearn: 0.0507599\ttotal: 687ms\tremaining: 1.88s\n",
            "268:\tlearn: 0.0506230\ttotal: 689ms\tremaining: 1.87s\n",
            "269:\tlearn: 0.0504231\ttotal: 691ms\tremaining: 1.87s\n",
            "270:\tlearn: 0.0504190\ttotal: 692ms\tremaining: 1.86s\n",
            "271:\tlearn: 0.0502726\ttotal: 694ms\tremaining: 1.86s\n",
            "272:\tlearn: 0.0501973\ttotal: 695ms\tremaining: 1.85s\n",
            "273:\tlearn: 0.0500913\ttotal: 697ms\tremaining: 1.85s\n",
            "274:\tlearn: 0.0500017\ttotal: 700ms\tremaining: 1.84s\n",
            "275:\tlearn: 0.0497704\ttotal: 701ms\tremaining: 1.84s\n",
            "276:\tlearn: 0.0496968\ttotal: 703ms\tremaining: 1.83s\n",
            "277:\tlearn: 0.0495974\ttotal: 705ms\tremaining: 1.83s\n",
            "278:\tlearn: 0.0494097\ttotal: 707ms\tremaining: 1.82s\n",
            "279:\tlearn: 0.0492541\ttotal: 709ms\tremaining: 1.82s\n",
            "280:\tlearn: 0.0491016\ttotal: 711ms\tremaining: 1.82s\n",
            "281:\tlearn: 0.0490749\ttotal: 713ms\tremaining: 1.81s\n",
            "282:\tlearn: 0.0489723\ttotal: 714ms\tremaining: 1.81s\n",
            "283:\tlearn: 0.0489029\ttotal: 716ms\tremaining: 1.8s\n",
            "284:\tlearn: 0.0488527\ttotal: 719ms\tremaining: 1.8s\n",
            "285:\tlearn: 0.0487887\ttotal: 727ms\tremaining: 1.82s\n",
            "286:\tlearn: 0.0486950\ttotal: 729ms\tremaining: 1.81s\n",
            "287:\tlearn: 0.0486694\ttotal: 730ms\tremaining: 1.8s\n",
            "288:\tlearn: 0.0485387\ttotal: 732ms\tremaining: 1.8s\n",
            "289:\tlearn: 0.0483655\ttotal: 734ms\tremaining: 1.79s\n",
            "290:\tlearn: 0.0483273\ttotal: 735ms\tremaining: 1.79s\n",
            "291:\tlearn: 0.0481099\ttotal: 737ms\tremaining: 1.79s\n",
            "292:\tlearn: 0.0480070\ttotal: 739ms\tremaining: 1.78s\n",
            "293:\tlearn: 0.0479225\ttotal: 741ms\tremaining: 1.78s\n",
            "294:\tlearn: 0.0478856\ttotal: 743ms\tremaining: 1.77s\n",
            "295:\tlearn: 0.0476979\ttotal: 745ms\tremaining: 1.77s\n",
            "296:\tlearn: 0.0475831\ttotal: 749ms\tremaining: 1.77s\n",
            "297:\tlearn: 0.0474047\ttotal: 751ms\tremaining: 1.77s\n",
            "298:\tlearn: 0.0473037\ttotal: 759ms\tremaining: 1.78s\n",
            "299:\tlearn: 0.0472746\ttotal: 762ms\tremaining: 1.78s\n",
            "300:\tlearn: 0.0471342\ttotal: 769ms\tremaining: 1.78s\n",
            "301:\tlearn: 0.0470380\ttotal: 772ms\tremaining: 1.78s\n",
            "302:\tlearn: 0.0469044\ttotal: 774ms\tremaining: 1.78s\n",
            "303:\tlearn: 0.0468173\ttotal: 776ms\tremaining: 1.78s\n",
            "304:\tlearn: 0.0467169\ttotal: 778ms\tremaining: 1.77s\n",
            "305:\tlearn: 0.0466877\ttotal: 779ms\tremaining: 1.76s\n",
            "306:\tlearn: 0.0465799\ttotal: 780ms\tremaining: 1.76s\n",
            "307:\tlearn: 0.0465314\ttotal: 782ms\tremaining: 1.76s\n",
            "308:\tlearn: 0.0464363\ttotal: 784ms\tremaining: 1.75s\n",
            "309:\tlearn: 0.0464082\ttotal: 787ms\tremaining: 1.75s\n",
            "310:\tlearn: 0.0462728\ttotal: 788ms\tremaining: 1.75s\n",
            "311:\tlearn: 0.0461770\ttotal: 790ms\tremaining: 1.74s\n",
            "312:\tlearn: 0.0461203\ttotal: 792ms\tremaining: 1.74s\n",
            "313:\tlearn: 0.0460218\ttotal: 794ms\tremaining: 1.74s\n",
            "314:\tlearn: 0.0459647\ttotal: 797ms\tremaining: 1.73s\n",
            "315:\tlearn: 0.0459120\ttotal: 799ms\tremaining: 1.73s\n",
            "316:\tlearn: 0.0457827\ttotal: 801ms\tremaining: 1.72s\n",
            "317:\tlearn: 0.0457410\ttotal: 802ms\tremaining: 1.72s\n",
            "318:\tlearn: 0.0456776\ttotal: 804ms\tremaining: 1.72s\n",
            "319:\tlearn: 0.0455940\ttotal: 807ms\tremaining: 1.71s\n",
            "320:\tlearn: 0.0454718\ttotal: 809ms\tremaining: 1.71s\n",
            "321:\tlearn: 0.0454086\ttotal: 811ms\tremaining: 1.71s\n",
            "322:\tlearn: 0.0452654\ttotal: 812ms\tremaining: 1.7s\n",
            "323:\tlearn: 0.0452055\ttotal: 815ms\tremaining: 1.7s\n",
            "324:\tlearn: 0.0450832\ttotal: 817ms\tremaining: 1.7s\n",
            "325:\tlearn: 0.0450345\ttotal: 819ms\tremaining: 1.69s\n",
            "326:\tlearn: 0.0448889\ttotal: 821ms\tremaining: 1.69s\n",
            "327:\tlearn: 0.0448698\ttotal: 826ms\tremaining: 1.69s\n",
            "328:\tlearn: 0.0447857\ttotal: 828ms\tremaining: 1.69s\n",
            "329:\tlearn: 0.0446782\ttotal: 831ms\tremaining: 1.69s\n",
            "330:\tlearn: 0.0446303\ttotal: 833ms\tremaining: 1.68s\n",
            "331:\tlearn: 0.0445847\ttotal: 834ms\tremaining: 1.68s\n",
            "332:\tlearn: 0.0444370\ttotal: 836ms\tremaining: 1.67s\n",
            "333:\tlearn: 0.0444071\ttotal: 838ms\tremaining: 1.67s\n",
            "334:\tlearn: 0.0443372\ttotal: 841ms\tremaining: 1.67s\n",
            "335:\tlearn: 0.0442195\ttotal: 844ms\tremaining: 1.67s\n",
            "336:\tlearn: 0.0441004\ttotal: 850ms\tremaining: 1.67s\n",
            "337:\tlearn: 0.0440296\ttotal: 861ms\tremaining: 1.69s\n",
            "338:\tlearn: 0.0439697\ttotal: 864ms\tremaining: 1.68s\n",
            "339:\tlearn: 0.0438502\ttotal: 869ms\tremaining: 1.69s\n",
            "340:\tlearn: 0.0438068\ttotal: 874ms\tremaining: 1.69s\n",
            "341:\tlearn: 0.0437493\ttotal: 880ms\tremaining: 1.69s\n",
            "342:\tlearn: 0.0435474\ttotal: 885ms\tremaining: 1.69s\n",
            "343:\tlearn: 0.0434965\ttotal: 890ms\tremaining: 1.7s\n",
            "344:\tlearn: 0.0434212\ttotal: 902ms\tremaining: 1.71s\n",
            "345:\tlearn: 0.0434188\ttotal: 902ms\tremaining: 1.71s\n",
            "346:\tlearn: 0.0433763\ttotal: 904ms\tremaining: 1.7s\n",
            "347:\tlearn: 0.0433187\ttotal: 906ms\tremaining: 1.7s\n",
            "348:\tlearn: 0.0431556\ttotal: 908ms\tremaining: 1.69s\n",
            "349:\tlearn: 0.0430883\ttotal: 911ms\tremaining: 1.69s\n",
            "350:\tlearn: 0.0430563\ttotal: 914ms\tremaining: 1.69s\n",
            "351:\tlearn: 0.0430349\ttotal: 916ms\tremaining: 1.69s\n",
            "352:\tlearn: 0.0429751\ttotal: 918ms\tremaining: 1.68s\n",
            "353:\tlearn: 0.0429093\ttotal: 920ms\tremaining: 1.68s\n",
            "354:\tlearn: 0.0428864\ttotal: 922ms\tremaining: 1.67s\n",
            "355:\tlearn: 0.0428250\ttotal: 924ms\tremaining: 1.67s\n",
            "356:\tlearn: 0.0427713\ttotal: 926ms\tremaining: 1.67s\n",
            "357:\tlearn: 0.0426119\ttotal: 928ms\tremaining: 1.66s\n",
            "358:\tlearn: 0.0425638\ttotal: 929ms\tremaining: 1.66s\n",
            "359:\tlearn: 0.0425350\ttotal: 931ms\tremaining: 1.66s\n",
            "360:\tlearn: 0.0424328\ttotal: 933ms\tremaining: 1.65s\n",
            "361:\tlearn: 0.0424114\ttotal: 940ms\tremaining: 1.66s\n",
            "362:\tlearn: 0.0423786\ttotal: 943ms\tremaining: 1.65s\n",
            "363:\tlearn: 0.0422234\ttotal: 945ms\tremaining: 1.65s\n",
            "364:\tlearn: 0.0421024\ttotal: 947ms\tremaining: 1.65s\n",
            "365:\tlearn: 0.0420495\ttotal: 948ms\tremaining: 1.64s\n",
            "366:\tlearn: 0.0419268\ttotal: 950ms\tremaining: 1.64s\n",
            "367:\tlearn: 0.0418460\ttotal: 952ms\tremaining: 1.64s\n",
            "368:\tlearn: 0.0417339\ttotal: 955ms\tremaining: 1.63s\n",
            "369:\tlearn: 0.0416521\ttotal: 956ms\tremaining: 1.63s\n",
            "370:\tlearn: 0.0416162\ttotal: 959ms\tremaining: 1.63s\n",
            "371:\tlearn: 0.0415689\ttotal: 961ms\tremaining: 1.62s\n",
            "372:\tlearn: 0.0414749\ttotal: 962ms\tremaining: 1.62s\n",
            "373:\tlearn: 0.0413763\ttotal: 964ms\tremaining: 1.61s\n",
            "374:\tlearn: 0.0413248\ttotal: 966ms\tremaining: 1.61s\n",
            "375:\tlearn: 0.0412706\ttotal: 968ms\tremaining: 1.61s\n",
            "376:\tlearn: 0.0411949\ttotal: 970ms\tremaining: 1.6s\n",
            "377:\tlearn: 0.0410982\ttotal: 972ms\tremaining: 1.6s\n",
            "378:\tlearn: 0.0410109\ttotal: 974ms\tremaining: 1.59s\n",
            "379:\tlearn: 0.0409212\ttotal: 976ms\tremaining: 1.59s\n",
            "380:\tlearn: 0.0408491\ttotal: 978ms\tremaining: 1.59s\n",
            "381:\tlearn: 0.0407825\ttotal: 980ms\tremaining: 1.58s\n",
            "382:\tlearn: 0.0406592\ttotal: 982ms\tremaining: 1.58s\n",
            "383:\tlearn: 0.0405943\ttotal: 983ms\tremaining: 1.58s\n",
            "384:\tlearn: 0.0404684\ttotal: 986ms\tremaining: 1.57s\n",
            "385:\tlearn: 0.0404352\ttotal: 992ms\tremaining: 1.58s\n",
            "386:\tlearn: 0.0404333\ttotal: 992ms\tremaining: 1.57s\n",
            "387:\tlearn: 0.0403198\ttotal: 994ms\tremaining: 1.57s\n",
            "388:\tlearn: 0.0402921\ttotal: 996ms\tremaining: 1.56s\n",
            "389:\tlearn: 0.0402053\ttotal: 998ms\tremaining: 1.56s\n",
            "390:\tlearn: 0.0401321\ttotal: 1000ms\tremaining: 1.56s\n",
            "391:\tlearn: 0.0400430\ttotal: 1s\tremaining: 1.55s\n",
            "392:\tlearn: 0.0399954\ttotal: 1s\tremaining: 1.55s\n",
            "393:\tlearn: 0.0399366\ttotal: 1s\tremaining: 1.55s\n",
            "394:\tlearn: 0.0398972\ttotal: 1.01s\tremaining: 1.54s\n",
            "395:\tlearn: 0.0398439\ttotal: 1.01s\tremaining: 1.54s\n",
            "396:\tlearn: 0.0398003\ttotal: 1.01s\tremaining: 1.54s\n",
            "397:\tlearn: 0.0397143\ttotal: 1.01s\tremaining: 1.53s\n",
            "398:\tlearn: 0.0395616\ttotal: 1.01s\tremaining: 1.53s\n",
            "399:\tlearn: 0.0394789\ttotal: 1.02s\tremaining: 1.52s\n",
            "400:\tlearn: 0.0393326\ttotal: 1.02s\tremaining: 1.52s\n",
            "401:\tlearn: 0.0391876\ttotal: 1.02s\tremaining: 1.52s\n",
            "402:\tlearn: 0.0391526\ttotal: 1.02s\tremaining: 1.51s\n",
            "403:\tlearn: 0.0390571\ttotal: 1.02s\tremaining: 1.51s\n",
            "404:\tlearn: 0.0389222\ttotal: 1.03s\tremaining: 1.51s\n",
            "405:\tlearn: 0.0388936\ttotal: 1.03s\tremaining: 1.5s\n",
            "406:\tlearn: 0.0387743\ttotal: 1.03s\tremaining: 1.5s\n",
            "407:\tlearn: 0.0387722\ttotal: 1.03s\tremaining: 1.5s\n",
            "408:\tlearn: 0.0387155\ttotal: 1.03s\tremaining: 1.49s\n",
            "409:\tlearn: 0.0386444\ttotal: 1.03s\tremaining: 1.49s\n",
            "410:\tlearn: 0.0385889\ttotal: 1.04s\tremaining: 1.49s\n",
            "411:\tlearn: 0.0385258\ttotal: 1.04s\tremaining: 1.49s\n",
            "412:\tlearn: 0.0384500\ttotal: 1.05s\tremaining: 1.49s\n",
            "413:\tlearn: 0.0384480\ttotal: 1.05s\tremaining: 1.49s\n",
            "414:\tlearn: 0.0383902\ttotal: 1.06s\tremaining: 1.49s\n",
            "415:\tlearn: 0.0382858\ttotal: 1.06s\tremaining: 1.49s\n",
            "416:\tlearn: 0.0382007\ttotal: 1.07s\tremaining: 1.5s\n",
            "417:\tlearn: 0.0381568\ttotal: 1.07s\tremaining: 1.49s\n",
            "418:\tlearn: 0.0380579\ttotal: 1.07s\tremaining: 1.49s\n",
            "419:\tlearn: 0.0379579\ttotal: 1.08s\tremaining: 1.5s\n",
            "420:\tlearn: 0.0379271\ttotal: 1.09s\tremaining: 1.5s\n",
            "421:\tlearn: 0.0378525\ttotal: 1.1s\tremaining: 1.51s\n",
            "422:\tlearn: 0.0377760\ttotal: 1.11s\tremaining: 1.51s\n",
            "423:\tlearn: 0.0377112\ttotal: 1.11s\tremaining: 1.51s\n",
            "424:\tlearn: 0.0376123\ttotal: 1.13s\tremaining: 1.53s\n",
            "425:\tlearn: 0.0375611\ttotal: 1.13s\tremaining: 1.52s\n",
            "426:\tlearn: 0.0375139\ttotal: 1.14s\tremaining: 1.53s\n",
            "427:\tlearn: 0.0374474\ttotal: 1.14s\tremaining: 1.53s\n",
            "428:\tlearn: 0.0373304\ttotal: 1.16s\tremaining: 1.55s\n",
            "429:\tlearn: 0.0373067\ttotal: 1.17s\tremaining: 1.55s\n",
            "430:\tlearn: 0.0372226\ttotal: 1.18s\tremaining: 1.56s\n",
            "431:\tlearn: 0.0371611\ttotal: 1.19s\tremaining: 1.56s\n",
            "432:\tlearn: 0.0370578\ttotal: 1.19s\tremaining: 1.56s\n",
            "433:\tlearn: 0.0370195\ttotal: 1.2s\tremaining: 1.56s\n",
            "434:\tlearn: 0.0369298\ttotal: 1.2s\tremaining: 1.56s\n",
            "435:\tlearn: 0.0368511\ttotal: 1.21s\tremaining: 1.56s\n",
            "436:\tlearn: 0.0367838\ttotal: 1.21s\tremaining: 1.56s\n",
            "437:\tlearn: 0.0367036\ttotal: 1.22s\tremaining: 1.57s\n",
            "438:\tlearn: 0.0366259\ttotal: 1.23s\tremaining: 1.56s\n",
            "439:\tlearn: 0.0365302\ttotal: 1.23s\tremaining: 1.56s\n",
            "440:\tlearn: 0.0364817\ttotal: 1.24s\tremaining: 1.57s\n",
            "441:\tlearn: 0.0363976\ttotal: 1.24s\tremaining: 1.57s\n",
            "442:\tlearn: 0.0363676\ttotal: 1.25s\tremaining: 1.57s\n",
            "443:\tlearn: 0.0363441\ttotal: 1.25s\tremaining: 1.57s\n",
            "444:\tlearn: 0.0362555\ttotal: 1.26s\tremaining: 1.57s\n",
            "445:\tlearn: 0.0361490\ttotal: 1.26s\tremaining: 1.57s\n",
            "446:\tlearn: 0.0360503\ttotal: 1.26s\tremaining: 1.56s\n",
            "447:\tlearn: 0.0360004\ttotal: 1.27s\tremaining: 1.56s\n",
            "448:\tlearn: 0.0359881\ttotal: 1.27s\tremaining: 1.56s\n",
            "449:\tlearn: 0.0359407\ttotal: 1.27s\tremaining: 1.55s\n",
            "450:\tlearn: 0.0358576\ttotal: 1.28s\tremaining: 1.55s\n",
            "451:\tlearn: 0.0357957\ttotal: 1.28s\tremaining: 1.55s\n",
            "452:\tlearn: 0.0357204\ttotal: 1.28s\tremaining: 1.55s\n",
            "453:\tlearn: 0.0356820\ttotal: 1.29s\tremaining: 1.55s\n",
            "454:\tlearn: 0.0356360\ttotal: 1.29s\tremaining: 1.54s\n",
            "455:\tlearn: 0.0356304\ttotal: 1.29s\tremaining: 1.54s\n",
            "456:\tlearn: 0.0355779\ttotal: 1.29s\tremaining: 1.54s\n",
            "457:\tlearn: 0.0354969\ttotal: 1.3s\tremaining: 1.53s\n",
            "458:\tlearn: 0.0354446\ttotal: 1.3s\tremaining: 1.53s\n",
            "459:\tlearn: 0.0353856\ttotal: 1.3s\tremaining: 1.53s\n",
            "460:\tlearn: 0.0353089\ttotal: 1.31s\tremaining: 1.53s\n",
            "461:\tlearn: 0.0351913\ttotal: 1.31s\tremaining: 1.53s\n",
            "462:\tlearn: 0.0350397\ttotal: 1.31s\tremaining: 1.52s\n",
            "463:\tlearn: 0.0350012\ttotal: 1.32s\tremaining: 1.52s\n",
            "464:\tlearn: 0.0349603\ttotal: 1.32s\tremaining: 1.52s\n",
            "465:\tlearn: 0.0348306\ttotal: 1.32s\tremaining: 1.51s\n",
            "466:\tlearn: 0.0348043\ttotal: 1.32s\tremaining: 1.51s\n",
            "467:\tlearn: 0.0347321\ttotal: 1.32s\tremaining: 1.51s\n",
            "468:\tlearn: 0.0346625\ttotal: 1.33s\tremaining: 1.5s\n",
            "469:\tlearn: 0.0346050\ttotal: 1.33s\tremaining: 1.5s\n",
            "470:\tlearn: 0.0346023\ttotal: 1.33s\tremaining: 1.49s\n",
            "471:\tlearn: 0.0345878\ttotal: 1.33s\tremaining: 1.49s\n",
            "472:\tlearn: 0.0345367\ttotal: 1.33s\tremaining: 1.49s\n",
            "473:\tlearn: 0.0345048\ttotal: 1.34s\tremaining: 1.48s\n",
            "474:\tlearn: 0.0344787\ttotal: 1.34s\tremaining: 1.48s\n",
            "475:\tlearn: 0.0343690\ttotal: 1.34s\tremaining: 1.48s\n",
            "476:\tlearn: 0.0343288\ttotal: 1.34s\tremaining: 1.47s\n",
            "477:\tlearn: 0.0342950\ttotal: 1.34s\tremaining: 1.47s\n",
            "478:\tlearn: 0.0342420\ttotal: 1.35s\tremaining: 1.47s\n",
            "479:\tlearn: 0.0341999\ttotal: 1.35s\tremaining: 1.47s\n",
            "480:\tlearn: 0.0341845\ttotal: 1.36s\tremaining: 1.47s\n",
            "481:\tlearn: 0.0341451\ttotal: 1.36s\tremaining: 1.47s\n",
            "482:\tlearn: 0.0341389\ttotal: 1.37s\tremaining: 1.46s\n",
            "483:\tlearn: 0.0340939\ttotal: 1.37s\tremaining: 1.46s\n",
            "484:\tlearn: 0.0340372\ttotal: 1.37s\tremaining: 1.46s\n",
            "485:\tlearn: 0.0339925\ttotal: 1.38s\tremaining: 1.46s\n",
            "486:\tlearn: 0.0338684\ttotal: 1.38s\tremaining: 1.45s\n",
            "487:\tlearn: 0.0338403\ttotal: 1.39s\tremaining: 1.45s\n",
            "488:\tlearn: 0.0338026\ttotal: 1.39s\tremaining: 1.45s\n",
            "489:\tlearn: 0.0337487\ttotal: 1.4s\tremaining: 1.45s\n",
            "490:\tlearn: 0.0336697\ttotal: 1.4s\tremaining: 1.45s\n",
            "491:\tlearn: 0.0336470\ttotal: 1.41s\tremaining: 1.45s\n",
            "492:\tlearn: 0.0336299\ttotal: 1.41s\tremaining: 1.45s\n",
            "493:\tlearn: 0.0336284\ttotal: 1.41s\tremaining: 1.45s\n",
            "494:\tlearn: 0.0335189\ttotal: 1.42s\tremaining: 1.45s\n",
            "495:\tlearn: 0.0334679\ttotal: 1.42s\tremaining: 1.45s\n",
            "496:\tlearn: 0.0334122\ttotal: 1.43s\tremaining: 1.44s\n",
            "497:\tlearn: 0.0333522\ttotal: 1.43s\tremaining: 1.44s\n",
            "498:\tlearn: 0.0333145\ttotal: 1.44s\tremaining: 1.44s\n",
            "499:\tlearn: 0.0332770\ttotal: 1.44s\tremaining: 1.44s\n",
            "500:\tlearn: 0.0332230\ttotal: 1.45s\tremaining: 1.44s\n",
            "501:\tlearn: 0.0331567\ttotal: 1.45s\tremaining: 1.44s\n",
            "502:\tlearn: 0.0331402\ttotal: 1.46s\tremaining: 1.44s\n",
            "503:\tlearn: 0.0331130\ttotal: 1.46s\tremaining: 1.44s\n",
            "504:\tlearn: 0.0330857\ttotal: 1.47s\tremaining: 1.44s\n",
            "505:\tlearn: 0.0330718\ttotal: 1.47s\tremaining: 1.44s\n",
            "506:\tlearn: 0.0330493\ttotal: 1.48s\tremaining: 1.44s\n",
            "507:\tlearn: 0.0329972\ttotal: 1.48s\tremaining: 1.44s\n",
            "508:\tlearn: 0.0329425\ttotal: 1.49s\tremaining: 1.43s\n",
            "509:\tlearn: 0.0328418\ttotal: 1.49s\tremaining: 1.43s\n",
            "510:\tlearn: 0.0327664\ttotal: 1.49s\tremaining: 1.43s\n",
            "511:\tlearn: 0.0327417\ttotal: 1.5s\tremaining: 1.43s\n",
            "512:\tlearn: 0.0326697\ttotal: 1.5s\tremaining: 1.43s\n",
            "513:\tlearn: 0.0325817\ttotal: 1.51s\tremaining: 1.43s\n",
            "514:\tlearn: 0.0325395\ttotal: 1.51s\tremaining: 1.43s\n",
            "515:\tlearn: 0.0324968\ttotal: 1.52s\tremaining: 1.42s\n",
            "516:\tlearn: 0.0324397\ttotal: 1.52s\tremaining: 1.42s\n",
            "517:\tlearn: 0.0324176\ttotal: 1.53s\tremaining: 1.42s\n",
            "518:\tlearn: 0.0323810\ttotal: 1.53s\tremaining: 1.42s\n",
            "519:\tlearn: 0.0322751\ttotal: 1.54s\tremaining: 1.42s\n",
            "520:\tlearn: 0.0321701\ttotal: 1.54s\tremaining: 1.42s\n",
            "521:\tlearn: 0.0321598\ttotal: 1.55s\tremaining: 1.42s\n",
            "522:\tlearn: 0.0320694\ttotal: 1.55s\tremaining: 1.42s\n",
            "523:\tlearn: 0.0320356\ttotal: 1.56s\tremaining: 1.41s\n",
            "524:\tlearn: 0.0319942\ttotal: 1.56s\tremaining: 1.41s\n",
            "525:\tlearn: 0.0319526\ttotal: 1.57s\tremaining: 1.41s\n",
            "526:\tlearn: 0.0318904\ttotal: 1.57s\tremaining: 1.41s\n",
            "527:\tlearn: 0.0317862\ttotal: 1.58s\tremaining: 1.41s\n",
            "528:\tlearn: 0.0317584\ttotal: 1.58s\tremaining: 1.41s\n",
            "529:\tlearn: 0.0316862\ttotal: 1.58s\tremaining: 1.41s\n",
            "530:\tlearn: 0.0316387\ttotal: 1.59s\tremaining: 1.4s\n",
            "531:\tlearn: 0.0315525\ttotal: 1.59s\tremaining: 1.4s\n",
            "532:\tlearn: 0.0315162\ttotal: 1.6s\tremaining: 1.4s\n",
            "533:\tlearn: 0.0314478\ttotal: 1.6s\tremaining: 1.4s\n",
            "534:\tlearn: 0.0313548\ttotal: 1.61s\tremaining: 1.4s\n",
            "535:\tlearn: 0.0313091\ttotal: 1.61s\tremaining: 1.4s\n",
            "536:\tlearn: 0.0312867\ttotal: 1.62s\tremaining: 1.4s\n",
            "537:\tlearn: 0.0311997\ttotal: 1.62s\tremaining: 1.39s\n",
            "538:\tlearn: 0.0311004\ttotal: 1.63s\tremaining: 1.39s\n",
            "539:\tlearn: 0.0310228\ttotal: 1.63s\tremaining: 1.39s\n",
            "540:\tlearn: 0.0309922\ttotal: 1.64s\tremaining: 1.39s\n",
            "541:\tlearn: 0.0309543\ttotal: 1.64s\tremaining: 1.39s\n",
            "542:\tlearn: 0.0309250\ttotal: 1.65s\tremaining: 1.39s\n",
            "543:\tlearn: 0.0308892\ttotal: 1.65s\tremaining: 1.38s\n",
            "544:\tlearn: 0.0307985\ttotal: 1.66s\tremaining: 1.38s\n",
            "545:\tlearn: 0.0307242\ttotal: 1.66s\tremaining: 1.38s\n",
            "546:\tlearn: 0.0307149\ttotal: 1.67s\tremaining: 1.38s\n",
            "547:\tlearn: 0.0306381\ttotal: 1.67s\tremaining: 1.38s\n",
            "548:\tlearn: 0.0306189\ttotal: 1.67s\tremaining: 1.38s\n",
            "549:\tlearn: 0.0305907\ttotal: 1.68s\tremaining: 1.37s\n",
            "550:\tlearn: 0.0305655\ttotal: 1.68s\tremaining: 1.37s\n",
            "551:\tlearn: 0.0304667\ttotal: 1.69s\tremaining: 1.37s\n",
            "552:\tlearn: 0.0304655\ttotal: 1.69s\tremaining: 1.37s\n",
            "553:\tlearn: 0.0304442\ttotal: 1.7s\tremaining: 1.36s\n",
            "554:\tlearn: 0.0304143\ttotal: 1.7s\tremaining: 1.36s\n",
            "555:\tlearn: 0.0303592\ttotal: 1.7s\tremaining: 1.36s\n",
            "556:\tlearn: 0.0303391\ttotal: 1.71s\tremaining: 1.36s\n",
            "557:\tlearn: 0.0303072\ttotal: 1.71s\tremaining: 1.36s\n",
            "558:\tlearn: 0.0302755\ttotal: 1.72s\tremaining: 1.35s\n",
            "559:\tlearn: 0.0302140\ttotal: 1.72s\tremaining: 1.35s\n",
            "560:\tlearn: 0.0301164\ttotal: 1.73s\tremaining: 1.35s\n",
            "561:\tlearn: 0.0301067\ttotal: 1.73s\tremaining: 1.35s\n",
            "562:\tlearn: 0.0300208\ttotal: 1.73s\tremaining: 1.34s\n",
            "563:\tlearn: 0.0299136\ttotal: 1.74s\tremaining: 1.34s\n",
            "564:\tlearn: 0.0298754\ttotal: 1.74s\tremaining: 1.34s\n",
            "565:\tlearn: 0.0298347\ttotal: 1.75s\tremaining: 1.34s\n",
            "566:\tlearn: 0.0298165\ttotal: 1.75s\tremaining: 1.34s\n",
            "567:\tlearn: 0.0297797\ttotal: 1.75s\tremaining: 1.33s\n",
            "568:\tlearn: 0.0297262\ttotal: 1.76s\tremaining: 1.33s\n",
            "569:\tlearn: 0.0296844\ttotal: 1.76s\tremaining: 1.33s\n",
            "570:\tlearn: 0.0296359\ttotal: 1.77s\tremaining: 1.33s\n",
            "571:\tlearn: 0.0296123\ttotal: 1.77s\tremaining: 1.33s\n",
            "572:\tlearn: 0.0295613\ttotal: 1.78s\tremaining: 1.32s\n",
            "573:\tlearn: 0.0295600\ttotal: 1.78s\tremaining: 1.32s\n",
            "574:\tlearn: 0.0295326\ttotal: 1.78s\tremaining: 1.32s\n",
            "575:\tlearn: 0.0295118\ttotal: 1.79s\tremaining: 1.32s\n",
            "576:\tlearn: 0.0294831\ttotal: 1.79s\tremaining: 1.31s\n",
            "577:\tlearn: 0.0294581\ttotal: 1.79s\tremaining: 1.31s\n",
            "578:\tlearn: 0.0294348\ttotal: 1.79s\tremaining: 1.3s\n",
            "579:\tlearn: 0.0294087\ttotal: 1.8s\tremaining: 1.3s\n",
            "580:\tlearn: 0.0293844\ttotal: 1.8s\tremaining: 1.3s\n",
            "581:\tlearn: 0.0293389\ttotal: 1.8s\tremaining: 1.29s\n",
            "582:\tlearn: 0.0292927\ttotal: 1.8s\tremaining: 1.29s\n",
            "583:\tlearn: 0.0292640\ttotal: 1.81s\tremaining: 1.29s\n",
            "584:\tlearn: 0.0292418\ttotal: 1.81s\tremaining: 1.29s\n",
            "585:\tlearn: 0.0292119\ttotal: 1.82s\tremaining: 1.28s\n",
            "586:\tlearn: 0.0291789\ttotal: 1.82s\tremaining: 1.28s\n",
            "587:\tlearn: 0.0290992\ttotal: 1.82s\tremaining: 1.28s\n",
            "588:\tlearn: 0.0290384\ttotal: 1.82s\tremaining: 1.27s\n",
            "589:\tlearn: 0.0290115\ttotal: 1.82s\tremaining: 1.27s\n",
            "590:\tlearn: 0.0289674\ttotal: 1.83s\tremaining: 1.26s\n",
            "591:\tlearn: 0.0289191\ttotal: 1.83s\tremaining: 1.26s\n",
            "592:\tlearn: 0.0288629\ttotal: 1.83s\tremaining: 1.26s\n",
            "593:\tlearn: 0.0288490\ttotal: 1.83s\tremaining: 1.25s\n",
            "594:\tlearn: 0.0288213\ttotal: 1.84s\tremaining: 1.25s\n",
            "595:\tlearn: 0.0287296\ttotal: 1.84s\tremaining: 1.25s\n",
            "596:\tlearn: 0.0287002\ttotal: 1.84s\tremaining: 1.24s\n",
            "597:\tlearn: 0.0286485\ttotal: 1.84s\tremaining: 1.24s\n",
            "598:\tlearn: 0.0285486\ttotal: 1.84s\tremaining: 1.24s\n",
            "599:\tlearn: 0.0285344\ttotal: 1.85s\tremaining: 1.23s\n",
            "600:\tlearn: 0.0285039\ttotal: 1.85s\tremaining: 1.23s\n",
            "601:\tlearn: 0.0284385\ttotal: 1.85s\tremaining: 1.22s\n",
            "602:\tlearn: 0.0284059\ttotal: 1.85s\tremaining: 1.22s\n",
            "603:\tlearn: 0.0283378\ttotal: 1.85s\tremaining: 1.22s\n",
            "604:\tlearn: 0.0282710\ttotal: 1.86s\tremaining: 1.21s\n",
            "605:\tlearn: 0.0282291\ttotal: 1.86s\tremaining: 1.21s\n",
            "606:\tlearn: 0.0282150\ttotal: 1.86s\tremaining: 1.21s\n",
            "607:\tlearn: 0.0281756\ttotal: 1.87s\tremaining: 1.21s\n",
            "608:\tlearn: 0.0281207\ttotal: 1.87s\tremaining: 1.2s\n",
            "609:\tlearn: 0.0281046\ttotal: 1.88s\tremaining: 1.2s\n",
            "610:\tlearn: 0.0280785\ttotal: 1.89s\tremaining: 1.2s\n",
            "611:\tlearn: 0.0280548\ttotal: 1.89s\tremaining: 1.2s\n",
            "612:\tlearn: 0.0279970\ttotal: 1.89s\tremaining: 1.2s\n",
            "613:\tlearn: 0.0279700\ttotal: 1.9s\tremaining: 1.19s\n",
            "614:\tlearn: 0.0279427\ttotal: 1.9s\tremaining: 1.19s\n",
            "615:\tlearn: 0.0278677\ttotal: 1.91s\tremaining: 1.19s\n",
            "616:\tlearn: 0.0278354\ttotal: 1.91s\tremaining: 1.19s\n",
            "617:\tlearn: 0.0277734\ttotal: 1.92s\tremaining: 1.18s\n",
            "618:\tlearn: 0.0276772\ttotal: 1.92s\tremaining: 1.18s\n",
            "619:\tlearn: 0.0276761\ttotal: 1.92s\tremaining: 1.18s\n",
            "620:\tlearn: 0.0276655\ttotal: 1.93s\tremaining: 1.18s\n",
            "621:\tlearn: 0.0276217\ttotal: 1.93s\tremaining: 1.17s\n",
            "622:\tlearn: 0.0276062\ttotal: 1.94s\tremaining: 1.17s\n",
            "623:\tlearn: 0.0276019\ttotal: 1.94s\tremaining: 1.17s\n",
            "624:\tlearn: 0.0275666\ttotal: 1.95s\tremaining: 1.17s\n",
            "625:\tlearn: 0.0275516\ttotal: 1.95s\tremaining: 1.17s\n",
            "626:\tlearn: 0.0275107\ttotal: 1.96s\tremaining: 1.16s\n",
            "627:\tlearn: 0.0274884\ttotal: 1.96s\tremaining: 1.16s\n",
            "628:\tlearn: 0.0274353\ttotal: 1.97s\tremaining: 1.16s\n",
            "629:\tlearn: 0.0274111\ttotal: 1.97s\tremaining: 1.16s\n",
            "630:\tlearn: 0.0273263\ttotal: 1.98s\tremaining: 1.16s\n",
            "631:\tlearn: 0.0273092\ttotal: 1.98s\tremaining: 1.15s\n",
            "632:\tlearn: 0.0272909\ttotal: 1.99s\tremaining: 1.15s\n",
            "633:\tlearn: 0.0272551\ttotal: 1.99s\tremaining: 1.15s\n",
            "634:\tlearn: 0.0272400\ttotal: 2s\tremaining: 1.15s\n",
            "635:\tlearn: 0.0272388\ttotal: 2s\tremaining: 1.14s\n",
            "636:\tlearn: 0.0271842\ttotal: 2s\tremaining: 1.14s\n",
            "637:\tlearn: 0.0271010\ttotal: 2.01s\tremaining: 1.14s\n",
            "638:\tlearn: 0.0270905\ttotal: 2.01s\tremaining: 1.14s\n",
            "639:\tlearn: 0.0270616\ttotal: 2.02s\tremaining: 1.14s\n",
            "640:\tlearn: 0.0269570\ttotal: 2.02s\tremaining: 1.13s\n",
            "641:\tlearn: 0.0269337\ttotal: 2.03s\tremaining: 1.13s\n",
            "642:\tlearn: 0.0268999\ttotal: 2.03s\tremaining: 1.13s\n",
            "643:\tlearn: 0.0268526\ttotal: 2.04s\tremaining: 1.13s\n",
            "644:\tlearn: 0.0268251\ttotal: 2.04s\tremaining: 1.13s\n",
            "645:\tlearn: 0.0267928\ttotal: 2.05s\tremaining: 1.12s\n",
            "646:\tlearn: 0.0267320\ttotal: 2.06s\tremaining: 1.12s\n",
            "647:\tlearn: 0.0267082\ttotal: 2.06s\tremaining: 1.12s\n",
            "648:\tlearn: 0.0266866\ttotal: 2.06s\tremaining: 1.12s\n",
            "649:\tlearn: 0.0266729\ttotal: 2.07s\tremaining: 1.11s\n",
            "650:\tlearn: 0.0265954\ttotal: 2.07s\tremaining: 1.11s\n",
            "651:\tlearn: 0.0265796\ttotal: 2.08s\tremaining: 1.11s\n",
            "652:\tlearn: 0.0265243\ttotal: 2.08s\tremaining: 1.11s\n",
            "653:\tlearn: 0.0265132\ttotal: 2.09s\tremaining: 1.1s\n",
            "654:\tlearn: 0.0264914\ttotal: 2.09s\tremaining: 1.1s\n",
            "655:\tlearn: 0.0264129\ttotal: 2.1s\tremaining: 1.1s\n",
            "656:\tlearn: 0.0263584\ttotal: 2.1s\tremaining: 1.1s\n",
            "657:\tlearn: 0.0262980\ttotal: 2.11s\tremaining: 1.09s\n",
            "658:\tlearn: 0.0262390\ttotal: 2.11s\tremaining: 1.09s\n",
            "659:\tlearn: 0.0261809\ttotal: 2.12s\tremaining: 1.09s\n",
            "660:\tlearn: 0.0261396\ttotal: 2.12s\tremaining: 1.09s\n",
            "661:\tlearn: 0.0261387\ttotal: 2.12s\tremaining: 1.08s\n",
            "662:\tlearn: 0.0261292\ttotal: 2.13s\tremaining: 1.08s\n",
            "663:\tlearn: 0.0260974\ttotal: 2.13s\tremaining: 1.08s\n",
            "664:\tlearn: 0.0260786\ttotal: 2.13s\tremaining: 1.07s\n",
            "665:\tlearn: 0.0260158\ttotal: 2.14s\tremaining: 1.07s\n",
            "666:\tlearn: 0.0259780\ttotal: 2.15s\tremaining: 1.07s\n",
            "667:\tlearn: 0.0259419\ttotal: 2.15s\tremaining: 1.07s\n",
            "668:\tlearn: 0.0258915\ttotal: 2.16s\tremaining: 1.07s\n",
            "669:\tlearn: 0.0258771\ttotal: 2.16s\tremaining: 1.06s\n",
            "670:\tlearn: 0.0258283\ttotal: 2.17s\tremaining: 1.06s\n",
            "671:\tlearn: 0.0257600\ttotal: 2.17s\tremaining: 1.06s\n",
            "672:\tlearn: 0.0256930\ttotal: 2.17s\tremaining: 1.06s\n",
            "673:\tlearn: 0.0256855\ttotal: 2.18s\tremaining: 1.05s\n",
            "674:\tlearn: 0.0256611\ttotal: 2.19s\tremaining: 1.05s\n",
            "675:\tlearn: 0.0256206\ttotal: 2.19s\tremaining: 1.05s\n",
            "676:\tlearn: 0.0255637\ttotal: 2.19s\tremaining: 1.05s\n",
            "677:\tlearn: 0.0255327\ttotal: 2.2s\tremaining: 1.04s\n",
            "678:\tlearn: 0.0255124\ttotal: 2.2s\tremaining: 1.04s\n",
            "679:\tlearn: 0.0254885\ttotal: 2.21s\tremaining: 1.04s\n",
            "680:\tlearn: 0.0254529\ttotal: 2.21s\tremaining: 1.03s\n",
            "681:\tlearn: 0.0253968\ttotal: 2.22s\tremaining: 1.03s\n",
            "682:\tlearn: 0.0253442\ttotal: 2.22s\tremaining: 1.03s\n",
            "683:\tlearn: 0.0252997\ttotal: 2.22s\tremaining: 1.03s\n",
            "684:\tlearn: 0.0252546\ttotal: 2.24s\tremaining: 1.03s\n",
            "685:\tlearn: 0.0252235\ttotal: 2.25s\tremaining: 1.03s\n",
            "686:\tlearn: 0.0251945\ttotal: 2.25s\tremaining: 1.02s\n",
            "687:\tlearn: 0.0251828\ttotal: 2.26s\tremaining: 1.02s\n",
            "688:\tlearn: 0.0251643\ttotal: 2.26s\tremaining: 1.02s\n",
            "689:\tlearn: 0.0251543\ttotal: 2.27s\tremaining: 1.02s\n",
            "690:\tlearn: 0.0251506\ttotal: 2.27s\tremaining: 1.02s\n",
            "691:\tlearn: 0.0251364\ttotal: 2.28s\tremaining: 1.01s\n",
            "692:\tlearn: 0.0250960\ttotal: 2.28s\tremaining: 1.01s\n",
            "693:\tlearn: 0.0250253\ttotal: 2.29s\tremaining: 1.01s\n",
            "694:\tlearn: 0.0249441\ttotal: 2.29s\tremaining: 1s\n",
            "695:\tlearn: 0.0249433\ttotal: 2.29s\tremaining: 1s\n",
            "696:\tlearn: 0.0249279\ttotal: 2.3s\tremaining: 999ms\n",
            "697:\tlearn: 0.0249130\ttotal: 2.3s\tremaining: 997ms\n",
            "698:\tlearn: 0.0248746\ttotal: 2.31s\tremaining: 994ms\n",
            "699:\tlearn: 0.0248528\ttotal: 2.31s\tremaining: 992ms\n",
            "700:\tlearn: 0.0248428\ttotal: 2.32s\tremaining: 988ms\n",
            "701:\tlearn: 0.0247887\ttotal: 2.32s\tremaining: 986ms\n",
            "702:\tlearn: 0.0247312\ttotal: 2.33s\tremaining: 983ms\n",
            "703:\tlearn: 0.0247265\ttotal: 2.33s\tremaining: 980ms\n",
            "704:\tlearn: 0.0247164\ttotal: 2.33s\tremaining: 977ms\n",
            "705:\tlearn: 0.0247106\ttotal: 2.34s\tremaining: 974ms\n",
            "706:\tlearn: 0.0246513\ttotal: 2.34s\tremaining: 971ms\n",
            "707:\tlearn: 0.0246231\ttotal: 2.35s\tremaining: 968ms\n",
            "708:\tlearn: 0.0246166\ttotal: 2.35s\tremaining: 966ms\n",
            "709:\tlearn: 0.0245596\ttotal: 2.36s\tremaining: 963ms\n",
            "710:\tlearn: 0.0245263\ttotal: 2.36s\tremaining: 960ms\n",
            "711:\tlearn: 0.0244562\ttotal: 2.37s\tremaining: 958ms\n",
            "712:\tlearn: 0.0244512\ttotal: 2.37s\tremaining: 955ms\n",
            "713:\tlearn: 0.0244164\ttotal: 2.38s\tremaining: 952ms\n",
            "714:\tlearn: 0.0243998\ttotal: 2.38s\tremaining: 949ms\n",
            "715:\tlearn: 0.0243345\ttotal: 2.38s\tremaining: 946ms\n",
            "716:\tlearn: 0.0243155\ttotal: 2.39s\tremaining: 943ms\n",
            "717:\tlearn: 0.0242686\ttotal: 2.39s\tremaining: 941ms\n",
            "718:\tlearn: 0.0242265\ttotal: 2.4s\tremaining: 938ms\n",
            "719:\tlearn: 0.0241981\ttotal: 2.4s\tremaining: 935ms\n",
            "720:\tlearn: 0.0241475\ttotal: 2.41s\tremaining: 932ms\n",
            "721:\tlearn: 0.0240802\ttotal: 2.42s\tremaining: 930ms\n",
            "722:\tlearn: 0.0240294\ttotal: 2.42s\tremaining: 926ms\n",
            "723:\tlearn: 0.0240211\ttotal: 2.42s\tremaining: 924ms\n",
            "724:\tlearn: 0.0240034\ttotal: 2.43s\tremaining: 921ms\n",
            "725:\tlearn: 0.0239977\ttotal: 2.43s\tremaining: 917ms\n",
            "726:\tlearn: 0.0239465\ttotal: 2.43s\tremaining: 914ms\n",
            "727:\tlearn: 0.0239433\ttotal: 2.44s\tremaining: 911ms\n",
            "728:\tlearn: 0.0239237\ttotal: 2.44s\tremaining: 907ms\n",
            "729:\tlearn: 0.0239034\ttotal: 2.44s\tremaining: 904ms\n",
            "730:\tlearn: 0.0238874\ttotal: 2.45s\tremaining: 901ms\n",
            "731:\tlearn: 0.0238356\ttotal: 2.45s\tremaining: 898ms\n",
            "732:\tlearn: 0.0238110\ttotal: 2.45s\tremaining: 894ms\n",
            "733:\tlearn: 0.0237901\ttotal: 2.46s\tremaining: 890ms\n",
            "734:\tlearn: 0.0237381\ttotal: 2.46s\tremaining: 886ms\n",
            "735:\tlearn: 0.0236757\ttotal: 2.46s\tremaining: 883ms\n",
            "736:\tlearn: 0.0236677\ttotal: 2.46s\tremaining: 879ms\n",
            "737:\tlearn: 0.0236298\ttotal: 2.47s\tremaining: 876ms\n",
            "738:\tlearn: 0.0235859\ttotal: 2.47s\tremaining: 872ms\n",
            "739:\tlearn: 0.0235762\ttotal: 2.47s\tremaining: 868ms\n",
            "740:\tlearn: 0.0235498\ttotal: 2.47s\tremaining: 864ms\n",
            "741:\tlearn: 0.0235392\ttotal: 2.48s\tremaining: 861ms\n",
            "742:\tlearn: 0.0234973\ttotal: 2.48s\tremaining: 857ms\n",
            "743:\tlearn: 0.0234668\ttotal: 2.48s\tremaining: 853ms\n",
            "744:\tlearn: 0.0234356\ttotal: 2.48s\tremaining: 849ms\n",
            "745:\tlearn: 0.0234177\ttotal: 2.48s\tremaining: 846ms\n",
            "746:\tlearn: 0.0234106\ttotal: 2.49s\tremaining: 844ms\n",
            "747:\tlearn: 0.0234018\ttotal: 2.5s\tremaining: 841ms\n",
            "748:\tlearn: 0.0233887\ttotal: 2.5s\tremaining: 838ms\n",
            "749:\tlearn: 0.0233712\ttotal: 2.5s\tremaining: 835ms\n",
            "750:\tlearn: 0.0233351\ttotal: 2.51s\tremaining: 833ms\n",
            "751:\tlearn: 0.0233065\ttotal: 2.51s\tremaining: 829ms\n",
            "752:\tlearn: 0.0232651\ttotal: 2.52s\tremaining: 827ms\n",
            "753:\tlearn: 0.0232525\ttotal: 2.52s\tremaining: 823ms\n",
            "754:\tlearn: 0.0232356\ttotal: 2.53s\tremaining: 820ms\n",
            "755:\tlearn: 0.0232258\ttotal: 2.53s\tremaining: 816ms\n",
            "756:\tlearn: 0.0232183\ttotal: 2.53s\tremaining: 814ms\n",
            "757:\tlearn: 0.0231635\ttotal: 2.54s\tremaining: 811ms\n",
            "758:\tlearn: 0.0231527\ttotal: 2.54s\tremaining: 808ms\n",
            "759:\tlearn: 0.0230822\ttotal: 2.55s\tremaining: 805ms\n",
            "760:\tlearn: 0.0230675\ttotal: 2.55s\tremaining: 802ms\n",
            "761:\tlearn: 0.0230565\ttotal: 2.56s\tremaining: 799ms\n",
            "762:\tlearn: 0.0230015\ttotal: 2.56s\tremaining: 796ms\n",
            "763:\tlearn: 0.0229657\ttotal: 2.57s\tremaining: 794ms\n",
            "764:\tlearn: 0.0229435\ttotal: 2.57s\tremaining: 790ms\n",
            "765:\tlearn: 0.0229317\ttotal: 2.58s\tremaining: 788ms\n",
            "766:\tlearn: 0.0229036\ttotal: 2.58s\tremaining: 785ms\n",
            "767:\tlearn: 0.0228348\ttotal: 2.59s\tremaining: 782ms\n",
            "768:\tlearn: 0.0228032\ttotal: 2.59s\tremaining: 779ms\n",
            "769:\tlearn: 0.0227799\ttotal: 2.6s\tremaining: 776ms\n",
            "770:\tlearn: 0.0227791\ttotal: 2.6s\tremaining: 773ms\n",
            "771:\tlearn: 0.0227324\ttotal: 2.61s\tremaining: 770ms\n",
            "772:\tlearn: 0.0227224\ttotal: 2.61s\tremaining: 766ms\n",
            "773:\tlearn: 0.0226860\ttotal: 2.61s\tremaining: 764ms\n",
            "774:\tlearn: 0.0226854\ttotal: 2.62s\tremaining: 760ms\n",
            "775:\tlearn: 0.0226661\ttotal: 2.62s\tremaining: 757ms\n",
            "776:\tlearn: 0.0226216\ttotal: 2.63s\tremaining: 754ms\n",
            "777:\tlearn: 0.0226162\ttotal: 2.63s\tremaining: 751ms\n",
            "778:\tlearn: 0.0225490\ttotal: 2.63s\tremaining: 748ms\n",
            "779:\tlearn: 0.0225426\ttotal: 2.64s\tremaining: 745ms\n",
            "780:\tlearn: 0.0225295\ttotal: 2.64s\tremaining: 741ms\n",
            "781:\tlearn: 0.0225216\ttotal: 2.65s\tremaining: 739ms\n",
            "782:\tlearn: 0.0224996\ttotal: 2.65s\tremaining: 736ms\n",
            "783:\tlearn: 0.0224776\ttotal: 2.66s\tremaining: 733ms\n",
            "784:\tlearn: 0.0224618\ttotal: 2.66s\tremaining: 730ms\n",
            "785:\tlearn: 0.0224231\ttotal: 2.67s\tremaining: 726ms\n",
            "786:\tlearn: 0.0223869\ttotal: 2.67s\tremaining: 723ms\n",
            "787:\tlearn: 0.0223366\ttotal: 2.68s\tremaining: 720ms\n",
            "788:\tlearn: 0.0223193\ttotal: 2.68s\tremaining: 717ms\n",
            "789:\tlearn: 0.0222607\ttotal: 2.69s\tremaining: 715ms\n",
            "790:\tlearn: 0.0222067\ttotal: 2.69s\tremaining: 712ms\n",
            "791:\tlearn: 0.0221521\ttotal: 2.7s\tremaining: 709ms\n",
            "792:\tlearn: 0.0221306\ttotal: 2.7s\tremaining: 706ms\n",
            "793:\tlearn: 0.0221195\ttotal: 2.71s\tremaining: 703ms\n",
            "794:\tlearn: 0.0221189\ttotal: 2.71s\tremaining: 699ms\n",
            "795:\tlearn: 0.0220994\ttotal: 2.71s\tremaining: 695ms\n",
            "796:\tlearn: 0.0220930\ttotal: 2.72s\tremaining: 692ms\n",
            "797:\tlearn: 0.0220828\ttotal: 2.72s\tremaining: 689ms\n",
            "798:\tlearn: 0.0220512\ttotal: 2.73s\tremaining: 686ms\n",
            "799:\tlearn: 0.0220033\ttotal: 2.73s\tremaining: 683ms\n",
            "800:\tlearn: 0.0219693\ttotal: 2.74s\tremaining: 680ms\n",
            "801:\tlearn: 0.0219600\ttotal: 2.74s\tremaining: 677ms\n",
            "802:\tlearn: 0.0219282\ttotal: 2.75s\tremaining: 674ms\n",
            "803:\tlearn: 0.0219200\ttotal: 2.75s\tremaining: 671ms\n",
            "804:\tlearn: 0.0218658\ttotal: 2.76s\tremaining: 668ms\n",
            "805:\tlearn: 0.0218360\ttotal: 2.76s\tremaining: 665ms\n",
            "806:\tlearn: 0.0218245\ttotal: 2.77s\tremaining: 662ms\n",
            "807:\tlearn: 0.0217758\ttotal: 2.77s\tremaining: 659ms\n",
            "808:\tlearn: 0.0217689\ttotal: 2.78s\tremaining: 655ms\n",
            "809:\tlearn: 0.0217127\ttotal: 2.78s\tremaining: 652ms\n",
            "810:\tlearn: 0.0217044\ttotal: 2.79s\tremaining: 650ms\n",
            "811:\tlearn: 0.0216914\ttotal: 2.79s\tremaining: 646ms\n",
            "812:\tlearn: 0.0216672\ttotal: 2.79s\tremaining: 643ms\n",
            "813:\tlearn: 0.0216132\ttotal: 2.8s\tremaining: 640ms\n",
            "814:\tlearn: 0.0215956\ttotal: 2.81s\tremaining: 637ms\n",
            "815:\tlearn: 0.0215722\ttotal: 2.81s\tremaining: 634ms\n",
            "816:\tlearn: 0.0215715\ttotal: 2.81s\tremaining: 630ms\n",
            "817:\tlearn: 0.0215709\ttotal: 2.81s\tremaining: 626ms\n",
            "818:\tlearn: 0.0215394\ttotal: 2.82s\tremaining: 623ms\n",
            "819:\tlearn: 0.0215108\ttotal: 2.82s\tremaining: 620ms\n",
            "820:\tlearn: 0.0214505\ttotal: 2.83s\tremaining: 617ms\n",
            "821:\tlearn: 0.0214233\ttotal: 2.83s\tremaining: 614ms\n",
            "822:\tlearn: 0.0213955\ttotal: 2.84s\tremaining: 611ms\n",
            "823:\tlearn: 0.0213654\ttotal: 2.84s\tremaining: 607ms\n",
            "824:\tlearn: 0.0213269\ttotal: 2.85s\tremaining: 604ms\n",
            "825:\tlearn: 0.0212879\ttotal: 2.85s\tremaining: 601ms\n",
            "826:\tlearn: 0.0212250\ttotal: 2.86s\tremaining: 598ms\n",
            "827:\tlearn: 0.0211892\ttotal: 2.86s\tremaining: 595ms\n",
            "828:\tlearn: 0.0211506\ttotal: 2.87s\tremaining: 592ms\n",
            "829:\tlearn: 0.0211071\ttotal: 2.87s\tremaining: 588ms\n",
            "830:\tlearn: 0.0210941\ttotal: 2.87s\tremaining: 585ms\n",
            "831:\tlearn: 0.0210878\ttotal: 2.88s\tremaining: 581ms\n",
            "832:\tlearn: 0.0210806\ttotal: 2.88s\tremaining: 577ms\n",
            "833:\tlearn: 0.0210371\ttotal: 2.88s\tremaining: 574ms\n",
            "834:\tlearn: 0.0209927\ttotal: 2.89s\tremaining: 570ms\n",
            "835:\tlearn: 0.0209500\ttotal: 2.89s\tremaining: 567ms\n",
            "836:\tlearn: 0.0209433\ttotal: 2.9s\tremaining: 564ms\n",
            "837:\tlearn: 0.0209049\ttotal: 2.9s\tremaining: 561ms\n",
            "838:\tlearn: 0.0209042\ttotal: 2.9s\tremaining: 557ms\n",
            "839:\tlearn: 0.0208727\ttotal: 2.91s\tremaining: 554ms\n",
            "840:\tlearn: 0.0208428\ttotal: 2.91s\tremaining: 551ms\n",
            "841:\tlearn: 0.0208168\ttotal: 2.92s\tremaining: 547ms\n",
            "842:\tlearn: 0.0207664\ttotal: 2.93s\tremaining: 545ms\n",
            "843:\tlearn: 0.0207430\ttotal: 2.93s\tremaining: 541ms\n",
            "844:\tlearn: 0.0207258\ttotal: 2.93s\tremaining: 538ms\n",
            "845:\tlearn: 0.0206901\ttotal: 2.94s\tremaining: 535ms\n",
            "846:\tlearn: 0.0206579\ttotal: 2.94s\tremaining: 531ms\n",
            "847:\tlearn: 0.0206459\ttotal: 2.95s\tremaining: 528ms\n",
            "848:\tlearn: 0.0206218\ttotal: 2.95s\tremaining: 525ms\n",
            "849:\tlearn: 0.0206058\ttotal: 2.96s\tremaining: 522ms\n",
            "850:\tlearn: 0.0205804\ttotal: 2.96s\tremaining: 519ms\n",
            "851:\tlearn: 0.0205655\ttotal: 2.97s\tremaining: 515ms\n",
            "852:\tlearn: 0.0205136\ttotal: 2.97s\tremaining: 512ms\n",
            "853:\tlearn: 0.0205051\ttotal: 2.98s\tremaining: 509ms\n",
            "854:\tlearn: 0.0204714\ttotal: 2.98s\tremaining: 505ms\n",
            "855:\tlearn: 0.0204300\ttotal: 2.98s\tremaining: 502ms\n",
            "856:\tlearn: 0.0204088\ttotal: 2.99s\tremaining: 499ms\n",
            "857:\tlearn: 0.0203527\ttotal: 2.99s\tremaining: 496ms\n",
            "858:\tlearn: 0.0203415\ttotal: 3s\tremaining: 492ms\n",
            "859:\tlearn: 0.0203341\ttotal: 3s\tremaining: 489ms\n",
            "860:\tlearn: 0.0203064\ttotal: 3.01s\tremaining: 486ms\n",
            "861:\tlearn: 0.0202955\ttotal: 3.01s\tremaining: 482ms\n",
            "862:\tlearn: 0.0202387\ttotal: 3.01s\tremaining: 478ms\n",
            "863:\tlearn: 0.0201833\ttotal: 3.02s\tremaining: 475ms\n",
            "864:\tlearn: 0.0201776\ttotal: 3.02s\tremaining: 471ms\n",
            "865:\tlearn: 0.0201696\ttotal: 3.02s\tremaining: 468ms\n",
            "866:\tlearn: 0.0201542\ttotal: 3.03s\tremaining: 465ms\n",
            "867:\tlearn: 0.0201234\ttotal: 3.03s\tremaining: 461ms\n",
            "868:\tlearn: 0.0200753\ttotal: 3.04s\tremaining: 458ms\n",
            "869:\tlearn: 0.0200646\ttotal: 3.04s\tremaining: 455ms\n",
            "870:\tlearn: 0.0200153\ttotal: 3.05s\tremaining: 451ms\n",
            "871:\tlearn: 0.0200088\ttotal: 3.05s\tremaining: 448ms\n",
            "872:\tlearn: 0.0199995\ttotal: 3.06s\tremaining: 445ms\n",
            "873:\tlearn: 0.0199553\ttotal: 3.06s\tremaining: 442ms\n",
            "874:\tlearn: 0.0199421\ttotal: 3.07s\tremaining: 438ms\n",
            "875:\tlearn: 0.0199156\ttotal: 3.07s\tremaining: 435ms\n",
            "876:\tlearn: 0.0199032\ttotal: 3.07s\tremaining: 431ms\n",
            "877:\tlearn: 0.0198905\ttotal: 3.08s\tremaining: 428ms\n",
            "878:\tlearn: 0.0198621\ttotal: 3.08s\tremaining: 424ms\n",
            "879:\tlearn: 0.0198077\ttotal: 3.08s\tremaining: 421ms\n",
            "880:\tlearn: 0.0197821\ttotal: 3.09s\tremaining: 417ms\n",
            "881:\tlearn: 0.0197657\ttotal: 3.09s\tremaining: 414ms\n",
            "882:\tlearn: 0.0197597\ttotal: 3.09s\tremaining: 410ms\n",
            "883:\tlearn: 0.0197350\ttotal: 3.1s\tremaining: 406ms\n",
            "884:\tlearn: 0.0196926\ttotal: 3.1s\tremaining: 403ms\n",
            "885:\tlearn: 0.0196683\ttotal: 3.1s\tremaining: 400ms\n",
            "886:\tlearn: 0.0196313\ttotal: 3.11s\tremaining: 396ms\n",
            "887:\tlearn: 0.0196256\ttotal: 3.11s\tremaining: 393ms\n",
            "888:\tlearn: 0.0196006\ttotal: 3.12s\tremaining: 390ms\n",
            "889:\tlearn: 0.0195576\ttotal: 3.12s\tremaining: 386ms\n",
            "890:\tlearn: 0.0195391\ttotal: 3.13s\tremaining: 383ms\n",
            "891:\tlearn: 0.0194976\ttotal: 3.14s\tremaining: 380ms\n",
            "892:\tlearn: 0.0194921\ttotal: 3.14s\tremaining: 377ms\n",
            "893:\tlearn: 0.0194561\ttotal: 3.15s\tremaining: 374ms\n",
            "894:\tlearn: 0.0194424\ttotal: 3.15s\tremaining: 370ms\n",
            "895:\tlearn: 0.0193959\ttotal: 3.16s\tremaining: 367ms\n",
            "896:\tlearn: 0.0193904\ttotal: 3.17s\tremaining: 364ms\n",
            "897:\tlearn: 0.0193818\ttotal: 3.17s\tremaining: 360ms\n",
            "898:\tlearn: 0.0193602\ttotal: 3.18s\tremaining: 357ms\n",
            "899:\tlearn: 0.0193239\ttotal: 3.18s\tremaining: 354ms\n",
            "900:\tlearn: 0.0192681\ttotal: 3.19s\tremaining: 350ms\n",
            "901:\tlearn: 0.0192483\ttotal: 3.19s\tremaining: 347ms\n",
            "902:\tlearn: 0.0192137\ttotal: 3.19s\tremaining: 343ms\n",
            "903:\tlearn: 0.0191821\ttotal: 3.2s\tremaining: 340ms\n",
            "904:\tlearn: 0.0191767\ttotal: 3.21s\tremaining: 337ms\n",
            "905:\tlearn: 0.0191468\ttotal: 3.21s\tremaining: 333ms\n",
            "906:\tlearn: 0.0190978\ttotal: 3.22s\tremaining: 330ms\n",
            "907:\tlearn: 0.0190841\ttotal: 3.22s\tremaining: 326ms\n",
            "908:\tlearn: 0.0190611\ttotal: 3.23s\tremaining: 323ms\n",
            "909:\tlearn: 0.0190253\ttotal: 3.23s\tremaining: 320ms\n",
            "910:\tlearn: 0.0190162\ttotal: 3.24s\tremaining: 316ms\n",
            "911:\tlearn: 0.0189952\ttotal: 3.24s\tremaining: 313ms\n",
            "912:\tlearn: 0.0189846\ttotal: 3.25s\tremaining: 310ms\n",
            "913:\tlearn: 0.0189462\ttotal: 3.25s\tremaining: 306ms\n",
            "914:\tlearn: 0.0189409\ttotal: 3.26s\tremaining: 303ms\n",
            "915:\tlearn: 0.0189210\ttotal: 3.26s\tremaining: 299ms\n",
            "916:\tlearn: 0.0188711\ttotal: 3.27s\tremaining: 296ms\n",
            "917:\tlearn: 0.0188666\ttotal: 3.27s\tremaining: 292ms\n",
            "918:\tlearn: 0.0188323\ttotal: 3.28s\tremaining: 289ms\n",
            "919:\tlearn: 0.0188203\ttotal: 3.28s\tremaining: 285ms\n",
            "920:\tlearn: 0.0188152\ttotal: 3.29s\tremaining: 282ms\n",
            "921:\tlearn: 0.0188103\ttotal: 3.29s\tremaining: 279ms\n",
            "922:\tlearn: 0.0187839\ttotal: 3.3s\tremaining: 275ms\n",
            "923:\tlearn: 0.0187415\ttotal: 3.3s\tremaining: 271ms\n",
            "924:\tlearn: 0.0187361\ttotal: 3.3s\tremaining: 268ms\n",
            "925:\tlearn: 0.0187316\ttotal: 3.31s\tremaining: 264ms\n",
            "926:\tlearn: 0.0187261\ttotal: 3.31s\tremaining: 261ms\n",
            "927:\tlearn: 0.0186736\ttotal: 3.32s\tremaining: 258ms\n",
            "928:\tlearn: 0.0186653\ttotal: 3.32s\tremaining: 254ms\n",
            "929:\tlearn: 0.0186261\ttotal: 3.33s\tremaining: 251ms\n",
            "930:\tlearn: 0.0185879\ttotal: 3.33s\tremaining: 247ms\n",
            "931:\tlearn: 0.0185819\ttotal: 3.34s\tremaining: 244ms\n",
            "932:\tlearn: 0.0185775\ttotal: 3.34s\tremaining: 240ms\n",
            "933:\tlearn: 0.0185416\ttotal: 3.35s\tremaining: 237ms\n",
            "934:\tlearn: 0.0185061\ttotal: 3.35s\tremaining: 233ms\n",
            "935:\tlearn: 0.0184758\ttotal: 3.36s\tremaining: 230ms\n",
            "936:\tlearn: 0.0184642\ttotal: 3.36s\tremaining: 226ms\n",
            "937:\tlearn: 0.0184549\ttotal: 3.37s\tremaining: 223ms\n",
            "938:\tlearn: 0.0184188\ttotal: 3.37s\tremaining: 219ms\n",
            "939:\tlearn: 0.0184081\ttotal: 3.38s\tremaining: 216ms\n",
            "940:\tlearn: 0.0183705\ttotal: 3.38s\tremaining: 212ms\n",
            "941:\tlearn: 0.0183655\ttotal: 3.39s\tremaining: 209ms\n",
            "942:\tlearn: 0.0183095\ttotal: 3.4s\tremaining: 205ms\n",
            "943:\tlearn: 0.0182882\ttotal: 3.4s\tremaining: 202ms\n",
            "944:\tlearn: 0.0182827\ttotal: 3.41s\tremaining: 198ms\n",
            "945:\tlearn: 0.0182345\ttotal: 3.41s\tremaining: 195ms\n",
            "946:\tlearn: 0.0182112\ttotal: 3.42s\tremaining: 191ms\n",
            "947:\tlearn: 0.0181766\ttotal: 3.42s\tremaining: 188ms\n",
            "948:\tlearn: 0.0181579\ttotal: 3.42s\tremaining: 184ms\n",
            "949:\tlearn: 0.0181300\ttotal: 3.43s\tremaining: 181ms\n",
            "950:\tlearn: 0.0181177\ttotal: 3.43s\tremaining: 177ms\n",
            "951:\tlearn: 0.0180959\ttotal: 3.44s\tremaining: 173ms\n",
            "952:\tlearn: 0.0180569\ttotal: 3.44s\tremaining: 170ms\n",
            "953:\tlearn: 0.0180297\ttotal: 3.44s\tremaining: 166ms\n",
            "954:\tlearn: 0.0180109\ttotal: 3.45s\tremaining: 163ms\n",
            "955:\tlearn: 0.0179836\ttotal: 3.46s\tremaining: 159ms\n",
            "956:\tlearn: 0.0179555\ttotal: 3.46s\tremaining: 155ms\n",
            "957:\tlearn: 0.0179429\ttotal: 3.46s\tremaining: 152ms\n",
            "958:\tlearn: 0.0179080\ttotal: 3.47s\tremaining: 148ms\n",
            "959:\tlearn: 0.0179021\ttotal: 3.47s\tremaining: 145ms\n",
            "960:\tlearn: 0.0178681\ttotal: 3.47s\tremaining: 141ms\n",
            "961:\tlearn: 0.0178498\ttotal: 3.48s\tremaining: 137ms\n",
            "962:\tlearn: 0.0178222\ttotal: 3.48s\tremaining: 134ms\n",
            "963:\tlearn: 0.0178017\ttotal: 3.49s\tremaining: 130ms\n",
            "964:\tlearn: 0.0177686\ttotal: 3.49s\tremaining: 127ms\n",
            "965:\tlearn: 0.0177457\ttotal: 3.5s\tremaining: 123ms\n",
            "966:\tlearn: 0.0177380\ttotal: 3.5s\tremaining: 120ms\n",
            "967:\tlearn: 0.0177242\ttotal: 3.51s\tremaining: 116ms\n",
            "968:\tlearn: 0.0177114\ttotal: 3.51s\tremaining: 112ms\n",
            "969:\tlearn: 0.0176846\ttotal: 3.52s\tremaining: 109ms\n",
            "970:\tlearn: 0.0176842\ttotal: 3.52s\tremaining: 105ms\n",
            "971:\tlearn: 0.0176464\ttotal: 3.52s\tremaining: 101ms\n",
            "972:\tlearn: 0.0176265\ttotal: 3.53s\tremaining: 98ms\n",
            "973:\tlearn: 0.0175994\ttotal: 3.53s\tremaining: 94.3ms\n",
            "974:\tlearn: 0.0175729\ttotal: 3.54s\tremaining: 90.8ms\n",
            "975:\tlearn: 0.0175363\ttotal: 3.54s\tremaining: 87.1ms\n",
            "976:\tlearn: 0.0175049\ttotal: 3.55s\tremaining: 83.6ms\n",
            "977:\tlearn: 0.0174958\ttotal: 3.55s\tremaining: 80ms\n",
            "978:\tlearn: 0.0174835\ttotal: 3.56s\tremaining: 76.4ms\n",
            "979:\tlearn: 0.0174555\ttotal: 3.56s\tremaining: 72.7ms\n",
            "980:\tlearn: 0.0174356\ttotal: 3.56s\tremaining: 69.1ms\n",
            "981:\tlearn: 0.0174131\ttotal: 3.57s\tremaining: 65.4ms\n",
            "982:\tlearn: 0.0173571\ttotal: 3.57s\tremaining: 61.7ms\n",
            "983:\tlearn: 0.0173347\ttotal: 3.57s\tremaining: 58.1ms\n",
            "984:\tlearn: 0.0173087\ttotal: 3.57s\tremaining: 54.4ms\n",
            "985:\tlearn: 0.0172867\ttotal: 3.58s\tremaining: 50.8ms\n",
            "986:\tlearn: 0.0172652\ttotal: 3.58s\tremaining: 47.1ms\n",
            "987:\tlearn: 0.0172384\ttotal: 3.58s\tremaining: 43.5ms\n",
            "988:\tlearn: 0.0172168\ttotal: 3.58s\tremaining: 39.8ms\n",
            "989:\tlearn: 0.0171949\ttotal: 3.58s\tremaining: 36.2ms\n",
            "990:\tlearn: 0.0171886\ttotal: 3.59s\tremaining: 32.6ms\n",
            "991:\tlearn: 0.0171664\ttotal: 3.59s\tremaining: 28.9ms\n",
            "992:\tlearn: 0.0171446\ttotal: 3.59s\tremaining: 25.3ms\n",
            "993:\tlearn: 0.0171229\ttotal: 3.59s\tremaining: 21.7ms\n",
            "994:\tlearn: 0.0171186\ttotal: 3.59s\tremaining: 18.1ms\n",
            "995:\tlearn: 0.0171086\ttotal: 3.6s\tremaining: 14.4ms\n",
            "996:\tlearn: 0.0171046\ttotal: 3.6s\tremaining: 10.8ms\n",
            "997:\tlearn: 0.0170874\ttotal: 3.6s\tremaining: 7.21ms\n",
            "998:\tlearn: 0.0170829\ttotal: 3.6s\tremaining: 3.6ms\n",
            "999:\tlearn: 0.0170788\ttotal: 3.6s\tremaining: 0us\n",
            "Training accuracy : 0.9968895800933126\n",
            "Testing accuracy : 0.9395348837209302\n",
            "              precision    recall  f1-score   support\n",
            "\n",
            "           0       0.98      0.96      0.97       204\n",
            "           1       0.44      0.64      0.52        11\n",
            "\n",
            "    accuracy                           0.94       215\n",
            "   macro avg       0.71      0.80      0.74       215\n",
            "weighted avg       0.95      0.94      0.94       215\n",
            "\n",
            "[[195   9]\n",
            " [  4   7]]\n"
          ]
        }
      ]
    },
    {
      "cell_type": "code",
      "source": [
        "from sklearn.metrics import confusion_matrix\n",
        "\n",
        "print('Confusion matrix\\n\\n', cm)\n",
        "\n",
        "cm = confusion_matrix(y_test, y_pred)\n",
        "\n",
        "print('\\nTrue Positives(TP) = ', cm[0,0])\n",
        "print('\\nTrue Negatives(TN) = ', cm[1,1])\n",
        "print('\\nFalse Positives(FP) = ', cm[0,1])\n",
        "print('\\nFalse Negatives(FN) = ', cm[1,0])\n",
        "cm_matrix = pd.DataFrame(data=cm, columns=['Actual Positive:1', 'Actual Negative:0'], \n",
        "                                 index=['Predict Positive:1', 'Predict Negative:0'])\n",
        "\n",
        "sns.heatmap(cm_matrix, annot=True, fmt='d', cmap='YlGnBu')"
      ],
      "metadata": {
        "colab": {
          "base_uri": "https://localhost:8080/",
          "height": 508
        },
        "id": "IVhq5go06jKv",
        "outputId": "3c8aeded-a79f-423a-d29f-ae5b3e51349d"
      },
      "execution_count": 231,
      "outputs": [
        {
          "output_type": "stream",
          "name": "stdout",
          "text": [
            "Confusion matrix\n",
            "\n",
            " [[195   9]\n",
            " [  7   4]]\n",
            "\n",
            "True Positives(TP) =  195\n",
            "\n",
            "True Negatives(TN) =  7\n",
            "\n",
            "False Positives(FP) =  9\n",
            "\n",
            "False Negatives(FN) =  4\n"
          ]
        },
        {
          "output_type": "execute_result",
          "data": {
            "text/plain": [
              "<Axes: >"
            ]
          },
          "metadata": {},
          "execution_count": 231
        },
        {
          "output_type": "display_data",
          "data": {
            "text/plain": [
              "<Figure size 432x288 with 2 Axes>"
            ],
            "image/png": "[encoded data removed]"
          },
          "metadata": {}
        }
      ]
    },
    {
      "cell_type": "markdown",
      "source": [
        "***Bagging Meta Estimator for Logistic Regression***"
      ],
      "metadata": {
        "id": "3WH1wcY08dBy"
      }
    },
    {
      "cell_type": "code",
      "source": [
        "from sklearn.ensemble import BaggingClassifier\n",
        "from sklearn.linear_model import LogisticRegression\n",
        "model = BaggingClassifier(estimator=LogisticRegression(), n_estimators=10, random_state=0)\n",
        "model.fit(x_train, y_train)\n",
        "\n",
        "# predicting the test set results\n",
        "y_pred = model.predict(x_test)\n",
        "\n",
        "# Calculating the accuracies\n",
        "print(\"Training accuracy :\", model.score(x_train, y_train))\n",
        "print(\"Testing accuracy :\", model.score(x_test, y_test))\n",
        "\n",
        "# classification report\n",
        "print(classification_report(y_test, y_pred))\n",
        "\n",
        "# confusion matrix \n",
        "print(confusion_matrix(y_test, y_pred))"
      ],
      "metadata": {
        "colab": {
          "base_uri": "https://localhost:8080/"
        },
        "id": "cTD0-l1D-RIK",
        "outputId": "1df556bf-da8f-4006-e192-4a0d14566132"
      },
      "execution_count": 237,
      "outputs": [
        {
          "output_type": "stream",
          "name": "stdout",
          "text": [
            "Training accuracy : 0.9766718506998445\n",
            "Testing accuracy : 0.9395348837209302\n",
            "              precision    recall  f1-score   support\n",
            "\n",
            "           0       0.98      0.95      0.97       204\n",
            "           1       0.44      0.73      0.55        11\n",
            "\n",
            "    accuracy                           0.94       215\n",
            "   macro avg       0.71      0.84      0.76       215\n",
            "weighted avg       0.96      0.94      0.95       215\n",
            "\n",
            "[[194  10]\n",
            " [  3   8]]\n"
          ]
        }
      ]
    },
    {
      "cell_type": "code",
      "source": [
        "from sklearn.metrics import confusion_matrix\n",
        "\n",
        "print('Confusion matrix\\n\\n', cm)\n",
        "\n",
        "cm = confusion_matrix(y_test, y_pred)\n",
        "\n",
        "print('\\nTrue Positives(TP) = ', cm[0,0])\n",
        "print('\\nTrue Negatives(TN) = ', cm[1,1])\n",
        "print('\\nFalse Positives(FP) = ', cm[0,1])\n",
        "print('\\nFalse Negatives(FN) = ', cm[1,0])\n",
        "cm_matrix = pd.DataFrame(data=cm, columns=['Actual Positive:1', 'Actual Negative:0'], \n",
        "                                 index=['Predict Positive:1', 'Predict Negative:0'])\n",
        "\n",
        "sns.heatmap(cm_matrix, annot=True, fmt='d', cmap='YlGnBu')"
      ],
      "metadata": {
        "colab": {
          "base_uri": "https://localhost:8080/",
          "height": 508
        },
        "id": "U2zr1QXU8cG6",
        "outputId": "43559471-886e-4107-e286-ec9d1d599526"
      },
      "execution_count": 235,
      "outputs": [
        {
          "output_type": "stream",
          "name": "stdout",
          "text": [
            "Confusion matrix\n",
            "\n",
            " [[194  10]\n",
            " [  5   6]]\n",
            "\n",
            "True Positives(TP) =  194\n",
            "\n",
            "True Negatives(TN) =  8\n",
            "\n",
            "False Positives(FP) =  10\n",
            "\n",
            "False Negatives(FN) =  3\n"
          ]
        },
        {
          "output_type": "execute_result",
          "data": {
            "text/plain": [
              "<Axes: >"
            ]
          },
          "metadata": {},
          "execution_count": 235
        },
        {
          "output_type": "display_data",
          "data": {
            "text/plain": [
              "<Figure size 432x288 with 2 Axes>"
            ],
            "image/png": "[encoded data removed]"
          },
          "metadata": {}
        }
      ]
    }
  ]
}